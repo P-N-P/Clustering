{
 "metadata": {
  "language_info": {
   "codemirror_mode": {
    "name": "ipython",
    "version": 3
   },
   "file_extension": ".py",
   "mimetype": "text/x-python",
   "name": "python",
   "nbconvert_exporter": "python",
   "pygments_lexer": "ipython3",
   "version": "3.9.6"
  },
  "orig_nbformat": 4,
  "kernelspec": {
   "name": "python3",
   "display_name": "Python 3.9.6 64-bit"
  },
  "interpreter": {
   "hash": "93efbefd48bb3483f6f956ede92687b357a203165174b5ae1240e3fe00af8deb"
  }
 },
 "nbformat": 4,
 "nbformat_minor": 2,
 "cells": [
  {
   "source": [
    "# A1 Features Extraction"
   ],
   "cell_type": "markdown",
   "metadata": {}
  },
  {
   "source": [
    "import pandas as pd \n",
    "from collections import Counter\n",
    "df=pd.read_csv('Result.csv')\n",
    "i = -1\n",
    "l = list({'A', 'C', 'D', 'E', 'F', 'G', 'H', 'I', 'K', 'L', 'M', 'N', 'P', 'Q', 'R', 'S', 'T', 'V', 'W', 'Y'})\n",
    "dic = dict({'A' : 0, 'C' : 0, 'D' : 0, 'E' : 0, 'F' : 0, 'G' : 0, 'H' : 0, 'I' : 0, 'K' : 0, 'L' : 0, 'M' : 0, 'N' : 0, 'P' : 0, 'Q' : 0, 'R' : 0, 'S' : 0, 'T' : 0, 'V' : 0, 'W' : 0, 'Y' : 0 })\n",
    "for line in df['String']: \n",
    "    \n",
    "\n"
   ],
   "cell_type": "code",
   "metadata": {},
   "execution_count": 35,
   "outputs": [
    {
     "output_type": "stream",
     "name": "stderr",
     "text": [
      "C:\\Users\\Niyati\\AppData\\Local\\Temp/ipykernel_26424/3559372962.py:11: SettingWithCopyWarning: \nA value is trying to be set on a copy of a slice from a DataFrame\n\nSee the caveats in the documentation: https://pandas.pydata.org/pandas-docs/stable/user_guide/indexing.html#returning-a-view-versus-a-copy\n  df[item][i]= A\n"
     ]
    }
   ]
  },
  {
   "cell_type": "code",
   "execution_count": null,
   "metadata": {},
   "outputs": [],
   "source": [
    "for item in l:\n",
    "        A = line.count(item)\n",
    "        i = i + 1 \n",
    "        df[i][item]= A\n",
    "    \n",
    "#freq = Counter(line)\n",
    "    #for i in sorted(freq):\n",
    "    #   print((i, freq[i]), end =\" \")\n",
    "    #freq = {}\n",
    "    #for char in line: \n",
    "    #    freq[char] = freq.get(char, 0) + 1\n",
    "    #print(sorted(freq))\n",
    "\n",
    "for line in df['String']: \n",
    "    i = i + 1 \n",
    "    for item in l:\n",
    "        A = line.count(item)\n",
    "        df[i][item]= A    \n",
    "        print(A)"
   ]
  }
 ]
}