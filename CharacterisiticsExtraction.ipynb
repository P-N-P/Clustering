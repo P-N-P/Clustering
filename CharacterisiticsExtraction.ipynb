{
 "cells": [
  {
   "cell_type": "markdown",
   "source": [
    "# A1 Features Extraction"
   ],
   "metadata": {}
  },
  {
   "cell_type": "code",
   "execution_count": null,
   "source": [
    "import pandas as pd \r\n",
    "from collections import Counter\r\n",
    "df=pd.read_csv('Result.csv')\r\n",
    "i = -1\r\n",
    "l = list({'A', 'C', 'D', 'E', 'F', 'G', 'H', 'I', 'K', 'L', 'M', 'N', 'P', 'Q', 'R', 'S', 'T', 'V', 'W', 'Y'})\r\n",
    "dic = dict({'A' : 0, 'C' : 0, 'D' : 0, 'E' : 0, 'F' : 0, 'G' : 0, 'H' : 0, 'I' : 0, 'K' : 0, 'L' : 0, 'M' : 0, 'N' : 0, 'P' : 0, 'Q' : 0, 'R' : 0, 'S' : 0, 'T' : 0, 'V' : 0, 'W' : 0, 'Y' : 0 })\r\n",
    "#for line in df['String']: \r\n",
    "for line in df['String']:\r\n",
    "    i = i+ 1\r\n",
    "    for item in l:\r\n",
    "        df[item][i] = line.count(item)\r\n",
    "\r\n",
    "\r\n",
    "df.to_csv('Resultsw.csv')"
   ],
   "outputs": [],
   "metadata": {}
  },
  {
   "cell_type": "code",
   "execution_count": null,
   "source": [
    "dic2 = dict({'H': 1, 'R': 1, 'K': 1, 'D': 2, 'E': 2, 'N': 2, 'Q': 2, 'C': 3, 'S': 4, 'T': 4, 'P': 4, 'A':4, 'G': 4, 'M': 5, 'I': 5, 'L': 5, 'V': 5, 'F': 6, 'Y': 6, 'W': 6})\r\n",
    "df1 = pd.read_csv('Data.csv')\r\n",
    "j = -1\r\n",
    "for line in df1['String']:\r\n",
    "    j = j+1\r\n",
    "    for char in line:\r\n",
    "        val = dic2[char]\r\n",
    "        a = str(val)\r\n",
    "        df1[a][j] = df1[a][j] + 1\r\n",
    "\r\n",
    "df1.to_csv('ResultE1.csv')      \r\n",
    "\r\n"
   ],
   "outputs": [],
   "metadata": {}
  },
  {
   "cell_type": "code",
   "execution_count": null,
   "source": [],
   "outputs": [],
   "metadata": {}
  },
  {
   "cell_type": "code",
   "execution_count": 23,
   "source": [
    "\r\n",
    "\r\n",
    "import pandas as pd \r\n",
    "from collections import Counter\r\n",
    "\r\n",
    "dic2 = dict({'H': 1, 'R': 1, 'K': 1, 'D': 2, 'E': 2, 'N': 2, 'Q': 2, 'C': 3, 'S': 4, 'T': 4, 'P': 4, 'A':4, 'G': 4, 'M': 5, 'I': 5, 'L': 5, 'V': 5, 'F': 6, 'Y': 6, 'W': 6})\r\n",
    "df2 = pd.read_csv('DataE2.csv')\r\n",
    "k = -1\r\n",
    "for line in df2['String']:\r\n",
    "    k = k+1\r\n",
    "    l = len(line)\r\n",
    "    s = ''\r\n",
    "    for i in range(0, l-1):\r\n",
    "        val1 = dic2[line[i]]\r\n",
    "        val2 = dic2[line[i+1]]\r\n",
    "        #print(val1, val2)\r\n",
    "        a = 'e2'+ str(val1) + str(val2)\r\n",
    "        df2[a][k] = df2[a][k] + 1\r\n",
    "   \r\n",
    "\r\n",
    "\r\n",
    "df2.to_csv('ResultE2.csv')  "
   ],
   "outputs": [
    {
     "output_type": "stream",
     "name": "stderr",
     "text": [
      "<ipython-input-23-39cbf3e35330>:16: SettingWithCopyWarning: \n",
      "A value is trying to be set on a copy of a slice from a DataFrame\n",
      "\n",
      "See the caveats in the documentation: https://pandas.pydata.org/pandas-docs/stable/user_guide/indexing.html#returning-a-view-versus-a-copy\n",
      "  df2[a][k] = df2[a][k] + 1\n"
     ]
    }
   ],
   "metadata": {}
  },
  {
   "cell_type": "code",
   "execution_count": null,
   "source": [],
   "outputs": [],
   "metadata": {}
  }
 ],
 "metadata": {
  "interpreter": {
   "hash": "e7ef22b6a955df32e76d4354b9a949e10f474474501a86ca1211c9e31664a6bb"
  },
  "kernelspec": {
   "name": "python3",
   "display_name": "Python 3.9.5 64-bit"
  },
  "language_info": {
   "codemirror_mode": {
    "name": "ipython",
    "version": 3
   },
   "file_extension": ".py",
   "mimetype": "text/x-python",
   "name": "python",
   "nbconvert_exporter": "python",
   "pygments_lexer": "ipython3",
   "version": "3.9.5"
  }
 },
 "nbformat": 4,
 "nbformat_minor": 4
}