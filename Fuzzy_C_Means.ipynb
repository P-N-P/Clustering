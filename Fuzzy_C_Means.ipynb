{
 "cells": [
  {
   "cell_type": "code",
   "execution_count": 1,
   "id": "539a9728-2bea-4b51-be16-29128a17a5d7",
   "metadata": {},
   "outputs": [],
   "source": [
    "import numpy as np\n",
    "import matplotlib.pyplot as plt\n",
    "import random\n",
    "import pandas as pd\n",
    "import seaborn as sns\n",
    "from sklearn.preprocessing import LabelEncoder\n",
    "le = LabelEncoder()"
   ]
  },
  {
   "cell_type": "code",
   "execution_count": 2,
   "id": "1193cacf-225c-4706-9615-152825a888e4",
   "metadata": {},
   "outputs": [],
   "source": [
    "df = pd.read_csv('iris.csv')\n"
   ]
  },
  {
   "cell_type": "code",
   "execution_count": 3,
   "id": "9cca7a80-1f80-43e2-8c81-08c2ca2690bf",
   "metadata": {},
   "outputs": [
    {
     "data": {
      "text/plain": [
       "(150, 5)"
      ]
     },
     "execution_count": 3,
     "metadata": {},
     "output_type": "execute_result"
    }
   ],
   "source": [
    "df.shape\n"
   ]
  },
  {
   "cell_type": "code",
   "execution_count": 4,
   "id": "68d961eb-a575-4be9-ac38-2acb269dfd0f",
   "metadata": {},
   "outputs": [
    {
     "data": {
      "text/html": [
       "<div>\n",
       "<style scoped>\n",
       "    .dataframe tbody tr th:only-of-type {\n",
       "        vertical-align: middle;\n",
       "    }\n",
       "\n",
       "    .dataframe tbody tr th {\n",
       "        vertical-align: top;\n",
       "    }\n",
       "\n",
       "    .dataframe thead th {\n",
       "        text-align: right;\n",
       "    }\n",
       "</style>\n",
       "<table border=\"1\" class=\"dataframe\">\n",
       "  <thead>\n",
       "    <tr style=\"text-align: right;\">\n",
       "      <th></th>\n",
       "      <th>sepal_length</th>\n",
       "      <th>sepal_width</th>\n",
       "      <th>petal_length</th>\n",
       "      <th>petal_width</th>\n",
       "    </tr>\n",
       "  </thead>\n",
       "  <tbody>\n",
       "    <tr>\n",
       "      <th>count</th>\n",
       "      <td>150.000000</td>\n",
       "      <td>150.000000</td>\n",
       "      <td>150.000000</td>\n",
       "      <td>150.000000</td>\n",
       "    </tr>\n",
       "    <tr>\n",
       "      <th>mean</th>\n",
       "      <td>5.843333</td>\n",
       "      <td>3.054000</td>\n",
       "      <td>3.758667</td>\n",
       "      <td>1.198667</td>\n",
       "    </tr>\n",
       "    <tr>\n",
       "      <th>std</th>\n",
       "      <td>0.828066</td>\n",
       "      <td>0.433594</td>\n",
       "      <td>1.764420</td>\n",
       "      <td>0.763161</td>\n",
       "    </tr>\n",
       "    <tr>\n",
       "      <th>min</th>\n",
       "      <td>4.300000</td>\n",
       "      <td>2.000000</td>\n",
       "      <td>1.000000</td>\n",
       "      <td>0.100000</td>\n",
       "    </tr>\n",
       "    <tr>\n",
       "      <th>25%</th>\n",
       "      <td>5.100000</td>\n",
       "      <td>2.800000</td>\n",
       "      <td>1.600000</td>\n",
       "      <td>0.300000</td>\n",
       "    </tr>\n",
       "    <tr>\n",
       "      <th>50%</th>\n",
       "      <td>5.800000</td>\n",
       "      <td>3.000000</td>\n",
       "      <td>4.350000</td>\n",
       "      <td>1.300000</td>\n",
       "    </tr>\n",
       "    <tr>\n",
       "      <th>75%</th>\n",
       "      <td>6.400000</td>\n",
       "      <td>3.300000</td>\n",
       "      <td>5.100000</td>\n",
       "      <td>1.800000</td>\n",
       "    </tr>\n",
       "    <tr>\n",
       "      <th>max</th>\n",
       "      <td>7.900000</td>\n",
       "      <td>4.400000</td>\n",
       "      <td>6.900000</td>\n",
       "      <td>2.500000</td>\n",
       "    </tr>\n",
       "  </tbody>\n",
       "</table>\n",
       "</div>"
      ],
      "text/plain": [
       "       sepal_length  sepal_width  petal_length  petal_width\n",
       "count    150.000000   150.000000    150.000000   150.000000\n",
       "mean       5.843333     3.054000      3.758667     1.198667\n",
       "std        0.828066     0.433594      1.764420     0.763161\n",
       "min        4.300000     2.000000      1.000000     0.100000\n",
       "25%        5.100000     2.800000      1.600000     0.300000\n",
       "50%        5.800000     3.000000      4.350000     1.300000\n",
       "75%        6.400000     3.300000      5.100000     1.800000\n",
       "max        7.900000     4.400000      6.900000     2.500000"
      ]
     },
     "execution_count": 4,
     "metadata": {},
     "output_type": "execute_result"
    }
   ],
   "source": [
    "df.head()\n",
    "df.describe()"
   ]
  },
  {
   "cell_type": "code",
   "execution_count": 5,
   "id": "98d04e69-0a96-4a9d-9ac4-717a728a711d",
   "metadata": {},
   "outputs": [],
   "source": [
    "df['species'] = le.fit_transform(df['species'])"
   ]
  },
  {
   "cell_type": "code",
   "execution_count": 6,
   "id": "00854257-f376-43d2-b937-1e12b23a8dc2",
   "metadata": {},
   "outputs": [
    {
     "data": {
      "text/html": [
       "<div>\n",
       "<style scoped>\n",
       "    .dataframe tbody tr th:only-of-type {\n",
       "        vertical-align: middle;\n",
       "    }\n",
       "\n",
       "    .dataframe tbody tr th {\n",
       "        vertical-align: top;\n",
       "    }\n",
       "\n",
       "    .dataframe thead th {\n",
       "        text-align: right;\n",
       "    }\n",
       "</style>\n",
       "<table border=\"1\" class=\"dataframe\">\n",
       "  <thead>\n",
       "    <tr style=\"text-align: right;\">\n",
       "      <th></th>\n",
       "      <th>sepal_length</th>\n",
       "      <th>sepal_width</th>\n",
       "      <th>petal_length</th>\n",
       "      <th>petal_width</th>\n",
       "      <th>species</th>\n",
       "    </tr>\n",
       "  </thead>\n",
       "  <tbody>\n",
       "    <tr>\n",
       "      <th>0</th>\n",
       "      <td>5.1</td>\n",
       "      <td>3.5</td>\n",
       "      <td>1.4</td>\n",
       "      <td>0.2</td>\n",
       "      <td>0</td>\n",
       "    </tr>\n",
       "    <tr>\n",
       "      <th>1</th>\n",
       "      <td>4.9</td>\n",
       "      <td>3.0</td>\n",
       "      <td>1.4</td>\n",
       "      <td>0.2</td>\n",
       "      <td>0</td>\n",
       "    </tr>\n",
       "    <tr>\n",
       "      <th>2</th>\n",
       "      <td>4.7</td>\n",
       "      <td>3.2</td>\n",
       "      <td>1.3</td>\n",
       "      <td>0.2</td>\n",
       "      <td>0</td>\n",
       "    </tr>\n",
       "    <tr>\n",
       "      <th>3</th>\n",
       "      <td>4.6</td>\n",
       "      <td>3.1</td>\n",
       "      <td>1.5</td>\n",
       "      <td>0.2</td>\n",
       "      <td>0</td>\n",
       "    </tr>\n",
       "    <tr>\n",
       "      <th>4</th>\n",
       "      <td>5.0</td>\n",
       "      <td>3.6</td>\n",
       "      <td>1.4</td>\n",
       "      <td>0.2</td>\n",
       "      <td>0</td>\n",
       "    </tr>\n",
       "  </tbody>\n",
       "</table>\n",
       "</div>"
      ],
      "text/plain": [
       "   sepal_length  sepal_width  petal_length  petal_width  species\n",
       "0           5.1          3.5           1.4          0.2        0\n",
       "1           4.9          3.0           1.4          0.2        0\n",
       "2           4.7          3.2           1.3          0.2        0\n",
       "3           4.6          3.1           1.5          0.2        0\n",
       "4           5.0          3.6           1.4          0.2        0"
      ]
     },
     "execution_count": 6,
     "metadata": {},
     "output_type": "execute_result"
    }
   ],
   "source": [
    "df.head()"
   ]
  },
  {
   "cell_type": "code",
   "execution_count": 7,
   "id": "2d19ad29-04ab-4ea0-a12c-519d31739afa",
   "metadata": {},
   "outputs": [
    {
     "data": {
      "text/html": [
       "<div>\n",
       "<style scoped>\n",
       "    .dataframe tbody tr th:only-of-type {\n",
       "        vertical-align: middle;\n",
       "    }\n",
       "\n",
       "    .dataframe tbody tr th {\n",
       "        vertical-align: top;\n",
       "    }\n",
       "\n",
       "    .dataframe thead th {\n",
       "        text-align: right;\n",
       "    }\n",
       "</style>\n",
       "<table border=\"1\" class=\"dataframe\">\n",
       "  <thead>\n",
       "    <tr style=\"text-align: right;\">\n",
       "      <th></th>\n",
       "      <th>sepal_length</th>\n",
       "      <th>sepal_width</th>\n",
       "      <th>petal_length</th>\n",
       "      <th>petal_width</th>\n",
       "      <th>species</th>\n",
       "    </tr>\n",
       "  </thead>\n",
       "  <tbody>\n",
       "    <tr>\n",
       "      <th>145</th>\n",
       "      <td>6.7</td>\n",
       "      <td>3.0</td>\n",
       "      <td>5.2</td>\n",
       "      <td>2.3</td>\n",
       "      <td>2</td>\n",
       "    </tr>\n",
       "    <tr>\n",
       "      <th>146</th>\n",
       "      <td>6.3</td>\n",
       "      <td>2.5</td>\n",
       "      <td>5.0</td>\n",
       "      <td>1.9</td>\n",
       "      <td>2</td>\n",
       "    </tr>\n",
       "    <tr>\n",
       "      <th>147</th>\n",
       "      <td>6.5</td>\n",
       "      <td>3.0</td>\n",
       "      <td>5.2</td>\n",
       "      <td>2.0</td>\n",
       "      <td>2</td>\n",
       "    </tr>\n",
       "    <tr>\n",
       "      <th>148</th>\n",
       "      <td>6.2</td>\n",
       "      <td>3.4</td>\n",
       "      <td>5.4</td>\n",
       "      <td>2.3</td>\n",
       "      <td>2</td>\n",
       "    </tr>\n",
       "    <tr>\n",
       "      <th>149</th>\n",
       "      <td>5.9</td>\n",
       "      <td>3.0</td>\n",
       "      <td>5.1</td>\n",
       "      <td>1.8</td>\n",
       "      <td>2</td>\n",
       "    </tr>\n",
       "  </tbody>\n",
       "</table>\n",
       "</div>"
      ],
      "text/plain": [
       "     sepal_length  sepal_width  petal_length  petal_width  species\n",
       "145           6.7          3.0           5.2          2.3        2\n",
       "146           6.3          2.5           5.0          1.9        2\n",
       "147           6.5          3.0           5.2          2.0        2\n",
       "148           6.2          3.4           5.4          2.3        2\n",
       "149           5.9          3.0           5.1          1.8        2"
      ]
     },
     "execution_count": 7,
     "metadata": {},
     "output_type": "execute_result"
    }
   ],
   "source": [
    "df.tail()"
   ]
  },
  {
   "cell_type": "code",
   "execution_count": 8,
   "id": "87cff58c-e0d8-414d-85a7-b4d3a2e5af35",
   "metadata": {},
   "outputs": [],
   "source": [
    "data = df.values[:,:4]"
   ]
  },
  {
   "cell_type": "code",
   "execution_count": 9,
   "id": "82aedbc8-e796-423f-9ff2-5cae75baa502",
   "metadata": {},
   "outputs": [],
   "source": [
    "clusters = 3   #setosa, virginca, ver..\n",
    "n = 150\n",
    "s = 4\n",
    "p= 2\n"
   ]
  },
  {
   "cell_type": "code",
   "execution_count": 10,
   "id": "76f7bc68-ec79-429e-b76a-852017325320",
   "metadata": {},
   "outputs": [
    {
     "data": {
      "text/plain": [
       "array([5.84333333, 3.054     , 3.75866667, 1.19866667])"
      ]
     },
     "execution_count": 10,
     "metadata": {},
     "output_type": "execute_result"
    }
   ],
   "source": [
    "mean = np.mean(data, axis = 0)\n",
    "mean"
   ]
  },
  {
   "cell_type": "code",
   "execution_count": 13,
   "id": "10df9943-11c1-404e-bb64-4343e155c5e3",
   "metadata": {},
   "outputs": [
    {
     "data": {
      "text/plain": [
       "array([0.82530129, 0.43214658, 1.75852918, 0.76061262])"
      ]
     },
     "execution_count": 13,
     "metadata": {},
     "output_type": "execute_result"
    }
   ],
   "source": [
    "std = np.std(data, axis = 0)\n",
    "std"
   ]
  },
  {
   "cell_type": "code",
   "execution_count": 14,
   "id": "fe48c911-7aa3-4919-8c8c-1d3a176a3356",
   "metadata": {},
   "outputs": [
    {
     "data": {
      "text/plain": [
       "array([[0.17313325, 0.36328852, 0.46357823],\n",
       "       [0.42447038, 0.14277206, 0.43275756],\n",
       "       [0.1211914 , 0.56916663, 0.30964197],\n",
       "       [0.64388126, 0.09402449, 0.26209426],\n",
       "       [0.52733783, 0.06531415, 0.40734802],\n",
       "       [0.42551383, 0.22941128, 0.34507489],\n",
       "       [0.16620678, 0.76426171, 0.06953151],\n",
       "       [0.6885871 , 0.2399819 , 0.071431  ],\n",
       "       [0.17153916, 0.09444825, 0.73401259],\n",
       "       [0.17506754, 0.67945904, 0.14547342],\n",
       "       [0.16256125, 0.24381814, 0.59362062],\n",
       "       [0.48878243, 0.00661618, 0.50460139],\n",
       "       [0.6801851 , 0.02458579, 0.29522911],\n",
       "       [0.04812318, 0.47699348, 0.47488335],\n",
       "       [0.15469659, 0.79085366, 0.05444975],\n",
       "       [0.0558678 , 0.79168222, 0.15244998],\n",
       "       [0.0161845 , 0.26183896, 0.72197654],\n",
       "       [0.48934117, 0.41980242, 0.09085641],\n",
       "       [0.09632537, 0.23132996, 0.67234467],\n",
       "       [0.26514535, 0.15988226, 0.57497239],\n",
       "       [0.25200737, 0.63099658, 0.11699605],\n",
       "       [0.22842436, 0.26704171, 0.50453393],\n",
       "       [0.54729469, 0.28939949, 0.16330582],\n",
       "       [0.03589344, 0.2625101 , 0.70159646],\n",
       "       [0.22227059, 0.74608221, 0.03164721],\n",
       "       [0.71698549, 0.20540004, 0.07761447],\n",
       "       [0.06237896, 0.45243345, 0.48518759],\n",
       "       [0.48345887, 0.09384037, 0.42270076],\n",
       "       [0.49572875, 0.48851164, 0.01575961],\n",
       "       [0.04513918, 0.07352609, 0.88133473],\n",
       "       [0.90753204, 0.01066539, 0.08180256],\n",
       "       [0.22035393, 0.2760513 , 0.50359477],\n",
       "       [0.11449998, 0.17827502, 0.707225  ],\n",
       "       [0.55144451, 0.19527808, 0.25327741],\n",
       "       [0.09796929, 0.66132171, 0.240709  ],\n",
       "       [0.23032991, 0.2244712 , 0.54519889],\n",
       "       [0.6936219 , 0.1571003 , 0.1492778 ],\n",
       "       [0.76507675, 0.12161422, 0.11330904],\n",
       "       [0.69806285, 0.29559555, 0.0063416 ],\n",
       "       [0.72177635, 0.03192454, 0.24629911],\n",
       "       [0.01203473, 0.63209167, 0.3558736 ],\n",
       "       [0.69248875, 0.27898111, 0.02853013],\n",
       "       [0.20393324, 0.37068735, 0.42537942],\n",
       "       [0.25590197, 0.33737808, 0.40671995],\n",
       "       [0.17197078, 0.21221694, 0.61581227],\n",
       "       [0.10949568, 0.43552813, 0.4549762 ],\n",
       "       [0.30174915, 0.3230494 , 0.37520145],\n",
       "       [0.58764328, 0.15880342, 0.2535533 ],\n",
       "       [0.13056237, 0.23147506, 0.63796258],\n",
       "       [0.27078439, 0.52677112, 0.20244449],\n",
       "       [0.24701217, 0.25352158, 0.49946624],\n",
       "       [0.57197771, 0.04333316, 0.38468913],\n",
       "       [0.43257499, 0.49770386, 0.06972114],\n",
       "       [0.47475684, 0.27270148, 0.25254168],\n",
       "       [0.49000803, 0.09866992, 0.41132205],\n",
       "       [0.54519568, 0.0352222 , 0.41958212],\n",
       "       [0.53947101, 0.2783104 , 0.18221859],\n",
       "       [0.45990836, 0.52903174, 0.0110599 ],\n",
       "       [0.15251987, 0.5060937 , 0.34138642],\n",
       "       [0.88622212, 0.00571038, 0.1080675 ],\n",
       "       [0.43469249, 0.52800494, 0.03730256],\n",
       "       [0.47161346, 0.41758643, 0.11080011],\n",
       "       [0.06163726, 0.37775078, 0.56061196],\n",
       "       [0.37551621, 0.23295858, 0.39152521],\n",
       "       [0.29221005, 0.07123201, 0.63655794],\n",
       "       [0.37668189, 0.5767808 , 0.04653731],\n",
       "       [0.54787991, 0.06977379, 0.3823463 ],\n",
       "       [0.30465601, 0.46461726, 0.23072673],\n",
       "       [0.03775271, 0.94139654, 0.02085076],\n",
       "       [0.52466257, 0.26956558, 0.20577185],\n",
       "       [0.6563698 , 0.1299603 , 0.2136699 ],\n",
       "       [0.19435041, 0.57792271, 0.22772688],\n",
       "       [0.02744613, 0.05114528, 0.92140859],\n",
       "       [0.31168292, 0.0968537 , 0.59146338],\n",
       "       [0.55885887, 0.16226557, 0.27887556],\n",
       "       [0.07341116, 0.46160026, 0.46498858],\n",
       "       [0.0495945 , 0.60266595, 0.34773955],\n",
       "       [0.27012324, 0.6945811 , 0.03529566],\n",
       "       [0.25352857, 0.00211774, 0.7443537 ],\n",
       "       [0.70812568, 0.00474312, 0.2871312 ],\n",
       "       [0.13748648, 0.17096838, 0.69154515],\n",
       "       [0.17857186, 0.25538809, 0.56604005],\n",
       "       [0.63438588, 0.0652714 , 0.30034272],\n",
       "       [0.81287876, 0.12714178, 0.05997946],\n",
       "       [0.20536169, 0.00186755, 0.79277076],\n",
       "       [0.80453906, 0.06285149, 0.13260944],\n",
       "       [0.38052512, 0.15281778, 0.4666571 ],\n",
       "       [0.00703874, 0.96792876, 0.0250325 ],\n",
       "       [0.84456479, 0.07940496, 0.07603024],\n",
       "       [0.20505218, 0.11716767, 0.67778015],\n",
       "       [0.71455   , 0.12498755, 0.16046245],\n",
       "       [0.00421384, 0.64486618, 0.35091999],\n",
       "       [0.23471507, 0.0094159 , 0.75586903],\n",
       "       [0.09473984, 0.7967594 , 0.10850075],\n",
       "       [0.21653188, 0.34246293, 0.44100518],\n",
       "       [0.21148689, 0.04698601, 0.7415271 ],\n",
       "       [0.0306456 , 0.80348792, 0.16586648],\n",
       "       [0.04070751, 0.5082508 , 0.45104169],\n",
       "       [0.31882145, 0.17330946, 0.50786909],\n",
       "       [0.1785453 , 0.72992998, 0.09152472],\n",
       "       [0.48293465, 0.12327884, 0.39378651],\n",
       "       [0.15561205, 0.05306791, 0.79132004],\n",
       "       [0.78166671, 0.0320708 , 0.18626249],\n",
       "       [0.30623919, 0.00297862, 0.69078219],\n",
       "       [0.52690151, 0.19186286, 0.28123563],\n",
       "       [0.48549904, 0.45500795, 0.05949301],\n",
       "       [0.19274621, 0.09054895, 0.71670484],\n",
       "       [0.22774556, 0.4187361 , 0.35351834],\n",
       "       [0.22657195, 0.37149441, 0.40193364],\n",
       "       [0.04091113, 0.89607695, 0.06301192],\n",
       "       [0.06400637, 0.00778147, 0.92821216],\n",
       "       [0.58569432, 0.23543066, 0.17887502],\n",
       "       [0.10625646, 0.74767143, 0.14607211],\n",
       "       [0.15689452, 0.59756629, 0.24553919],\n",
       "       [0.45512717, 0.02632246, 0.51855037],\n",
       "       [0.2471919 , 0.41543544, 0.33737266],\n",
       "       [0.79415731, 0.12043133, 0.08541136],\n",
       "       [0.18532666, 0.42727311, 0.38740023],\n",
       "       [0.13019067, 0.54953141, 0.32027792],\n",
       "       [0.5120799 , 0.32104178, 0.16687832],\n",
       "       [0.22483105, 0.73391817, 0.04125077],\n",
       "       [0.40469867, 0.26917093, 0.3261304 ],\n",
       "       [0.19806983, 0.23164827, 0.5702819 ],\n",
       "       [0.01594618, 0.91273098, 0.07132284],\n",
       "       [0.17101468, 0.40526949, 0.42371583],\n",
       "       [0.2419145 , 0.06806274, 0.69002276],\n",
       "       [0.38278971, 0.61359476, 0.00361553],\n",
       "       [0.01845249, 0.72471724, 0.25683027],\n",
       "       [0.23530706, 0.74629696, 0.01839598],\n",
       "       [0.63913916, 0.08133843, 0.27952241],\n",
       "       [0.01699393, 0.86022298, 0.12278309],\n",
       "       [0.41853247, 0.32020462, 0.26126291],\n",
       "       [0.51987797, 0.05170553, 0.4284165 ],\n",
       "       [0.27699462, 0.6629149 , 0.06009048],\n",
       "       [0.00698869, 0.07874937, 0.91426194],\n",
       "       [0.65892037, 0.23640445, 0.10467517],\n",
       "       [0.28247049, 0.45429913, 0.26323038],\n",
       "       [0.20529599, 0.12545328, 0.66925073],\n",
       "       [0.76748766, 0.05132352, 0.18118882],\n",
       "       [0.13187508, 0.79608092, 0.07204401],\n",
       "       [0.5660961 , 0.13498044, 0.29892346],\n",
       "       [0.18968013, 0.13592487, 0.674395  ],\n",
       "       [0.54980381, 0.00518385, 0.44501235],\n",
       "       [0.05809164, 0.10557907, 0.83632929],\n",
       "       [0.16826628, 0.31327265, 0.51846108],\n",
       "       [0.09692572, 0.07104813, 0.83202616],\n",
       "       [0.320889  , 0.29519669, 0.38391431],\n",
       "       [0.32997184, 0.17152185, 0.49850632],\n",
       "       [0.44965339, 0.05698118, 0.49336543],\n",
       "       [0.73001757, 0.01656195, 0.25342048]])"
      ]
     },
     "execution_count": 14,
     "metadata": {},
     "output_type": "execute_result"
    }
   ],
   "source": [
    "weight = np.random.dirichlet(np.ones(clusters), size = len(data))             #assigning random weights\n",
    "weight"
   ]
  },
  {
   "cell_type": "code",
   "execution_count": 15,
   "id": "7e3e1c45-2553-498a-a52a-8bcb6d7c99ce",
   "metadata": {},
   "outputs": [],
   "source": [
    "val = 100\n",
    "error = np.zeros((n,clusters))"
   ]
  },
  {
   "cell_type": "code",
   "execution_count": 16,
   "id": "711d86d7-5d53-4206-9bb5-03305cf04361",
   "metadata": {},
   "outputs": [],
   "source": [
    "for z in range(70):\n",
    "\n",
    "    wp = np.multiply(weight, weight)        #with p= 2, power of weight is raised to 2\n",
    "    sumw = np.sum(wp, axis =0)              #calculating sum of squares of weights of same clusters\n",
    "    \n",
    "    centroid = np.transpose(np.divide((np.dot(np.transpose(data), wp)), sumw))       #calculating the centroid by transposing data matrix and multiplying\n",
    "                                                                       #it with the wp matrix, transposing it again to get the accurate centroid amtrix\n",
    "    distances = np.zeros((n,clusters))       #initalising the matrix clusters\n",
    "\n",
    "    for i in range(clusters):                 #finding the eucledian disance between xj and cj\n",
    "        distances[:,i] = np.linalg.norm(data - centroid[i], axis=1)\n",
    "    \n",
    "    distsum = np.zeros((n,clusters))\n",
    "\n",
    "    wt = np.zeros((n,clusters))\n",
    "    for i in range(len(distances)):\n",
    "        distsum[i] = 1/distances[i]\n",
    "\n",
    "    invsum = np.sum(distsum, axis = 1)    \n",
    "    for i in range(len(distances)):\n",
    "        for j in range(0, 3):\n",
    "            wt[i][j] = (float(1/distances[i][j]))/(float(invsum[i]))\n",
    "\n",
    "    error = np.absolute(wt - weight)\n",
    "    weight = np.array(wt)\n",
    "#val = np.sum(np.sum(error, axis = 1), axis = 0)\n"
   ]
  },
  {
   "cell_type": "code",
   "execution_count": 17,
   "id": "f1572306-be99-4360-a8b4-6aafc38e6439",
   "metadata": {},
   "outputs": [
    {
     "name": "stdout",
     "output_type": "stream",
     "text": [
      "1.3836660730376371e-08\n"
     ]
    }
   ],
   "source": [
    "    #print(val)\n",
    "m = np.sum(error, axis = 1)\n",
    "print(float(np.sum(m)))"
   ]
  },
  {
   "cell_type": "code",
   "execution_count": 18,
   "id": "7e9b0677-d658-4f79-944f-b5656a2b96c9",
   "metadata": {},
   "outputs": [],
   "source": [
    "category = np.zeros(n)\n",
    "for i in range(len(weight)):\n",
    "    maxim = max(weight[i])\n",
    "\n",
    "    if weight[i][0] == maxim:\n",
    "        category[i] = 0\n",
    "\n",
    "    elif weight[i][1] == maxim:\n",
    "        category[i] = 1\n",
    "\n",
    "    elif weight[i][2] == maxim:\n",
    "        category[i] = 2"
   ]
  },
  {
   "cell_type": "code",
   "execution_count": 19,
   "id": "ad0b42b8-20d0-456b-9db2-ead638ea6358",
   "metadata": {},
   "outputs": [
    {
     "name": "stdout",
     "output_type": "stream",
     "text": [
      "[0. 0. 0. 0. 0. 0. 0. 0. 0. 0. 0. 0. 0. 0. 0. 0. 0. 0. 0. 0. 0. 0. 0. 0.\n",
      " 0. 0. 0. 0. 0. 0. 0. 0. 0. 0. 0. 0. 0. 0. 0. 0. 0. 0. 0. 0. 0. 0. 0. 0.\n",
      " 0. 0. 1. 2. 1. 2. 2. 2. 2. 2. 2. 2. 2. 2. 2. 2. 2. 2. 2. 2. 2. 2. 2. 2.\n",
      " 2. 2. 2. 2. 1. 1. 2. 2. 2. 2. 2. 1. 2. 2. 1. 2. 2. 2. 2. 2. 2. 2. 2. 2.\n",
      " 2. 2. 0. 2. 1. 1. 1. 1. 1. 1. 2. 1. 1. 1. 1. 1. 1. 2. 1. 1. 1. 1. 1. 2.\n",
      " 1. 2. 1. 1. 1. 1. 2. 1. 1. 1. 1. 1. 1. 1. 1. 1. 1. 1. 2. 1. 1. 1. 1. 1.\n",
      " 1. 1. 1. 1. 1. 1.]\n"
     ]
    }
   ],
   "source": [
    "print(category)"
   ]
  },
  {
   "cell_type": "code",
   "execution_count": 20,
   "id": "e77a8b09-eb35-4ead-8bc3-6a7924ac9db8",
   "metadata": {},
   "outputs": [
    {
     "data": {
      "image/png": "[encoded data removed]",
      "text/plain": [
       "<Figure size 432x288 with 1 Axes>"
      ]
     },
     "metadata": {
      "needs_background": "light"
     },
     "output_type": "display_data"
    }
   ],
   "source": [
    "colors = ['red', 'blue', 'green']\n",
    "species = [0, 1, 2]\n",
    "for i in range(3):\n",
    "    x = df[df['species'] == species[i]]\n",
    "    plt.scatter(x['sepal_length'], x['sepal_width'], c = colors[i], label = species[i])"
   ]
  },
  {
   "cell_type": "code",
   "execution_count": 21,
   "id": "846d3b31-5e81-415f-85ed-084efc635fbf",
   "metadata": {},
   "outputs": [
    {
     "data": {
      "image/png": "[encoded data removed]",
      "text/plain": [
       "<Figure size 432x288 with 1 Axes>"
      ]
     },
     "metadata": {
      "needs_background": "light"
     },
     "output_type": "display_data"
    }
   ],
   "source": [
    "for i in range(n):\n",
    "    plt.scatter(data[i, 0], data[i,1], color = colors[int(category[i])], label = category[i])"
   ]
  },
  {
   "cell_type": "code",
   "execution_count": 23,
   "id": "b0824b38-d911-40d6-bee6-80670bdceaf2",
   "metadata": {},
   "outputs": [
    {
     "data": {
      "text/plain": [
       "array([0., 0., 0., 0., 0., 0., 0., 0., 0., 0., 0., 0., 0., 0., 0., 0., 0.,\n",
       "       0., 0., 0., 0., 0., 0., 0., 0., 0., 0., 0., 0., 0., 0., 0., 0., 0.,\n",
       "       0., 0., 0., 0., 0., 0., 0., 0., 0., 0., 0., 0., 0., 0., 0., 0., 1.,\n",
       "       2., 1., 2., 2., 2., 2., 2., 2., 2., 2., 2., 2., 2., 2., 2., 2., 2.,\n",
       "       2., 2., 2., 2., 2., 2., 2., 2., 1., 1., 2., 2., 2., 2., 2., 1., 2.,\n",
       "       2., 1., 2., 2., 2., 2., 2., 2., 2., 2., 2., 2., 2., 0., 2., 1., 1.,\n",
       "       1., 1., 1., 1., 2., 1., 1., 1., 1., 1., 1., 2., 1., 1., 1., 1., 1.,\n",
       "       2., 1., 2., 1., 1., 1., 1., 2., 1., 1., 1., 1., 1., 1., 1., 1., 1.,\n",
       "       1., 1., 2., 1., 1., 1., 1., 1., 1., 1., 1., 1., 1., 1.])"
      ]
     },
     "execution_count": 23,
     "metadata": {},
     "output_type": "execute_result"
    }
   ],
   "source": [
    "category"
   ]
  },
  {
   "cell_type": "code",
   "execution_count": 24,
   "id": "a101d1a1-5636-4aa8-bd24-20e973f91ed3",
   "metadata": {},
   "outputs": [
    {
     "data": {
      "text/plain": [
       "0      0\n",
       "1      0\n",
       "2      0\n",
       "3      0\n",
       "4      0\n",
       "      ..\n",
       "145    2\n",
       "146    2\n",
       "147    2\n",
       "148    2\n",
       "149    2\n",
       "Name: species, Length: 150, dtype: int32"
      ]
     },
     "execution_count": 24,
     "metadata": {},
     "output_type": "execute_result"
    }
   ],
   "source": [
    "df['species']"
   ]
  },
  {
   "cell_type": "code",
   "execution_count": 25,
   "id": "83411048-a2dd-415b-b26a-da0e4038b29b",
   "metadata": {},
   "outputs": [
    {
     "name": "stdout",
     "output_type": "stream",
     "text": [
      "51 50 49\n"
     ]
    }
   ],
   "source": [
    "sp =0\n",
    "sp2 = 0\n",
    "sp3= 0\n",
    "for i in range(n):\n",
    "    if category[i] == 0:\n",
    "        sp += 1\n",
    "    elif category[i] == 1:\n",
    "        sp2 += 1\n",
    "    elif category[i] == 2:\n",
    "        sp3 += 1\n",
    "print(sp, sp2, sp3)    "
   ]
  },
  {
   "cell_type": "code",
   "execution_count": null,
   "id": "33027825-4852-4a6f-8e83-4f36e38be4b7",
   "metadata": {},
   "outputs": [],
   "source": []
  }
 ],
 "metadata": {
  "kernelspec": {
   "display_name": "Python 3",
   "language": "python",
   "name": "python3"
  },
  "language_info": {
   "codemirror_mode": {
    "name": "ipython",
    "version": 3
   },
   "file_extension": ".py",
   "mimetype": "text/x-python",
   "name": "python",
   "nbconvert_exporter": "python",
   "pygments_lexer": "ipython3",
   "version": "3.8.2"
  }
 },
 "nbformat": 4,
 "nbformat_minor": 5
}
