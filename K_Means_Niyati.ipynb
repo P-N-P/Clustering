{
 "metadata": {
  "language_info": {
   "codemirror_mode": {
    "name": "ipython",
    "version": 3
   },
   "file_extension": ".py",
   "mimetype": "text/x-python",
   "name": "python",
   "nbconvert_exporter": "python",
   "pygments_lexer": "ipython3",
   "version": "3.9.4"
  },
  "orig_nbformat": 2,
  "kernelspec": {
   "name": "python394jvsc74a57bd0db1a8c55cd8c57749aba357ad6d7f02ea33a41f5335b95db64c81822b40200a7",
   "display_name": "Python 3.9.4 64-bit"
  },
  "metadata": {
   "interpreter": {
    "hash": "db1a8c55cd8c57749aba357ad6d7f02ea33a41f5335b95db64c81822b40200a7"
   }
  }
 },
 "nbformat": 4,
 "nbformat_minor": 2,
 "cells": [
  {
   "source": [
    "# K-Means Clustering"
   ],
   "cell_type": "markdown",
   "metadata": {}
  },
  {
   "cell_type": "code",
   "execution_count": 7,
   "metadata": {},
   "outputs": [],
   "source": [
    "import os \n",
    "import sys \n",
    "import numpy as np \n",
    "import pandas as pd \n",
    "import matplotlib.pyplot as plt \n",
    "from sklearn.datasets import load_iris\n",
    "from sklearn.utils import shuffle \n",
    "np.random.seed(seed=0)\n",
    "# Set seed so that consistency is maintained and can debug properly "
   ]
  },
  {
   "source": [
    "## Algo "
   ],
   "cell_type": "markdown",
   "metadata": {}
  },
  {
   "cell_type": "code",
   "execution_count": 16,
   "metadata": {},
   "outputs": [],
   "source": [
    "class Kmeans:\n",
    "    def __init__(self, k = 5, num_of_iter = 10, dist_measure=\"euc\"):\n",
    "        self.k = k \n",
    "        self.num_of_iter = num_of_iter \n",
    "        self.centers = []\n",
    "        self.clusters = {}\n",
    "        self.d_measure = dist_measure \n",
    "\n",
    "        for i in range(k):\n",
    "            self.clusters[i] = [] \n",
    "        \n",
    "    def dist_measure(self, a, b):\n",
    "        if self.d_measure == \"euc\" : \n",
    "            return np.sum((a-b)**2)\n",
    "\n",
    "    def dist_array(self, data, centers):\n",
    "        distance = np.array([[self.dist_measure(d, i) for i in centers] for d in data])\n",
    "        return distance \n",
    "\n",
    "    def kmean_plus_plus(self, a, k):\n",
    "        # using this to ensure smarter initialization of centroids \n",
    "        centers = [] \n",
    "        a = np.array(a) \n",
    "        centers.append(np.average(a, axis=0))\n",
    "        for i in range(k-1):\n",
    "            distance = self.dist_array(a, np.array(centers))\n",
    "            if i == 0 :\n",
    "                new_centroid =  a[np.random.choice(range(a.shape[0]), replace = False,)]\n",
    "            else: \n",
    "                min_dist = [np.min(d) for d in distance]\n",
    "                index = np.argmax(min_dist)\n",
    "                new_centroid = a[index, :]\n",
    "            centers.append(new_centroid.tolist())\n",
    "        return centers\n",
    "\n",
    "    def calc_clusters(self, a, y):\n",
    "        clusters = {}\n",
    "        for i in range(self.k):\n",
    "            self.clusters[i] = []\n",
    "        a = np.array(a) \n",
    "        for data, y in zip(a, y):\n",
    "            distance = []\n",
    "            for j in range(self.k):\n",
    "                distance.append(self.dist_measure(data, self.centers[j])) \n",
    "            index = np.argmin(np.array(distance))\n",
    "            clusters[index].append(np.append(data, np.array([index, y])))\n",
    "        return clusters \n",
    "\n",
    "    def recalc_clusters(self):\n",
    "        for i in range(self.k):\n",
    "            self.centers[i] = np.average(np.array(self.clusters[i])[:,:-2], axis=0)\n",
    "        return np.array(self.centers)\n",
    "\n",
    "    def fin(self, a, y):\n",
    "        self.centers = self.kmean_plus_plus(a, self.k)\n",
    "        for i in range(self.num_of_iter):\n",
    "            self.clusters = self.calc_clusters(a, y)\n",
    "            self.centers = self.recalc_clusters()\n",
    "            "
   ]
  },
  {
   "cell_type": "code",
   "execution_count": 17,
   "metadata": {},
   "outputs": [
    {
     "output_type": "error",
     "ename": "KeyError",
     "evalue": "0",
     "traceback": [
      "\u001b[1;31m---------------------------------------------------------------------------\u001b[0m",
      "\u001b[1;31mKeyError\u001b[0m                                  Traceback (most recent call last)",
      "\u001b[1;32m<ipython-input-17-d017029c97a7>\u001b[0m in \u001b[0;36m<module>\u001b[1;34m\u001b[0m\n\u001b[0;32m      4\u001b[0m \u001b[0mdf_X\u001b[0m\u001b[1;33m,\u001b[0m \u001b[0mdf_y\u001b[0m \u001b[1;33m=\u001b[0m \u001b[0mshuffle\u001b[0m\u001b[1;33m(\u001b[0m\u001b[0mdf_X\u001b[0m\u001b[1;33m,\u001b[0m \u001b[0mdf_y\u001b[0m\u001b[1;33m,\u001b[0m \u001b[0mrandom_state\u001b[0m\u001b[1;33m=\u001b[0m\u001b[1;36m42\u001b[0m\u001b[1;33m)\u001b[0m\u001b[1;33m\u001b[0m\u001b[1;33m\u001b[0m\u001b[0m\n\u001b[0;32m      5\u001b[0m \u001b[0mclfd\u001b[0m \u001b[1;33m=\u001b[0m \u001b[0mKmeans\u001b[0m\u001b[1;33m(\u001b[0m\u001b[0mk\u001b[0m\u001b[1;33m=\u001b[0m\u001b[1;36m3\u001b[0m\u001b[1;33m,\u001b[0m \u001b[0mnum_of_iter\u001b[0m\u001b[1;33m=\u001b[0m\u001b[1;36m10\u001b[0m\u001b[1;33m)\u001b[0m\u001b[1;33m\u001b[0m\u001b[1;33m\u001b[0m\u001b[0m\n\u001b[1;32m----> 6\u001b[1;33m \u001b[0mclfd\u001b[0m\u001b[1;33m.\u001b[0m\u001b[0mfin\u001b[0m\u001b[1;33m(\u001b[0m\u001b[0mdf_X\u001b[0m\u001b[1;33m,\u001b[0m \u001b[0mdf_y\u001b[0m\u001b[1;33m)\u001b[0m\u001b[1;33m\u001b[0m\u001b[1;33m\u001b[0m\u001b[0m\n\u001b[0m\u001b[0;32m      7\u001b[0m \u001b[0mprint\u001b[0m\u001b[1;33m(\u001b[0m\u001b[1;34m\"Printing the cluster means\"\u001b[0m\u001b[1;33m)\u001b[0m\u001b[1;33m\u001b[0m\u001b[1;33m\u001b[0m\u001b[0m\n\u001b[0;32m      8\u001b[0m \u001b[0mheadings\u001b[0m \u001b[1;33m=\u001b[0m \u001b[1;33m[\u001b[0m\u001b[1;34m'Index'\u001b[0m\u001b[1;33m,\u001b[0m \u001b[1;34m'Sepal Length'\u001b[0m\u001b[1;33m,\u001b[0m \u001b[1;34m'Sepal Width'\u001b[0m\u001b[1;33m,\u001b[0m \u001b[1;34m'Petal Length'\u001b[0m\u001b[1;33m,\u001b[0m \u001b[1;34m'Petal Width'\u001b[0m\u001b[1;33m]\u001b[0m\u001b[1;33m\u001b[0m\u001b[1;33m\u001b[0m\u001b[0m\n",
      "\u001b[1;32m<ipython-input-16-6b795fe6de48>\u001b[0m in \u001b[0;36mfin\u001b[1;34m(self, a, y)\u001b[0m\n\u001b[0;32m     55\u001b[0m         \u001b[0mself\u001b[0m\u001b[1;33m.\u001b[0m\u001b[0mcenters\u001b[0m \u001b[1;33m=\u001b[0m \u001b[0mself\u001b[0m\u001b[1;33m.\u001b[0m\u001b[0mkmean_plus_plus\u001b[0m\u001b[1;33m(\u001b[0m\u001b[0ma\u001b[0m\u001b[1;33m,\u001b[0m \u001b[0mself\u001b[0m\u001b[1;33m.\u001b[0m\u001b[0mk\u001b[0m\u001b[1;33m)\u001b[0m\u001b[1;33m\u001b[0m\u001b[1;33m\u001b[0m\u001b[0m\n\u001b[0;32m     56\u001b[0m         \u001b[1;32mfor\u001b[0m \u001b[0mi\u001b[0m \u001b[1;32min\u001b[0m \u001b[0mrange\u001b[0m\u001b[1;33m(\u001b[0m\u001b[0mself\u001b[0m\u001b[1;33m.\u001b[0m\u001b[0mnum_of_iter\u001b[0m\u001b[1;33m)\u001b[0m\u001b[1;33m:\u001b[0m\u001b[1;33m\u001b[0m\u001b[1;33m\u001b[0m\u001b[0m\n\u001b[1;32m---> 57\u001b[1;33m             \u001b[0mself\u001b[0m\u001b[1;33m.\u001b[0m\u001b[0mclusters\u001b[0m \u001b[1;33m=\u001b[0m \u001b[0mself\u001b[0m\u001b[1;33m.\u001b[0m\u001b[0mcalc_clusters\u001b[0m\u001b[1;33m(\u001b[0m\u001b[0ma\u001b[0m\u001b[1;33m,\u001b[0m \u001b[0my\u001b[0m\u001b[1;33m)\u001b[0m\u001b[1;33m\u001b[0m\u001b[1;33m\u001b[0m\u001b[0m\n\u001b[0m\u001b[0;32m     58\u001b[0m             \u001b[0mself\u001b[0m\u001b[1;33m.\u001b[0m\u001b[0mcenters\u001b[0m \u001b[1;33m=\u001b[0m \u001b[0mself\u001b[0m\u001b[1;33m.\u001b[0m\u001b[0mrecalc_clusters\u001b[0m\u001b[1;33m(\u001b[0m\u001b[1;33m)\u001b[0m\u001b[1;33m\u001b[0m\u001b[1;33m\u001b[0m\u001b[0m\n\u001b[0;32m     59\u001b[0m \u001b[1;33m\u001b[0m\u001b[0m\n",
      "\u001b[1;32m<ipython-input-16-6b795fe6de48>\u001b[0m in \u001b[0;36mcalc_clusters\u001b[1;34m(self, a, y)\u001b[0m\n\u001b[0;32m     44\u001b[0m                 \u001b[0mdistance\u001b[0m\u001b[1;33m.\u001b[0m\u001b[0mappend\u001b[0m\u001b[1;33m(\u001b[0m\u001b[0mself\u001b[0m\u001b[1;33m.\u001b[0m\u001b[0mdist_measure\u001b[0m\u001b[1;33m(\u001b[0m\u001b[0mdata\u001b[0m\u001b[1;33m,\u001b[0m \u001b[0mself\u001b[0m\u001b[1;33m.\u001b[0m\u001b[0mcenters\u001b[0m\u001b[1;33m[\u001b[0m\u001b[0mj\u001b[0m\u001b[1;33m]\u001b[0m\u001b[1;33m)\u001b[0m\u001b[1;33m)\u001b[0m\u001b[1;33m\u001b[0m\u001b[1;33m\u001b[0m\u001b[0m\n\u001b[0;32m     45\u001b[0m             \u001b[0mindex\u001b[0m \u001b[1;33m=\u001b[0m \u001b[0mnp\u001b[0m\u001b[1;33m.\u001b[0m\u001b[0margmin\u001b[0m\u001b[1;33m(\u001b[0m\u001b[0mnp\u001b[0m\u001b[1;33m.\u001b[0m\u001b[0marray\u001b[0m\u001b[1;33m(\u001b[0m\u001b[0mdistance\u001b[0m\u001b[1;33m)\u001b[0m\u001b[1;33m)\u001b[0m\u001b[1;33m\u001b[0m\u001b[1;33m\u001b[0m\u001b[0m\n\u001b[1;32m---> 46\u001b[1;33m             \u001b[0mclusters\u001b[0m\u001b[1;33m[\u001b[0m\u001b[0mindex\u001b[0m\u001b[1;33m]\u001b[0m\u001b[1;33m.\u001b[0m\u001b[0mappend\u001b[0m\u001b[1;33m(\u001b[0m\u001b[0mnp\u001b[0m\u001b[1;33m.\u001b[0m\u001b[0mappend\u001b[0m\u001b[1;33m(\u001b[0m\u001b[0mdata\u001b[0m\u001b[1;33m,\u001b[0m \u001b[0mnp\u001b[0m\u001b[1;33m.\u001b[0m\u001b[0marray\u001b[0m\u001b[1;33m(\u001b[0m\u001b[1;33m[\u001b[0m\u001b[0mindex\u001b[0m\u001b[1;33m,\u001b[0m \u001b[0my\u001b[0m\u001b[1;33m]\u001b[0m\u001b[1;33m)\u001b[0m\u001b[1;33m)\u001b[0m\u001b[1;33m)\u001b[0m\u001b[1;33m\u001b[0m\u001b[1;33m\u001b[0m\u001b[0m\n\u001b[0m\u001b[0;32m     47\u001b[0m         \u001b[1;32mreturn\u001b[0m \u001b[0mclusters\u001b[0m\u001b[1;33m\u001b[0m\u001b[1;33m\u001b[0m\u001b[0m\n\u001b[0;32m     48\u001b[0m \u001b[1;33m\u001b[0m\u001b[0m\n",
      "\u001b[1;31mKeyError\u001b[0m: 0"
     ]
    }
   ],
   "source": [
    "iris = load_iris()\n",
    "df_X = iris.data\n",
    "df_y = np.reshape(iris.target,(len(iris.target),1))\n",
    "df_X, df_y = shuffle(df_X, df_y, random_state=42)\n",
    "clfd = Kmeans(k=3, num_of_iter=10)\n",
    "clfd.fin(df_X, df_y)\n",
    "print(\"Printing the cluster means\")\n",
    "headings = ['Index', 'Sepal Length', 'Sepal Width', 'Petal Length', 'Petal Width'] \n",
    "for h in headings:\n",
    "     print(h, end=\"\\t\")\n",
    "for a, i in enumerate(clfd.centers):\n",
    "    print(a, end=\"\\t\")\n",
    "    for j in i:\n",
    "        print(round(j,2), end=\"\\t\\t\")\n",
    "    print(\"\")"
   ]
  },
  {
   "source": [
    "## Visualisation"
   ],
   "cell_type": "markdown",
   "metadata": {}
  },
  {
   "cell_type": "code",
   "execution_count": null,
   "metadata": {},
   "outputs": [],
   "source": [
    "def vis_clusters(clf, df, opt=\"Target\"):\n",
    "    ax = df[df[opt] == 0].plot.scatter(x=columns[2], y=columns[1], color='red')\n",
    "    df[df[opt] == 1].plot.scatter(x=columns[2], y=columns[1], color='green', ax=ax)\n",
    "    df[df[opt] == 2].plot.scatter(x=columns[2], y=columns[1], color='blue', ax=ax)\n",
    "    ax.set_title(opt)\n",
    "\n",
    "    for center in clf.centers:\n",
    "        plt.plot(center[2], center[1], color='yellow', marker='X', markersize=10) \n",
    "    plt.show()"
   ]
  },
  {
   "cell_type": "code",
   "execution_count": null,
   "metadata": {},
   "outputs": [],
   "source": [
    "columns = ['Sepal Length', 'Sepal Width', 'Petal Length', 'Petal Width', 'Classified', 'Target']\n",
    "df = pd.DataFrame(columns=columns)\n",
    "\n",
    "for key,value in clf.clusters.items():\n",
    "    for v in value:\n",
    "        df.loc[0 if pd.isnull(df.index.max()) else df.index.max() + 1] = v\n",
    "\n",
    "vis_clusters(clf, df, \"Classified\")\n",
    "vis_clusters(clf, df, \"Target\")"
   ]
  }
 ]
}