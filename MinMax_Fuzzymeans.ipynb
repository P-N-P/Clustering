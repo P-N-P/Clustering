{
 "cells": [
  {
   "cell_type": "code",
   "execution_count": 1,
   "metadata": {},
   "outputs": [],
   "source": [
    "import numpy as np\n",
    "import matplotlib.pyplot as plt\n",
    "import random\n",
    "import pandas as pd\n",
    "import seaborn as sns\n",
    "from sklearn.preprocessing import LabelEncoder\n",
    "le = LabelEncoder()"
   ]
  },
  {
   "cell_type": "code",
   "execution_count": 2,
   "metadata": {},
   "outputs": [],
   "source": [
    "df = pd.read_csv('iris.csv')\n"
   ]
  },
  {
   "cell_type": "code",
   "execution_count": 4,
   "metadata": {},
   "outputs": [],
   "source": [
    "df['Species'] = le.fit_transform(df['Species'])"
   ]
  },
  {
   "cell_type": "code",
   "execution_count": 5,
   "metadata": {},
   "outputs": [
    {
     "output_type": "execute_result",
     "data": {
      "text/plain": [
       "   Id  SepalLengthCm  SepalWidthCm  PetalLengthCm  PetalWidthCm  Species\n",
       "0   1            5.1           3.5            1.4           0.2        0\n",
       "1   2            4.9           3.0            1.4           0.2        0\n",
       "2   3            4.7           3.2            1.3           0.2        0\n",
       "3   4            4.6           3.1            1.5           0.2        0\n",
       "4   5            5.0           3.6            1.4           0.2        0"
      ],
      "text/html": "<div>\n<style scoped>\n    .dataframe tbody tr th:only-of-type {\n        vertical-align: middle;\n    }\n\n    .dataframe tbody tr th {\n        vertical-align: top;\n    }\n\n    .dataframe thead th {\n        text-align: right;\n    }\n</style>\n<table border=\"1\" class=\"dataframe\">\n  <thead>\n    <tr style=\"text-align: right;\">\n      <th></th>\n      <th>Id</th>\n      <th>SepalLengthCm</th>\n      <th>SepalWidthCm</th>\n      <th>PetalLengthCm</th>\n      <th>PetalWidthCm</th>\n      <th>Species</th>\n    </tr>\n  </thead>\n  <tbody>\n    <tr>\n      <th>0</th>\n      <td>1</td>\n      <td>5.1</td>\n      <td>3.5</td>\n      <td>1.4</td>\n      <td>0.2</td>\n      <td>0</td>\n    </tr>\n    <tr>\n      <th>1</th>\n      <td>2</td>\n      <td>4.9</td>\n      <td>3.0</td>\n      <td>1.4</td>\n      <td>0.2</td>\n      <td>0</td>\n    </tr>\n    <tr>\n      <th>2</th>\n      <td>3</td>\n      <td>4.7</td>\n      <td>3.2</td>\n      <td>1.3</td>\n      <td>0.2</td>\n      <td>0</td>\n    </tr>\n    <tr>\n      <th>3</th>\n      <td>4</td>\n      <td>4.6</td>\n      <td>3.1</td>\n      <td>1.5</td>\n      <td>0.2</td>\n      <td>0</td>\n    </tr>\n    <tr>\n      <th>4</th>\n      <td>5</td>\n      <td>5.0</td>\n      <td>3.6</td>\n      <td>1.4</td>\n      <td>0.2</td>\n      <td>0</td>\n    </tr>\n  </tbody>\n</table>\n</div>"
     },
     "metadata": {},
     "execution_count": 5
    }
   ],
   "source": [
    "df.head()"
   ]
  },
  {
   "cell_type": "code",
   "execution_count": 6,
   "metadata": {},
   "outputs": [],
   "source": [
    "data = df.values[:,:4]"
   ]
  },
  {
   "cell_type": "code",
   "execution_count": 7,
   "metadata": {},
   "outputs": [
    {
     "output_type": "execute_result",
     "data": {
      "text/plain": [
       "array([[  1. ,   5.1,   3.5,   1.4],\n",
       "       [  2. ,   4.9,   3. ,   1.4],\n",
       "       [  3. ,   4.7,   3.2,   1.3],\n",
       "       [  4. ,   4.6,   3.1,   1.5],\n",
       "       [  5. ,   5. ,   3.6,   1.4],\n",
       "       [  6. ,   5.4,   3.9,   1.7],\n",
       "       [  7. ,   4.6,   3.4,   1.4],\n",
       "       [  8. ,   5. ,   3.4,   1.5],\n",
       "       [  9. ,   4.4,   2.9,   1.4],\n",
       "       [ 10. ,   4.9,   3.1,   1.5],\n",
       "       [ 11. ,   5.4,   3.7,   1.5],\n",
       "       [ 12. ,   4.8,   3.4,   1.6],\n",
       "       [ 13. ,   4.8,   3. ,   1.4],\n",
       "       [ 14. ,   4.3,   3. ,   1.1],\n",
       "       [ 15. ,   5.8,   4. ,   1.2],\n",
       "       [ 16. ,   5.7,   4.4,   1.5],\n",
       "       [ 17. ,   5.4,   3.9,   1.3],\n",
       "       [ 18. ,   5.1,   3.5,   1.4],\n",
       "       [ 19. ,   5.7,   3.8,   1.7],\n",
       "       [ 20. ,   5.1,   3.8,   1.5],\n",
       "       [ 21. ,   5.4,   3.4,   1.7],\n",
       "       [ 22. ,   5.1,   3.7,   1.5],\n",
       "       [ 23. ,   4.6,   3.6,   1. ],\n",
       "       [ 24. ,   5.1,   3.3,   1.7],\n",
       "       [ 25. ,   4.8,   3.4,   1.9],\n",
       "       [ 26. ,   5. ,   3. ,   1.6],\n",
       "       [ 27. ,   5. ,   3.4,   1.6],\n",
       "       [ 28. ,   5.2,   3.5,   1.5],\n",
       "       [ 29. ,   5.2,   3.4,   1.4],\n",
       "       [ 30. ,   4.7,   3.2,   1.6],\n",
       "       [ 31. ,   4.8,   3.1,   1.6],\n",
       "       [ 32. ,   5.4,   3.4,   1.5],\n",
       "       [ 33. ,   5.2,   4.1,   1.5],\n",
       "       [ 34. ,   5.5,   4.2,   1.4],\n",
       "       [ 35. ,   4.9,   3.1,   1.5],\n",
       "       [ 36. ,   5. ,   3.2,   1.2],\n",
       "       [ 37. ,   5.5,   3.5,   1.3],\n",
       "       [ 38. ,   4.9,   3.1,   1.5],\n",
       "       [ 39. ,   4.4,   3. ,   1.3],\n",
       "       [ 40. ,   5.1,   3.4,   1.5],\n",
       "       [ 41. ,   5. ,   3.5,   1.3],\n",
       "       [ 42. ,   4.5,   2.3,   1.3],\n",
       "       [ 43. ,   4.4,   3.2,   1.3],\n",
       "       [ 44. ,   5. ,   3.5,   1.6],\n",
       "       [ 45. ,   5.1,   3.8,   1.9],\n",
       "       [ 46. ,   4.8,   3. ,   1.4],\n",
       "       [ 47. ,   5.1,   3.8,   1.6],\n",
       "       [ 48. ,   4.6,   3.2,   1.4],\n",
       "       [ 49. ,   5.3,   3.7,   1.5],\n",
       "       [ 50. ,   5. ,   3.3,   1.4],\n",
       "       [ 51. ,   7. ,   3.2,   4.7],\n",
       "       [ 52. ,   6.4,   3.2,   4.5],\n",
       "       [ 53. ,   6.9,   3.1,   4.9],\n",
       "       [ 54. ,   5.5,   2.3,   4. ],\n",
       "       [ 55. ,   6.5,   2.8,   4.6],\n",
       "       [ 56. ,   5.7,   2.8,   4.5],\n",
       "       [ 57. ,   6.3,   3.3,   4.7],\n",
       "       [ 58. ,   4.9,   2.4,   3.3],\n",
       "       [ 59. ,   6.6,   2.9,   4.6],\n",
       "       [ 60. ,   5.2,   2.7,   3.9],\n",
       "       [ 61. ,   5. ,   2. ,   3.5],\n",
       "       [ 62. ,   5.9,   3. ,   4.2],\n",
       "       [ 63. ,   6. ,   2.2,   4. ],\n",
       "       [ 64. ,   6.1,   2.9,   4.7],\n",
       "       [ 65. ,   5.6,   2.9,   3.6],\n",
       "       [ 66. ,   6.7,   3.1,   4.4],\n",
       "       [ 67. ,   5.6,   3. ,   4.5],\n",
       "       [ 68. ,   5.8,   2.7,   4.1],\n",
       "       [ 69. ,   6.2,   2.2,   4.5],\n",
       "       [ 70. ,   5.6,   2.5,   3.9],\n",
       "       [ 71. ,   5.9,   3.2,   4.8],\n",
       "       [ 72. ,   6.1,   2.8,   4. ],\n",
       "       [ 73. ,   6.3,   2.5,   4.9],\n",
       "       [ 74. ,   6.1,   2.8,   4.7],\n",
       "       [ 75. ,   6.4,   2.9,   4.3],\n",
       "       [ 76. ,   6.6,   3. ,   4.4],\n",
       "       [ 77. ,   6.8,   2.8,   4.8],\n",
       "       [ 78. ,   6.7,   3. ,   5. ],\n",
       "       [ 79. ,   6. ,   2.9,   4.5],\n",
       "       [ 80. ,   5.7,   2.6,   3.5],\n",
       "       [ 81. ,   5.5,   2.4,   3.8],\n",
       "       [ 82. ,   5.5,   2.4,   3.7],\n",
       "       [ 83. ,   5.8,   2.7,   3.9],\n",
       "       [ 84. ,   6. ,   2.7,   5.1],\n",
       "       [ 85. ,   5.4,   3. ,   4.5],\n",
       "       [ 86. ,   6. ,   3.4,   4.5],\n",
       "       [ 87. ,   6.7,   3.1,   4.7],\n",
       "       [ 88. ,   6.3,   2.3,   4.4],\n",
       "       [ 89. ,   5.6,   3. ,   4.1],\n",
       "       [ 90. ,   5.5,   2.5,   4. ],\n",
       "       [ 91. ,   5.5,   2.6,   4.4],\n",
       "       [ 92. ,   6.1,   3. ,   4.6],\n",
       "       [ 93. ,   5.8,   2.6,   4. ],\n",
       "       [ 94. ,   5. ,   2.3,   3.3],\n",
       "       [ 95. ,   5.6,   2.7,   4.2],\n",
       "       [ 96. ,   5.7,   3. ,   4.2],\n",
       "       [ 97. ,   5.7,   2.9,   4.2],\n",
       "       [ 98. ,   6.2,   2.9,   4.3],\n",
       "       [ 99. ,   5.1,   2.5,   3. ],\n",
       "       [100. ,   5.7,   2.8,   4.1],\n",
       "       [101. ,   6.3,   3.3,   6. ],\n",
       "       [102. ,   5.8,   2.7,   5.1],\n",
       "       [103. ,   7.1,   3. ,   5.9],\n",
       "       [104. ,   6.3,   2.9,   5.6],\n",
       "       [105. ,   6.5,   3. ,   5.8],\n",
       "       [106. ,   7.6,   3. ,   6.6],\n",
       "       [107. ,   4.9,   2.5,   4.5],\n",
       "       [108. ,   7.3,   2.9,   6.3],\n",
       "       [109. ,   6.7,   2.5,   5.8],\n",
       "       [110. ,   7.2,   3.6,   6.1],\n",
       "       [111. ,   6.5,   3.2,   5.1],\n",
       "       [112. ,   6.4,   2.7,   5.3],\n",
       "       [113. ,   6.8,   3. ,   5.5],\n",
       "       [114. ,   5.7,   2.5,   5. ],\n",
       "       [115. ,   5.8,   2.8,   5.1],\n",
       "       [116. ,   6.4,   3.2,   5.3],\n",
       "       [117. ,   6.5,   3. ,   5.5],\n",
       "       [118. ,   7.7,   3.8,   6.7],\n",
       "       [119. ,   7.7,   2.6,   6.9],\n",
       "       [120. ,   6. ,   2.2,   5. ],\n",
       "       [121. ,   6.9,   3.2,   5.7],\n",
       "       [122. ,   5.6,   2.8,   4.9],\n",
       "       [123. ,   7.7,   2.8,   6.7],\n",
       "       [124. ,   6.3,   2.7,   4.9],\n",
       "       [125. ,   6.7,   3.3,   5.7],\n",
       "       [126. ,   7.2,   3.2,   6. ],\n",
       "       [127. ,   6.2,   2.8,   4.8],\n",
       "       [128. ,   6.1,   3. ,   4.9],\n",
       "       [129. ,   6.4,   2.8,   5.6],\n",
       "       [130. ,   7.2,   3. ,   5.8],\n",
       "       [131. ,   7.4,   2.8,   6.1],\n",
       "       [132. ,   7.9,   3.8,   6.4],\n",
       "       [133. ,   6.4,   2.8,   5.6],\n",
       "       [134. ,   6.3,   2.8,   5.1],\n",
       "       [135. ,   6.1,   2.6,   5.6],\n",
       "       [136. ,   7.7,   3. ,   6.1],\n",
       "       [137. ,   6.3,   3.4,   5.6],\n",
       "       [138. ,   6.4,   3.1,   5.5],\n",
       "       [139. ,   6. ,   3. ,   4.8],\n",
       "       [140. ,   6.9,   3.1,   5.4],\n",
       "       [141. ,   6.7,   3.1,   5.6],\n",
       "       [142. ,   6.9,   3.1,   5.1],\n",
       "       [143. ,   5.8,   2.7,   5.1],\n",
       "       [144. ,   6.8,   3.2,   5.9],\n",
       "       [145. ,   6.7,   3.3,   5.7],\n",
       "       [146. ,   6.7,   3. ,   5.2],\n",
       "       [147. ,   6.3,   2.5,   5. ],\n",
       "       [148. ,   6.5,   3. ,   5.2],\n",
       "       [149. ,   6.2,   3.4,   5.4],\n",
       "       [150. ,   5.9,   3. ,   5.1]])"
      ]
     },
     "metadata": {},
     "execution_count": 7
    }
   ],
   "source": [
    "data"
   ]
  },
  {
   "cell_type": "code",
   "execution_count": 26,
   "metadata": {},
   "outputs": [],
   "source": [
    "n = 150\n",
    "p= 2\n",
    "clusters = []\n",
    "c1 = random.choice(data)\n",
    "clusters.append(c1)"
   ]
  },
  {
   "cell_type": "code",
   "execution_count": 27,
   "metadata": {},
   "outputs": [
    {
     "output_type": "execute_result",
     "data": {
      "text/plain": [
       "[array([125. ,   6.7,   3.3,   5.7]), array([1. , 5.1, 3.5, 1.4])]"
      ]
     },
     "metadata": {},
     "execution_count": 27
    }
   ],
   "source": [
    "maxim = 0                                      #finding c2 with a max dist from c1\n",
    "c2 = []\n",
    "for x in data:\n",
    "    dist = np.linalg.norm(x - c1)\n",
    "    if maxim <= dist:\n",
    "        maxim = dist\n",
    "        c2 = x\n",
    "clusters.append(c2)\n",
    "clusters"
   ]
  },
  {
   "cell_type": "code",
   "execution_count": 28,
   "metadata": {},
   "outputs": [
    {
     "output_type": "execute_result",
     "data": {
      "text/plain": [
       "[array([125. ,   6.7,   3.3,   5.7]),\n",
       " array([1. , 5.1, 3.5, 1.4]),\n",
       " array([63. ,  6. ,  2.2,  4. ])]"
      ]
     },
     "metadata": {},
     "execution_count": 28
    }
   ],
   "source": [
    "t = 0\n",
    "while t == 0:\n",
    "    centdist = [] #array that stores distance between any two clusters\n",
    "    for i in range(len(clusters)):\n",
    "        for j in range(i+1, len(clusters)):\n",
    "            centdist.append(np.linalg.norm(clusters[i] - clusters[j])) # NC2 - store\n",
    "            \n",
    "    newc = np.zeros((1, 4)) #newcluster array \n",
    "    maxstep =0 #Maximum of the min distances (between the data value and cluster center)\n",
    "    \n",
    "    for x in data:\n",
    "        present = 0 #to count that data isn't cluster center itself\n",
    "        for i in range(len(clusters)):\n",
    "            if np.linalg.norm(x - clusters[i]) != 0:  #checking if data element is not equal to cluster center\n",
    "                present += 1 \n",
    "                \n",
    "        if present == len(clusters): #if element is cluster center then this loop won't run\n",
    "            minstep = 10000000\n",
    "            for i in clusters:\n",
    "                if minstep > np.linalg.norm(x - i):\n",
    "                    minstep = np.linalg.norm(x - i)\n",
    "                    \n",
    "            if maxstep < minstep:\n",
    "                maxstep = minstep #maximum distance of all the minimum distances\n",
    "                newc = x #new cluster initialized\n",
    "                \n",
    "    count =0   #count to see if we have found a new cluster             \n",
    "    for i in range(len(centdist)):\n",
    "        if round(maxstep/centdist[i], 1) >= 0.5: #appreciable fraction found through trial and error - find out what exactly the scene is here\n",
    "            count += 1\n",
    "            #print(round(maxstep/centdist[i], 1))\n",
    "    if count == len(centdist): \n",
    "        clusters.append(newc)\n",
    "    else:\n",
    "        t= 1\n",
    "clusters"
   ]
  },
  {
   "cell_type": "code",
   "execution_count": 29,
   "metadata": {},
   "outputs": [
    {
     "output_type": "execute_result",
     "data": {
      "text/plain": [
       "array([[0.35943144, 0.02542443, 0.61514413],\n",
       "       [0.00756927, 0.57776488, 0.41466584],\n",
       "       [0.22066319, 0.63748935, 0.14184746],\n",
       "       [0.35183468, 0.32366956, 0.32449576],\n",
       "       [0.39183034, 0.24654678, 0.36162288],\n",
       "       [0.06788333, 0.24191968, 0.69019699],\n",
       "       [0.60193312, 0.25199967, 0.14606721],\n",
       "       [0.49911637, 0.10110249, 0.39978114],\n",
       "       [0.71254456, 0.0764786 , 0.21097684],\n",
       "       [0.09220555, 0.24080685, 0.6669876 ],\n",
       "       [0.07503962, 0.21436911, 0.71059128],\n",
       "       [0.88774096, 0.08275018, 0.02950886],\n",
       "       [0.20949667, 0.35052168, 0.43998165],\n",
       "       [0.13372313, 0.74778783, 0.11848904],\n",
       "       [0.08031613, 0.38996894, 0.52971493],\n",
       "       [0.24866963, 0.03832999, 0.71300038],\n",
       "       [0.35175926, 0.30650438, 0.34173635],\n",
       "       [0.74891525, 0.23824612, 0.01283863],\n",
       "       [0.86273704, 0.10010054, 0.03716242],\n",
       "       [0.05713723, 0.87486772, 0.06799506],\n",
       "       [0.49562243, 0.12765599, 0.37672159],\n",
       "       [0.0438486 , 0.56913326, 0.38701814],\n",
       "       [0.31771952, 0.30864026, 0.37364021],\n",
       "       [0.44320929, 0.10183295, 0.45495776],\n",
       "       [0.26108379, 0.58747398, 0.15144223],\n",
       "       [0.09682481, 0.22295026, 0.68022493],\n",
       "       [0.32088039, 0.09632472, 0.58279489],\n",
       "       [0.18315275, 0.80585409, 0.01099317],\n",
       "       [0.13855807, 0.58030661, 0.28113532],\n",
       "       [0.02183359, 0.70375546, 0.27441095],\n",
       "       [0.06077709, 0.44564602, 0.49357688],\n",
       "       [0.82371881, 0.05011741, 0.12616378],\n",
       "       [0.41000008, 0.23420988, 0.35579004],\n",
       "       [0.02869653, 0.46418675, 0.50711672],\n",
       "       [0.0516959 , 0.94514535, 0.00315874],\n",
       "       [0.55686237, 0.31271388, 0.13042374],\n",
       "       [0.15867746, 0.04679882, 0.79452372],\n",
       "       [0.33690875, 0.59142995, 0.0716613 ],\n",
       "       [0.34608542, 0.26721437, 0.38670021],\n",
       "       [0.01141982, 0.75506637, 0.23351381],\n",
       "       [0.14005245, 0.30893338, 0.55101416],\n",
       "       [0.67847708, 0.09679847, 0.22472445],\n",
       "       [0.54846259, 0.25082873, 0.20070869],\n",
       "       [0.54246483, 0.30656785, 0.15096732],\n",
       "       [0.31994725, 0.1526967 , 0.52735605],\n",
       "       [0.0139714 , 0.44701917, 0.53900943],\n",
       "       [0.22697285, 0.58520273, 0.18782442],\n",
       "       [0.72443055, 0.09463366, 0.18093579],\n",
       "       [0.12368885, 0.43954735, 0.43676379],\n",
       "       [0.31473311, 0.26051399, 0.42475289],\n",
       "       [0.40231644, 0.3477089 , 0.24997466],\n",
       "       [0.33167116, 0.59852088, 0.06980795],\n",
       "       [0.37535339, 0.16877595, 0.45587066],\n",
       "       [0.02931029, 0.50024678, 0.47044293],\n",
       "       [0.40860559, 0.42175202, 0.1696424 ],\n",
       "       [0.2581996 , 0.6314584 , 0.110342  ],\n",
       "       [0.37416637, 0.34606869, 0.27976494],\n",
       "       [0.59494744, 0.2112459 , 0.19380666],\n",
       "       [0.72870577, 0.27012883, 0.00116539],\n",
       "       [0.10126584, 0.76325338, 0.13548078],\n",
       "       [0.61988009, 0.08381921, 0.2963007 ],\n",
       "       [0.17391471, 0.53960694, 0.28647835],\n",
       "       [0.2560275 , 0.21095926, 0.53301325],\n",
       "       [0.03331686, 0.64748154, 0.3192016 ],\n",
       "       [0.36045362, 0.18495358, 0.4545928 ],\n",
       "       [0.54126347, 0.33072585, 0.12801068],\n",
       "       [0.53818277, 0.03857392, 0.42324331],\n",
       "       [0.24236739, 0.51054096, 0.24709165],\n",
       "       [0.26395621, 0.43610554, 0.29993825],\n",
       "       [0.10982308, 0.51556957, 0.37460735],\n",
       "       [0.00395187, 0.47679702, 0.51925112],\n",
       "       [0.35770255, 0.30572658, 0.33657087],\n",
       "       [0.04086842, 0.23550495, 0.72362663],\n",
       "       [0.16074435, 0.46751377, 0.37174188],\n",
       "       [0.64154806, 0.18119366, 0.17725828],\n",
       "       [0.40357019, 0.37076077, 0.22566904],\n",
       "       [0.42501268, 0.06693465, 0.50805268],\n",
       "       [0.00409985, 0.95520277, 0.04069737],\n",
       "       [0.04487942, 0.49377335, 0.46134724],\n",
       "       [0.12954742, 0.59987362, 0.27057895],\n",
       "       [0.0882622 , 0.81024907, 0.10148873],\n",
       "       [0.18410223, 0.44293542, 0.37296235],\n",
       "       [0.01011861, 0.17835699, 0.8115244 ],\n",
       "       [0.32636618, 0.3290995 , 0.34453432],\n",
       "       [0.26058209, 0.6754637 , 0.06395422],\n",
       "       [0.39057317, 0.37224436, 0.23718247],\n",
       "       [0.09584624, 0.53838615, 0.36576761],\n",
       "       [0.21037596, 0.58612337, 0.20350068],\n",
       "       [0.61122191, 0.33608479, 0.0526933 ],\n",
       "       [0.14395029, 0.12355665, 0.73249306],\n",
       "       [0.09455797, 0.14540686, 0.76003517],\n",
       "       [0.1599697 , 0.82409722, 0.01593307],\n",
       "       [0.29517872, 0.54602936, 0.15879192],\n",
       "       [0.23553205, 0.2207098 , 0.54375815],\n",
       "       [0.07577697, 0.68533261, 0.23889042],\n",
       "       [0.43041554, 0.37679378, 0.19279068],\n",
       "       [0.56840695, 0.13437352, 0.29721953],\n",
       "       [0.8506278 , 0.08314446, 0.06622774],\n",
       "       [0.19262789, 0.4164561 , 0.39091601],\n",
       "       [0.06938148, 0.14089649, 0.78972203],\n",
       "       [0.52931885, 0.43107183, 0.03960932],\n",
       "       [0.41737106, 0.16969526, 0.41293368],\n",
       "       [0.1330404 , 0.54581651, 0.32114309],\n",
       "       [0.32867054, 0.38673312, 0.28459634],\n",
       "       [0.20537262, 0.06085176, 0.73377562],\n",
       "       [0.63506169, 0.28729652, 0.07764179],\n",
       "       [0.05503818, 0.31442885, 0.63053298],\n",
       "       [0.43703687, 0.20002902, 0.36293411],\n",
       "       [0.1501328 , 0.11372952, 0.73613768],\n",
       "       [0.05745167, 0.74319293, 0.1993554 ],\n",
       "       [0.42612423, 0.40244599, 0.17142979],\n",
       "       [0.33680327, 0.18560863, 0.4775881 ],\n",
       "       [0.45847179, 0.12356198, 0.41796622],\n",
       "       [0.43953139, 0.49977903, 0.06068957],\n",
       "       [0.18978311, 0.15588662, 0.65433026],\n",
       "       [0.79653641, 0.0479179 , 0.15554569],\n",
       "       [0.6654081 , 0.12082946, 0.21376245],\n",
       "       [0.75078061, 0.12774813, 0.12147127],\n",
       "       [0.12203051, 0.31056656, 0.56740293],\n",
       "       [0.31305272, 0.22232723, 0.46462005],\n",
       "       [0.62608653, 0.21577237, 0.1581411 ],\n",
       "       [0.54977857, 0.39830129, 0.05192013],\n",
       "       [0.36878975, 0.51071536, 0.12049489],\n",
       "       [0.13784089, 0.09153799, 0.77062113],\n",
       "       [0.33565296, 0.12716539, 0.53718166],\n",
       "       [0.36938936, 0.12000321, 0.51060743],\n",
       "       [0.54469972, 0.29403389, 0.16126638],\n",
       "       [0.58336912, 0.10382766, 0.31280321],\n",
       "       [0.42343728, 0.4024375 , 0.17412523],\n",
       "       [0.7431934 , 0.09715504, 0.15965157],\n",
       "       [0.59553413, 0.0215374 , 0.38292847],\n",
       "       [0.29786162, 0.61540049, 0.08673789],\n",
       "       [0.66439806, 0.24620082, 0.08940112],\n",
       "       [0.05298153, 0.29680857, 0.65020989],\n",
       "       [0.8494048 , 0.14802926, 0.00256594],\n",
       "       [0.21579046, 0.3313201 , 0.45288943],\n",
       "       [0.48798329, 0.24206398, 0.26995273],\n",
       "       [0.07266562, 0.37445423, 0.55288015],\n",
       "       [0.28353731, 0.51860378, 0.19785891],\n",
       "       [0.51041007, 0.10059248, 0.38899745],\n",
       "       [0.3490063 , 0.09885489, 0.55213881],\n",
       "       [0.31067287, 0.07245536, 0.61687177],\n",
       "       [0.05724477, 0.88269077, 0.06006445],\n",
       "       [0.39724006, 0.32037762, 0.28238231],\n",
       "       [0.09586921, 0.15222968, 0.75190111],\n",
       "       [0.4747623 , 0.36282538, 0.16241233],\n",
       "       [0.84706843, 0.08838101, 0.06455056],\n",
       "       [0.47943603, 0.435828  , 0.08473597],\n",
       "       [0.55754628, 0.1478392 , 0.29461451],\n",
       "       [0.20322164, 0.32367516, 0.4731032 ]])"
      ]
     },
     "metadata": {},
     "execution_count": 29
    }
   ],
   "source": [
    "weight = np.random.dirichlet(np.ones(len(clusters)), size = len(data))             #assigning random weights\n",
    "weight"
   ]
  },
  {
   "cell_type": "code",
   "execution_count": 30,
   "metadata": {},
   "outputs": [],
   "source": [
    "val = 100\n",
    "error = np.zeros((n,len(clusters)))\n",
    "numclusters = len(clusters)"
   ]
  },
  {
   "cell_type": "code",
   "execution_count": 44,
   "metadata": {},
   "outputs": [],
   "source": [
    "for z in range(100):\n",
    "\n",
    "    wp = np.multiply(weight, weight)        #with p= 2, power of weight is raised to 2\n",
    "    sumw = np.sum(wp, axis =0)     #calculating sum of squares of weights of same clusters\n",
    "    \n",
    "      \n",
    "    centroid = np.transpose(np.divide((np.dot(np.transpose(data), wp)), sumw))       #calculating the centroid by transposing data matrix and multiplying\n",
    "                                                                       #it with the wp matrix, transposing it again to get the accurate centroid amtrix\n",
    "    distances = np.zeros((n,numclusters))       #initalising the matrix clusters\n",
    "    \n",
    "    for i in range(numclusters):                 #finding the eucledian disance between xj and cj\n",
    "        distances[:,i] = np.linalg.norm(data - centroid[i], axis = 1)\n",
    "    \n",
    "    distsum = np.zeros((n,numclusters))\n",
    "\n",
    "    wt = np.zeros((n,numclusters))\n",
    "    for i in range(len(distances)):\n",
    "        distsum[i] = 1/distances[i]\n",
    "\n",
    "    invsum = np.sum(distsum, axis = 1)    \n",
    "    for i in range(len(distances)):\n",
    "        for j in range(0, 3):\n",
    "            wt[i][j] = (float(1/distances[i][j]))/(float(invsum[i]))\n",
    "\n",
    "    error = np.absolute(wt - weight)\n",
    "    weight = np.array(wt)\n",
    "#val = np.sum(np.sum(error, axis = 1), axis = 0)"
   ]
  },
  {
   "cell_type": "code",
   "execution_count": 45,
   "metadata": {},
   "outputs": [
    {
     "output_type": "stream",
     "name": "stdout",
     "text": [
      "0.0\n"
     ]
    }
   ],
   "source": [
    "    #print(val)\n",
    "m = np.sum(error, axis = 1)\n",
    "print(float(np.sum(m)))"
   ]
  },
  {
   "cell_type": "code",
   "execution_count": 46,
   "metadata": {},
   "outputs": [],
   "source": [
    "category = np.zeros(n)\n",
    "for i in range(len(weight)):\n",
    "    maxim = max(weight[i])\n",
    "\n",
    "    if weight[i][0] == maxim:\n",
    "        category[i] = 0\n",
    "\n",
    "    elif weight[i][1] == maxim:\n",
    "        category[i] = 1\n",
    "\n",
    "    elif weight[i][2] == maxim:\n",
    "        category[i] = 2"
   ]
  },
  {
   "cell_type": "code",
   "execution_count": 34,
   "metadata": {},
   "outputs": [
    {
     "output_type": "stream",
     "name": "stdout",
     "text": [
      "[1. 1. 1. 1. 1. 1. 1. 1. 1. 1. 1. 1. 1. 1. 1. 1. 1. 1. 1. 1. 1. 1. 1. 1.\n 1. 1. 1. 1. 1. 1. 1. 1. 1. 1. 1. 1. 1. 1. 1. 1. 1. 1. 1. 1. 1. 1. 1. 1.\n 1. 1. 1. 1. 2. 2. 2. 2. 2. 2. 2. 2. 2. 2. 2. 2. 2. 2. 2. 2. 2. 2. 2. 2.\n 2. 2. 2. 2. 2. 2. 2. 2. 2. 2. 2. 2. 2. 2. 2. 2. 2. 2. 2. 2. 2. 2. 2. 2.\n 2. 2. 0. 0. 0. 0. 0. 0. 0. 0. 0. 0. 0. 0. 0. 0. 0. 0. 0. 0. 0. 0. 0. 0.\n 0. 0. 0. 0. 0. 0. 0. 0. 0. 0. 0. 0. 0. 0. 0. 0. 0. 0. 0. 0. 0. 0. 0. 0.\n 0. 0. 0. 0. 0. 0.]\n"
     ]
    }
   ],
   "source": [
    "print(category)"
   ]
  },
  {
   "cell_type": "code",
   "execution_count": 51,
   "metadata": {},
   "outputs": [
    {
     "output_type": "display_data",
     "data": {
      "text/plain": "<Figure size 432x288 with 1 Axes>",
      "image/svg+xml": "<?xml version=\"1.0\" encoding=\"utf-8\" standalone=\"no\"?>\r\n<!DOCTYPE svg PUBLIC \"-//W3C//DTD SVG 1.1//EN\"\r\n  \"http://www.w3.org/Graphics/SVG/1.1/DTD/svg11.dtd\">\r\n<svg height=\"248.518125pt\" version=\"1.1\" viewBox=\"0 0 363.750426 248.518125\" width=\"363.750426pt\" xmlns=\"http://www.w3.org/2000/svg\" xmlns:xlink=\"http://www.w3.org/1999/xlink\">\r\n <metadata>\r\n  <rdf:RDF xmlns:cc=\"http://creativecommons.org/ns#\" xmlns:dc=\"http://purl.org/dc/elements/1.1/\" xmlns:rdf=\"http://www.w3.org/1999/02/22-rdf-syntax-ns#\">\r\n   <cc:Work>\r\n    <dc:type rdf:resource=\"http://purl.org/dc/dcmitype/StillImage\"/>\r\n    <dc:date>2021-06-17T11:04:05.987204</dc:date>\r\n    <dc:format>image/svg+xml</dc:format>\r\n    <dc:creator>\r\n     <cc:Agent>\r\n      <dc:title>Matplotlib v3.4.1, https://matplotlib.org/</dc:title>\r\n     </cc:Agent>\r\n    </dc:creator>\r\n   </cc:Work>\r\n  </rdf:RDF>\r\n </metadata>\r\n <defs>\r\n  <style type=\"text/css\">*{stroke-linecap:butt;stroke-linejoin:round;}</style>\r\n </defs>\r\n <g id=\"figure_1\">\r\n  <g id=\"patch_1\">\r\n   <path d=\"M 0 248.518125 \r\nL 363.750426 248.518125 \r\nL 363.750426 0 \r\nL 0 0 \r\nz\r\n\" style=\"fill:none;\"/>\r\n  </g>\r\n  <g id=\"axes_1\">\r\n   <g id=\"patch_2\">\r\n    <path d=\"M 20.5625 224.64 \r\nL 355.3625 224.64 \r\nL 355.3625 7.2 \r\nL 20.5625 7.2 \r\nz\r\n\" style=\"fill:#ffffff;\"/>\r\n   </g>\r\n   <g id=\"PathCollection_1\">\r\n    <defs>\r\n     <path d=\"M 0 3 \r\nC 0.795609 3 1.55874 2.683901 2.12132 2.12132 \r\nC 2.683901 1.55874 3 0.795609 3 0 \r\nC 3 -0.795609 2.683901 -1.55874 2.12132 -2.12132 \r\nC 1.55874 -2.683901 0.795609 -3 0 -3 \r\nC -0.795609 -3 -1.55874 -2.683901 -2.12132 -2.12132 \r\nC -2.683901 -1.55874 -3 -0.795609 -3 0 \r\nC -3 0.795609 -2.683901 1.55874 -2.12132 2.12132 \r\nC -1.55874 2.683901 -0.795609 3 0 3 \r\nz\r\n\" id=\"m68aeeffd50\" style=\"stroke:#ff0000;\"/>\r\n    </defs>\r\n    <g clip-path=\"url(#p45bfbdd359)\">\r\n     <use style=\"fill:#ff0000;stroke:#ff0000;\" x=\"103.417045\" xlink:href=\"#m68aeeffd50\" y=\"201.354823\"/>\r\n     <use style=\"fill:#ff0000;stroke:#ff0000;\" x=\"86.507955\" xlink:href=\"#m68aeeffd50\" y=\"201.354823\"/>\r\n     <use style=\"fill:#ff0000;stroke:#ff0000;\" x=\"69.598864\" xlink:href=\"#m68aeeffd50\" y=\"204.705208\"/>\r\n     <use style=\"fill:#ff0000;stroke:#ff0000;\" x=\"61.144318\" xlink:href=\"#m68aeeffd50\" y=\"198.004438\"/>\r\n     <use style=\"fill:#ff0000;stroke:#ff0000;\" x=\"94.9625\" xlink:href=\"#m68aeeffd50\" y=\"201.354823\"/>\r\n     <use style=\"fill:#ff0000;stroke:#ff0000;\" x=\"128.780682\" xlink:href=\"#m68aeeffd50\" y=\"191.303667\"/>\r\n     <use style=\"fill:#ff0000;stroke:#ff0000;\" x=\"61.144318\" xlink:href=\"#m68aeeffd50\" y=\"201.354823\"/>\r\n     <use style=\"fill:#ff0000;stroke:#ff0000;\" x=\"94.9625\" xlink:href=\"#m68aeeffd50\" y=\"198.004438\"/>\r\n     <use style=\"fill:#ff0000;stroke:#ff0000;\" x=\"44.235227\" xlink:href=\"#m68aeeffd50\" y=\"201.354823\"/>\r\n     <use style=\"fill:#ff0000;stroke:#ff0000;\" x=\"86.507955\" xlink:href=\"#m68aeeffd50\" y=\"198.004438\"/>\r\n     <use style=\"fill:#ff0000;stroke:#ff0000;\" x=\"128.780682\" xlink:href=\"#m68aeeffd50\" y=\"198.004438\"/>\r\n     <use style=\"fill:#ff0000;stroke:#ff0000;\" x=\"78.053409\" xlink:href=\"#m68aeeffd50\" y=\"194.654052\"/>\r\n     <use style=\"fill:#ff0000;stroke:#ff0000;\" x=\"78.053409\" xlink:href=\"#m68aeeffd50\" y=\"201.354823\"/>\r\n     <use style=\"fill:#ff0000;stroke:#ff0000;\" x=\"35.780682\" xlink:href=\"#m68aeeffd50\" y=\"211.405978\"/>\r\n     <use style=\"fill:#ff0000;stroke:#ff0000;\" x=\"162.598864\" xlink:href=\"#m68aeeffd50\" y=\"208.055593\"/>\r\n     <use style=\"fill:#ff0000;stroke:#ff0000;\" x=\"154.144318\" xlink:href=\"#m68aeeffd50\" y=\"198.004438\"/>\r\n     <use style=\"fill:#ff0000;stroke:#ff0000;\" x=\"128.780682\" xlink:href=\"#m68aeeffd50\" y=\"204.705208\"/>\r\n     <use style=\"fill:#ff0000;stroke:#ff0000;\" x=\"103.417045\" xlink:href=\"#m68aeeffd50\" y=\"201.354823\"/>\r\n     <use style=\"fill:#ff0000;stroke:#ff0000;\" x=\"154.144318\" xlink:href=\"#m68aeeffd50\" y=\"191.303667\"/>\r\n     <use style=\"fill:#ff0000;stroke:#ff0000;\" x=\"103.417045\" xlink:href=\"#m68aeeffd50\" y=\"198.004438\"/>\r\n     <use style=\"fill:#ff0000;stroke:#ff0000;\" x=\"128.780682\" xlink:href=\"#m68aeeffd50\" y=\"191.303667\"/>\r\n     <use style=\"fill:#ff0000;stroke:#ff0000;\" x=\"103.417045\" xlink:href=\"#m68aeeffd50\" y=\"198.004438\"/>\r\n     <use style=\"fill:#ff0000;stroke:#ff0000;\" x=\"61.144318\" xlink:href=\"#m68aeeffd50\" y=\"214.756364\"/>\r\n     <use style=\"fill:#ff0000;stroke:#ff0000;\" x=\"103.417045\" xlink:href=\"#m68aeeffd50\" y=\"191.303667\"/>\r\n     <use style=\"fill:#ff0000;stroke:#ff0000;\" x=\"78.053409\" xlink:href=\"#m68aeeffd50\" y=\"184.602897\"/>\r\n     <use style=\"fill:#ff0000;stroke:#ff0000;\" x=\"94.9625\" xlink:href=\"#m68aeeffd50\" y=\"194.654052\"/>\r\n     <use style=\"fill:#ff0000;stroke:#ff0000;\" x=\"94.9625\" xlink:href=\"#m68aeeffd50\" y=\"194.654052\"/>\r\n     <use style=\"fill:#ff0000;stroke:#ff0000;\" x=\"111.871591\" xlink:href=\"#m68aeeffd50\" y=\"198.004438\"/>\r\n     <use style=\"fill:#ff0000;stroke:#ff0000;\" x=\"111.871591\" xlink:href=\"#m68aeeffd50\" y=\"201.354823\"/>\r\n     <use style=\"fill:#ff0000;stroke:#ff0000;\" x=\"69.598864\" xlink:href=\"#m68aeeffd50\" y=\"194.654052\"/>\r\n     <use style=\"fill:#ff0000;stroke:#ff0000;\" x=\"78.053409\" xlink:href=\"#m68aeeffd50\" y=\"194.654052\"/>\r\n     <use style=\"fill:#ff0000;stroke:#ff0000;\" x=\"128.780682\" xlink:href=\"#m68aeeffd50\" y=\"198.004438\"/>\r\n     <use style=\"fill:#ff0000;stroke:#ff0000;\" x=\"111.871591\" xlink:href=\"#m68aeeffd50\" y=\"198.004438\"/>\r\n     <use style=\"fill:#ff0000;stroke:#ff0000;\" x=\"137.235227\" xlink:href=\"#m68aeeffd50\" y=\"201.354823\"/>\r\n     <use style=\"fill:#ff0000;stroke:#ff0000;\" x=\"86.507955\" xlink:href=\"#m68aeeffd50\" y=\"198.004438\"/>\r\n     <use style=\"fill:#ff0000;stroke:#ff0000;\" x=\"94.9625\" xlink:href=\"#m68aeeffd50\" y=\"208.055593\"/>\r\n     <use style=\"fill:#ff0000;stroke:#ff0000;\" x=\"137.235227\" xlink:href=\"#m68aeeffd50\" y=\"204.705208\"/>\r\n     <use style=\"fill:#ff0000;stroke:#ff0000;\" x=\"86.507955\" xlink:href=\"#m68aeeffd50\" y=\"198.004438\"/>\r\n     <use style=\"fill:#ff0000;stroke:#ff0000;\" x=\"44.235227\" xlink:href=\"#m68aeeffd50\" y=\"204.705208\"/>\r\n     <use style=\"fill:#ff0000;stroke:#ff0000;\" x=\"103.417045\" xlink:href=\"#m68aeeffd50\" y=\"198.004438\"/>\r\n     <use style=\"fill:#ff0000;stroke:#ff0000;\" x=\"94.9625\" xlink:href=\"#m68aeeffd50\" y=\"204.705208\"/>\r\n     <use style=\"fill:#ff0000;stroke:#ff0000;\" x=\"52.689773\" xlink:href=\"#m68aeeffd50\" y=\"204.705208\"/>\r\n     <use style=\"fill:#ff0000;stroke:#ff0000;\" x=\"44.235227\" xlink:href=\"#m68aeeffd50\" y=\"204.705208\"/>\r\n     <use style=\"fill:#ff0000;stroke:#ff0000;\" x=\"94.9625\" xlink:href=\"#m68aeeffd50\" y=\"194.654052\"/>\r\n     <use style=\"fill:#ff0000;stroke:#ff0000;\" x=\"103.417045\" xlink:href=\"#m68aeeffd50\" y=\"184.602897\"/>\r\n     <use style=\"fill:#ff0000;stroke:#ff0000;\" x=\"78.053409\" xlink:href=\"#m68aeeffd50\" y=\"201.354823\"/>\r\n     <use style=\"fill:#ff0000;stroke:#ff0000;\" x=\"103.417045\" xlink:href=\"#m68aeeffd50\" y=\"194.654052\"/>\r\n     <use style=\"fill:#ff0000;stroke:#ff0000;\" x=\"61.144318\" xlink:href=\"#m68aeeffd50\" y=\"201.354823\"/>\r\n     <use style=\"fill:#ff0000;stroke:#ff0000;\" x=\"120.326136\" xlink:href=\"#m68aeeffd50\" y=\"198.004438\"/>\r\n     <use style=\"fill:#ff0000;stroke:#ff0000;\" x=\"94.9625\" xlink:href=\"#m68aeeffd50\" y=\"201.354823\"/>\r\n    </g>\r\n   </g>\r\n   <g id=\"PathCollection_2\">\r\n    <defs>\r\n     <path d=\"M 0 3 \r\nC 0.795609 3 1.55874 2.683901 2.12132 2.12132 \r\nC 2.683901 1.55874 3 0.795609 3 0 \r\nC 3 -0.795609 2.683901 -1.55874 2.12132 -2.12132 \r\nC 1.55874 -2.683901 0.795609 -3 0 -3 \r\nC -0.795609 -3 -1.55874 -2.683901 -2.12132 -2.12132 \r\nC -2.683901 -1.55874 -3 -0.795609 -3 0 \r\nC -3 0.795609 -2.683901 1.55874 -2.12132 2.12132 \r\nC -1.55874 2.683901 -0.795609 3 0 3 \r\nz\r\n\" id=\"me2f063026a\" style=\"stroke:#0000ff;\"/>\r\n    </defs>\r\n    <g clip-path=\"url(#p45bfbdd359)\">\r\n     <use style=\"fill:#0000ff;stroke:#0000ff;\" x=\"264.053409\" xlink:href=\"#me2f063026a\" y=\"90.792111\"/>\r\n     <use style=\"fill:#0000ff;stroke:#0000ff;\" x=\"213.326136\" xlink:href=\"#me2f063026a\" y=\"97.492881\"/>\r\n     <use style=\"fill:#0000ff;stroke:#0000ff;\" x=\"255.598864\" xlink:href=\"#me2f063026a\" y=\"84.091341\"/>\r\n     <use style=\"fill:#0000ff;stroke:#0000ff;\" x=\"137.235227\" xlink:href=\"#me2f063026a\" y=\"114.244807\"/>\r\n     <use style=\"fill:#0000ff;stroke:#0000ff;\" x=\"221.780682\" xlink:href=\"#me2f063026a\" y=\"94.142496\"/>\r\n     <use style=\"fill:#0000ff;stroke:#0000ff;\" x=\"154.144318\" xlink:href=\"#me2f063026a\" y=\"97.492881\"/>\r\n     <use style=\"fill:#0000ff;stroke:#0000ff;\" x=\"204.871591\" xlink:href=\"#me2f063026a\" y=\"90.792111\"/>\r\n     <use style=\"fill:#0000ff;stroke:#0000ff;\" x=\"86.507955\" xlink:href=\"#me2f063026a\" y=\"137.697504\"/>\r\n     <use style=\"fill:#0000ff;stroke:#0000ff;\" x=\"230.235227\" xlink:href=\"#me2f063026a\" y=\"94.142496\"/>\r\n     <use style=\"fill:#0000ff;stroke:#0000ff;\" x=\"111.871591\" xlink:href=\"#me2f063026a\" y=\"117.595193\"/>\r\n     <use style=\"fill:#0000ff;stroke:#0000ff;\" x=\"94.9625\" xlink:href=\"#me2f063026a\" y=\"130.996733\"/>\r\n     <use style=\"fill:#0000ff;stroke:#0000ff;\" x=\"171.053409\" xlink:href=\"#me2f063026a\" y=\"107.544037\"/>\r\n     <use style=\"fill:#0000ff;stroke:#0000ff;\" x=\"179.507955\" xlink:href=\"#me2f063026a\" y=\"114.244807\"/>\r\n     <use style=\"fill:#0000ff;stroke:#0000ff;\" x=\"187.9625\" xlink:href=\"#me2f063026a\" y=\"90.792111\"/>\r\n     <use style=\"fill:#0000ff;stroke:#0000ff;\" x=\"145.689773\" xlink:href=\"#me2f063026a\" y=\"127.646348\"/>\r\n     <use style=\"fill:#0000ff;stroke:#0000ff;\" x=\"238.689773\" xlink:href=\"#me2f063026a\" y=\"100.843267\"/>\r\n     <use style=\"fill:#0000ff;stroke:#0000ff;\" x=\"145.689773\" xlink:href=\"#me2f063026a\" y=\"97.492881\"/>\r\n     <use style=\"fill:#0000ff;stroke:#0000ff;\" x=\"162.598864\" xlink:href=\"#me2f063026a\" y=\"110.894422\"/>\r\n     <use style=\"fill:#0000ff;stroke:#0000ff;\" x=\"196.417045\" xlink:href=\"#me2f063026a\" y=\"97.492881\"/>\r\n     <use style=\"fill:#0000ff;stroke:#0000ff;\" x=\"145.689773\" xlink:href=\"#me2f063026a\" y=\"117.595193\"/>\r\n     <use style=\"fill:#0000ff;stroke:#0000ff;\" x=\"171.053409\" xlink:href=\"#me2f063026a\" y=\"87.441726\"/>\r\n     <use style=\"fill:#0000ff;stroke:#0000ff;\" x=\"187.9625\" xlink:href=\"#me2f063026a\" y=\"114.244807\"/>\r\n     <use style=\"fill:#0000ff;stroke:#0000ff;\" x=\"204.871591\" xlink:href=\"#me2f063026a\" y=\"84.091341\"/>\r\n     <use style=\"fill:#0000ff;stroke:#0000ff;\" x=\"187.9625\" xlink:href=\"#me2f063026a\" y=\"90.792111\"/>\r\n     <use style=\"fill:#0000ff;stroke:#0000ff;\" x=\"213.326136\" xlink:href=\"#me2f063026a\" y=\"104.193652\"/>\r\n     <use style=\"fill:#0000ff;stroke:#0000ff;\" x=\"230.235227\" xlink:href=\"#me2f063026a\" y=\"100.843267\"/>\r\n     <use style=\"fill:#0000ff;stroke:#0000ff;\" x=\"247.144318\" xlink:href=\"#me2f063026a\" y=\"87.441726\"/>\r\n     <use style=\"fill:#0000ff;stroke:#0000ff;\" x=\"238.689773\" xlink:href=\"#me2f063026a\" y=\"80.740955\"/>\r\n     <use style=\"fill:#0000ff;stroke:#0000ff;\" x=\"179.507955\" xlink:href=\"#me2f063026a\" y=\"97.492881\"/>\r\n     <use style=\"fill:#0000ff;stroke:#0000ff;\" x=\"154.144318\" xlink:href=\"#me2f063026a\" y=\"130.996733\"/>\r\n     <use style=\"fill:#0000ff;stroke:#0000ff;\" x=\"137.235227\" xlink:href=\"#me2f063026a\" y=\"120.945578\"/>\r\n     <use style=\"fill:#0000ff;stroke:#0000ff;\" x=\"137.235227\" xlink:href=\"#me2f063026a\" y=\"124.295963\"/>\r\n     <use style=\"fill:#0000ff;stroke:#0000ff;\" x=\"162.598864\" xlink:href=\"#me2f063026a\" y=\"117.595193\"/>\r\n     <use style=\"fill:#0000ff;stroke:#0000ff;\" x=\"179.507955\" xlink:href=\"#me2f063026a\" y=\"77.39057\"/>\r\n     <use style=\"fill:#0000ff;stroke:#0000ff;\" x=\"128.780682\" xlink:href=\"#me2f063026a\" y=\"97.492881\"/>\r\n     <use style=\"fill:#0000ff;stroke:#0000ff;\" x=\"179.507955\" xlink:href=\"#me2f063026a\" y=\"97.492881\"/>\r\n     <use style=\"fill:#0000ff;stroke:#0000ff;\" x=\"238.689773\" xlink:href=\"#me2f063026a\" y=\"90.792111\"/>\r\n     <use style=\"fill:#0000ff;stroke:#0000ff;\" x=\"204.871591\" xlink:href=\"#me2f063026a\" y=\"100.843267\"/>\r\n     <use style=\"fill:#0000ff;stroke:#0000ff;\" x=\"145.689773\" xlink:href=\"#me2f063026a\" y=\"110.894422\"/>\r\n     <use style=\"fill:#0000ff;stroke:#0000ff;\" x=\"137.235227\" xlink:href=\"#me2f063026a\" y=\"114.244807\"/>\r\n     <use style=\"fill:#0000ff;stroke:#0000ff;\" x=\"137.235227\" xlink:href=\"#me2f063026a\" y=\"100.843267\"/>\r\n     <use style=\"fill:#0000ff;stroke:#0000ff;\" x=\"187.9625\" xlink:href=\"#me2f063026a\" y=\"94.142496\"/>\r\n     <use style=\"fill:#0000ff;stroke:#0000ff;\" x=\"162.598864\" xlink:href=\"#me2f063026a\" y=\"114.244807\"/>\r\n     <use style=\"fill:#0000ff;stroke:#0000ff;\" x=\"94.9625\" xlink:href=\"#me2f063026a\" y=\"137.697504\"/>\r\n     <use style=\"fill:#0000ff;stroke:#0000ff;\" x=\"145.689773\" xlink:href=\"#me2f063026a\" y=\"107.544037\"/>\r\n     <use style=\"fill:#0000ff;stroke:#0000ff;\" x=\"154.144318\" xlink:href=\"#me2f063026a\" y=\"107.544037\"/>\r\n     <use style=\"fill:#0000ff;stroke:#0000ff;\" x=\"154.144318\" xlink:href=\"#me2f063026a\" y=\"107.544037\"/>\r\n     <use style=\"fill:#0000ff;stroke:#0000ff;\" x=\"196.417045\" xlink:href=\"#me2f063026a\" y=\"104.193652\"/>\r\n     <use style=\"fill:#0000ff;stroke:#0000ff;\" x=\"103.417045\" xlink:href=\"#me2f063026a\" y=\"147.748659\"/>\r\n     <use style=\"fill:#0000ff;stroke:#0000ff;\" x=\"154.144318\" xlink:href=\"#me2f063026a\" y=\"110.894422\"/>\r\n    </g>\r\n   </g>\r\n   <g id=\"PathCollection_3\">\r\n    <defs>\r\n     <path d=\"M 0 3 \r\nC 0.795609 3 1.55874 2.683901 2.12132 2.12132 \r\nC 2.683901 1.55874 3 0.795609 3 0 \r\nC 3 -0.795609 2.683901 -1.55874 2.12132 -2.12132 \r\nC 1.55874 -2.683901 0.795609 -3 0 -3 \r\nC -0.795609 -3 -1.55874 -2.683901 -2.12132 -2.12132 \r\nC -2.683901 -1.55874 -3 -0.795609 -3 0 \r\nC -3 0.795609 -2.683901 1.55874 -2.12132 2.12132 \r\nC -1.55874 2.683901 -0.795609 3 0 3 \r\nz\r\n\" id=\"m408340474a\" style=\"stroke:#008000;\"/>\r\n    </defs>\r\n    <g clip-path=\"url(#p45bfbdd359)\">\r\n     <use style=\"fill:#008000;stroke:#008000;\" x=\"204.871591\" xlink:href=\"#m408340474a\" y=\"47.237103\"/>\r\n     <use style=\"fill:#008000;stroke:#008000;\" x=\"162.598864\" xlink:href=\"#m408340474a\" y=\"77.39057\"/>\r\n     <use style=\"fill:#008000;stroke:#008000;\" x=\"272.507955\" xlink:href=\"#m408340474a\" y=\"50.587488\"/>\r\n     <use style=\"fill:#008000;stroke:#008000;\" x=\"204.871591\" xlink:href=\"#m408340474a\" y=\"60.638644\"/>\r\n     <use style=\"fill:#008000;stroke:#008000;\" x=\"221.780682\" xlink:href=\"#m408340474a\" y=\"53.937874\"/>\r\n     <use style=\"fill:#008000;stroke:#008000;\" x=\"314.780682\" xlink:href=\"#m408340474a\" y=\"27.134792\"/>\r\n     <use style=\"fill:#008000;stroke:#008000;\" x=\"86.507955\" xlink:href=\"#m408340474a\" y=\"97.492881\"/>\r\n     <use style=\"fill:#008000;stroke:#008000;\" x=\"289.417045\" xlink:href=\"#m408340474a\" y=\"37.185948\"/>\r\n     <use style=\"fill:#008000;stroke:#008000;\" x=\"238.689773\" xlink:href=\"#m408340474a\" y=\"53.937874\"/>\r\n     <use style=\"fill:#008000;stroke:#008000;\" x=\"280.9625\" xlink:href=\"#m408340474a\" y=\"43.886718\"/>\r\n     <use style=\"fill:#008000;stroke:#008000;\" x=\"221.780682\" xlink:href=\"#m408340474a\" y=\"77.39057\"/>\r\n     <use style=\"fill:#008000;stroke:#008000;\" x=\"213.326136\" xlink:href=\"#m408340474a\" y=\"70.6898\"/>\r\n     <use style=\"fill:#008000;stroke:#008000;\" x=\"247.144318\" xlink:href=\"#m408340474a\" y=\"63.989029\"/>\r\n     <use style=\"fill:#008000;stroke:#008000;\" x=\"154.144318\" xlink:href=\"#m408340474a\" y=\"80.740955\"/>\r\n     <use style=\"fill:#008000;stroke:#008000;\" x=\"162.598864\" xlink:href=\"#m408340474a\" y=\"77.39057\"/>\r\n     <use style=\"fill:#008000;stroke:#008000;\" x=\"213.326136\" xlink:href=\"#m408340474a\" y=\"70.6898\"/>\r\n     <use style=\"fill:#008000;stroke:#008000;\" x=\"221.780682\" xlink:href=\"#m408340474a\" y=\"63.989029\"/>\r\n     <use style=\"fill:#008000;stroke:#008000;\" x=\"323.235227\" xlink:href=\"#m408340474a\" y=\"23.784407\"/>\r\n     <use style=\"fill:#008000;stroke:#008000;\" x=\"323.235227\" xlink:href=\"#m408340474a\" y=\"17.083636\"/>\r\n     <use style=\"fill:#008000;stroke:#008000;\" x=\"179.507955\" xlink:href=\"#m408340474a\" y=\"80.740955\"/>\r\n     <use style=\"fill:#008000;stroke:#008000;\" x=\"255.598864\" xlink:href=\"#m408340474a\" y=\"57.288259\"/>\r\n     <use style=\"fill:#008000;stroke:#008000;\" x=\"145.689773\" xlink:href=\"#m408340474a\" y=\"84.091341\"/>\r\n     <use style=\"fill:#008000;stroke:#008000;\" x=\"323.235227\" xlink:href=\"#m408340474a\" y=\"23.784407\"/>\r\n     <use style=\"fill:#008000;stroke:#008000;\" x=\"204.871591\" xlink:href=\"#m408340474a\" y=\"84.091341\"/>\r\n     <use style=\"fill:#008000;stroke:#008000;\" x=\"238.689773\" xlink:href=\"#m408340474a\" y=\"57.288259\"/>\r\n     <use style=\"fill:#008000;stroke:#008000;\" x=\"280.9625\" xlink:href=\"#m408340474a\" y=\"47.237103\"/>\r\n     <use style=\"fill:#008000;stroke:#008000;\" x=\"196.417045\" xlink:href=\"#m408340474a\" y=\"87.441726\"/>\r\n     <use style=\"fill:#008000;stroke:#008000;\" x=\"187.9625\" xlink:href=\"#m408340474a\" y=\"84.091341\"/>\r\n     <use style=\"fill:#008000;stroke:#008000;\" x=\"213.326136\" xlink:href=\"#m408340474a\" y=\"60.638644\"/>\r\n     <use style=\"fill:#008000;stroke:#008000;\" x=\"280.9625\" xlink:href=\"#m408340474a\" y=\"53.937874\"/>\r\n     <use style=\"fill:#008000;stroke:#008000;\" x=\"297.871591\" xlink:href=\"#m408340474a\" y=\"43.886718\"/>\r\n     <use style=\"fill:#008000;stroke:#008000;\" x=\"340.144318\" xlink:href=\"#m408340474a\" y=\"33.835562\"/>\r\n     <use style=\"fill:#008000;stroke:#008000;\" x=\"213.326136\" xlink:href=\"#m408340474a\" y=\"60.638644\"/>\r\n     <use style=\"fill:#008000;stroke:#008000;\" x=\"204.871591\" xlink:href=\"#m408340474a\" y=\"77.39057\"/>\r\n     <use style=\"fill:#008000;stroke:#008000;\" x=\"187.9625\" xlink:href=\"#m408340474a\" y=\"60.638644\"/>\r\n     <use style=\"fill:#008000;stroke:#008000;\" x=\"323.235227\" xlink:href=\"#m408340474a\" y=\"43.886718\"/>\r\n     <use style=\"fill:#008000;stroke:#008000;\" x=\"204.871591\" xlink:href=\"#m408340474a\" y=\"60.638644\"/>\r\n     <use style=\"fill:#008000;stroke:#008000;\" x=\"213.326136\" xlink:href=\"#m408340474a\" y=\"63.989029\"/>\r\n     <use style=\"fill:#008000;stroke:#008000;\" x=\"179.507955\" xlink:href=\"#m408340474a\" y=\"87.441726\"/>\r\n     <use style=\"fill:#008000;stroke:#008000;\" x=\"255.598864\" xlink:href=\"#m408340474a\" y=\"67.339414\"/>\r\n     <use style=\"fill:#008000;stroke:#008000;\" x=\"238.689773\" xlink:href=\"#m408340474a\" y=\"60.638644\"/>\r\n     <use style=\"fill:#008000;stroke:#008000;\" x=\"255.598864\" xlink:href=\"#m408340474a\" y=\"77.39057\"/>\r\n     <use style=\"fill:#008000;stroke:#008000;\" x=\"162.598864\" xlink:href=\"#m408340474a\" y=\"77.39057\"/>\r\n     <use style=\"fill:#008000;stroke:#008000;\" x=\"247.144318\" xlink:href=\"#m408340474a\" y=\"50.587488\"/>\r\n     <use style=\"fill:#008000;stroke:#008000;\" x=\"238.689773\" xlink:href=\"#m408340474a\" y=\"57.288259\"/>\r\n     <use style=\"fill:#008000;stroke:#008000;\" x=\"238.689773\" xlink:href=\"#m408340474a\" y=\"74.040185\"/>\r\n     <use style=\"fill:#008000;stroke:#008000;\" x=\"204.871591\" xlink:href=\"#m408340474a\" y=\"80.740955\"/>\r\n     <use style=\"fill:#008000;stroke:#008000;\" x=\"221.780682\" xlink:href=\"#m408340474a\" y=\"74.040185\"/>\r\n     <use style=\"fill:#008000;stroke:#008000;\" x=\"196.417045\" xlink:href=\"#m408340474a\" y=\"67.339414\"/>\r\n     <use style=\"fill:#008000;stroke:#008000;\" x=\"171.053409\" xlink:href=\"#m408340474a\" y=\"77.39057\"/>\r\n    </g>\r\n   </g>\r\n   <g id=\"matplotlib.axis_1\">\r\n    <g id=\"xtick_1\">\r\n     <g id=\"line2d_1\">\r\n      <defs>\r\n       <path d=\"M 0 0 \r\nL 0 3.5 \r\n\" id=\"mfb0220dde5\" style=\"stroke:#000000;stroke-width:0.8;\"/>\r\n      </defs>\r\n      <g>\r\n       <use style=\"stroke:#000000;stroke-width:0.8;\" x=\"52.689773\" xlink:href=\"#mfb0220dde5\" y=\"224.64\"/>\r\n      </g>\r\n     </g>\r\n     <g id=\"text_1\">\r\n      <!-- 4.5 -->\r\n      <g transform=\"translate(44.73821 239.238437)scale(0.1 -0.1)\">\r\n       <defs>\r\n        <path d=\"M 2419 4116 \r\nL 825 1625 \r\nL 2419 1625 \r\nL 2419 4116 \r\nz\r\nM 2253 4666 \r\nL 3047 4666 \r\nL 3047 1625 \r\nL 3713 1625 \r\nL 3713 1100 \r\nL 3047 1100 \r\nL 3047 0 \r\nL 2419 0 \r\nL 2419 1100 \r\nL 313 1100 \r\nL 313 1709 \r\nL 2253 4666 \r\nz\r\n\" id=\"DejaVuSans-34\" transform=\"scale(0.015625)\"/>\r\n        <path d=\"M 684 794 \r\nL 1344 794 \r\nL 1344 0 \r\nL 684 0 \r\nL 684 794 \r\nz\r\n\" id=\"DejaVuSans-2e\" transform=\"scale(0.015625)\"/>\r\n        <path d=\"M 691 4666 \r\nL 3169 4666 \r\nL 3169 4134 \r\nL 1269 4134 \r\nL 1269 2991 \r\nQ 1406 3038 1543 3061 \r\nQ 1681 3084 1819 3084 \r\nQ 2600 3084 3056 2656 \r\nQ 3513 2228 3513 1497 \r\nQ 3513 744 3044 326 \r\nQ 2575 -91 1722 -91 \r\nQ 1428 -91 1123 -41 \r\nQ 819 9 494 109 \r\nL 494 744 \r\nQ 775 591 1075 516 \r\nQ 1375 441 1709 441 \r\nQ 2250 441 2565 725 \r\nQ 2881 1009 2881 1497 \r\nQ 2881 1984 2565 2268 \r\nQ 2250 2553 1709 2553 \r\nQ 1456 2553 1204 2497 \r\nQ 953 2441 691 2322 \r\nL 691 4666 \r\nz\r\n\" id=\"DejaVuSans-35\" transform=\"scale(0.015625)\"/>\r\n       </defs>\r\n       <use xlink:href=\"#DejaVuSans-34\"/>\r\n       <use x=\"63.623047\" xlink:href=\"#DejaVuSans-2e\"/>\r\n       <use x=\"95.410156\" xlink:href=\"#DejaVuSans-35\"/>\r\n      </g>\r\n     </g>\r\n    </g>\r\n    <g id=\"xtick_2\">\r\n     <g id=\"line2d_2\">\r\n      <g>\r\n       <use style=\"stroke:#000000;stroke-width:0.8;\" x=\"94.9625\" xlink:href=\"#mfb0220dde5\" y=\"224.64\"/>\r\n      </g>\r\n     </g>\r\n     <g id=\"text_2\">\r\n      <!-- 5.0 -->\r\n      <g transform=\"translate(87.010937 239.238437)scale(0.1 -0.1)\">\r\n       <defs>\r\n        <path d=\"M 2034 4250 \r\nQ 1547 4250 1301 3770 \r\nQ 1056 3291 1056 2328 \r\nQ 1056 1369 1301 889 \r\nQ 1547 409 2034 409 \r\nQ 2525 409 2770 889 \r\nQ 3016 1369 3016 2328 \r\nQ 3016 3291 2770 3770 \r\nQ 2525 4250 2034 4250 \r\nz\r\nM 2034 4750 \r\nQ 2819 4750 3233 4129 \r\nQ 3647 3509 3647 2328 \r\nQ 3647 1150 3233 529 \r\nQ 2819 -91 2034 -91 \r\nQ 1250 -91 836 529 \r\nQ 422 1150 422 2328 \r\nQ 422 3509 836 4129 \r\nQ 1250 4750 2034 4750 \r\nz\r\n\" id=\"DejaVuSans-30\" transform=\"scale(0.015625)\"/>\r\n       </defs>\r\n       <use xlink:href=\"#DejaVuSans-35\"/>\r\n       <use x=\"63.623047\" xlink:href=\"#DejaVuSans-2e\"/>\r\n       <use x=\"95.410156\" xlink:href=\"#DejaVuSans-30\"/>\r\n      </g>\r\n     </g>\r\n    </g>\r\n    <g id=\"xtick_3\">\r\n     <g id=\"line2d_3\">\r\n      <g>\r\n       <use style=\"stroke:#000000;stroke-width:0.8;\" x=\"137.235227\" xlink:href=\"#mfb0220dde5\" y=\"224.64\"/>\r\n      </g>\r\n     </g>\r\n     <g id=\"text_3\">\r\n      <!-- 5.5 -->\r\n      <g transform=\"translate(129.283665 239.238437)scale(0.1 -0.1)\">\r\n       <use xlink:href=\"#DejaVuSans-35\"/>\r\n       <use x=\"63.623047\" xlink:href=\"#DejaVuSans-2e\"/>\r\n       <use x=\"95.410156\" xlink:href=\"#DejaVuSans-35\"/>\r\n      </g>\r\n     </g>\r\n    </g>\r\n    <g id=\"xtick_4\">\r\n     <g id=\"line2d_4\">\r\n      <g>\r\n       <use style=\"stroke:#000000;stroke-width:0.8;\" x=\"179.507955\" xlink:href=\"#mfb0220dde5\" y=\"224.64\"/>\r\n      </g>\r\n     </g>\r\n     <g id=\"text_4\">\r\n      <!-- 6.0 -->\r\n      <g transform=\"translate(171.556392 239.238437)scale(0.1 -0.1)\">\r\n       <defs>\r\n        <path d=\"M 2113 2584 \r\nQ 1688 2584 1439 2293 \r\nQ 1191 2003 1191 1497 \r\nQ 1191 994 1439 701 \r\nQ 1688 409 2113 409 \r\nQ 2538 409 2786 701 \r\nQ 3034 994 3034 1497 \r\nQ 3034 2003 2786 2293 \r\nQ 2538 2584 2113 2584 \r\nz\r\nM 3366 4563 \r\nL 3366 3988 \r\nQ 3128 4100 2886 4159 \r\nQ 2644 4219 2406 4219 \r\nQ 1781 4219 1451 3797 \r\nQ 1122 3375 1075 2522 \r\nQ 1259 2794 1537 2939 \r\nQ 1816 3084 2150 3084 \r\nQ 2853 3084 3261 2657 \r\nQ 3669 2231 3669 1497 \r\nQ 3669 778 3244 343 \r\nQ 2819 -91 2113 -91 \r\nQ 1303 -91 875 529 \r\nQ 447 1150 447 2328 \r\nQ 447 3434 972 4092 \r\nQ 1497 4750 2381 4750 \r\nQ 2619 4750 2861 4703 \r\nQ 3103 4656 3366 4563 \r\nz\r\n\" id=\"DejaVuSans-36\" transform=\"scale(0.015625)\"/>\r\n       </defs>\r\n       <use xlink:href=\"#DejaVuSans-36\"/>\r\n       <use x=\"63.623047\" xlink:href=\"#DejaVuSans-2e\"/>\r\n       <use x=\"95.410156\" xlink:href=\"#DejaVuSans-30\"/>\r\n      </g>\r\n     </g>\r\n    </g>\r\n    <g id=\"xtick_5\">\r\n     <g id=\"line2d_5\">\r\n      <g>\r\n       <use style=\"stroke:#000000;stroke-width:0.8;\" x=\"221.780682\" xlink:href=\"#mfb0220dde5\" y=\"224.64\"/>\r\n      </g>\r\n     </g>\r\n     <g id=\"text_5\">\r\n      <!-- 6.5 -->\r\n      <g transform=\"translate(213.829119 239.238437)scale(0.1 -0.1)\">\r\n       <use xlink:href=\"#DejaVuSans-36\"/>\r\n       <use x=\"63.623047\" xlink:href=\"#DejaVuSans-2e\"/>\r\n       <use x=\"95.410156\" xlink:href=\"#DejaVuSans-35\"/>\r\n      </g>\r\n     </g>\r\n    </g>\r\n    <g id=\"xtick_6\">\r\n     <g id=\"line2d_6\">\r\n      <g>\r\n       <use style=\"stroke:#000000;stroke-width:0.8;\" x=\"264.053409\" xlink:href=\"#mfb0220dde5\" y=\"224.64\"/>\r\n      </g>\r\n     </g>\r\n     <g id=\"text_6\">\r\n      <!-- 7.0 -->\r\n      <g transform=\"translate(256.101847 239.238437)scale(0.1 -0.1)\">\r\n       <defs>\r\n        <path d=\"M 525 4666 \r\nL 3525 4666 \r\nL 3525 4397 \r\nL 1831 0 \r\nL 1172 0 \r\nL 2766 4134 \r\nL 525 4134 \r\nL 525 4666 \r\nz\r\n\" id=\"DejaVuSans-37\" transform=\"scale(0.015625)\"/>\r\n       </defs>\r\n       <use xlink:href=\"#DejaVuSans-37\"/>\r\n       <use x=\"63.623047\" xlink:href=\"#DejaVuSans-2e\"/>\r\n       <use x=\"95.410156\" xlink:href=\"#DejaVuSans-30\"/>\r\n      </g>\r\n     </g>\r\n    </g>\r\n    <g id=\"xtick_7\">\r\n     <g id=\"line2d_7\">\r\n      <g>\r\n       <use style=\"stroke:#000000;stroke-width:0.8;\" x=\"306.326136\" xlink:href=\"#mfb0220dde5\" y=\"224.64\"/>\r\n      </g>\r\n     </g>\r\n     <g id=\"text_7\">\r\n      <!-- 7.5 -->\r\n      <g transform=\"translate(298.374574 239.238437)scale(0.1 -0.1)\">\r\n       <use xlink:href=\"#DejaVuSans-37\"/>\r\n       <use x=\"63.623047\" xlink:href=\"#DejaVuSans-2e\"/>\r\n       <use x=\"95.410156\" xlink:href=\"#DejaVuSans-35\"/>\r\n      </g>\r\n     </g>\r\n    </g>\r\n    <g id=\"xtick_8\">\r\n     <g id=\"line2d_8\">\r\n      <g>\r\n       <use style=\"stroke:#000000;stroke-width:0.8;\" x=\"348.598864\" xlink:href=\"#mfb0220dde5\" y=\"224.64\"/>\r\n      </g>\r\n     </g>\r\n     <g id=\"text_8\">\r\n      <!-- 8.0 -->\r\n      <g transform=\"translate(340.647301 239.238437)scale(0.1 -0.1)\">\r\n       <defs>\r\n        <path d=\"M 2034 2216 \r\nQ 1584 2216 1326 1975 \r\nQ 1069 1734 1069 1313 \r\nQ 1069 891 1326 650 \r\nQ 1584 409 2034 409 \r\nQ 2484 409 2743 651 \r\nQ 3003 894 3003 1313 \r\nQ 3003 1734 2745 1975 \r\nQ 2488 2216 2034 2216 \r\nz\r\nM 1403 2484 \r\nQ 997 2584 770 2862 \r\nQ 544 3141 544 3541 \r\nQ 544 4100 942 4425 \r\nQ 1341 4750 2034 4750 \r\nQ 2731 4750 3128 4425 \r\nQ 3525 4100 3525 3541 \r\nQ 3525 3141 3298 2862 \r\nQ 3072 2584 2669 2484 \r\nQ 3125 2378 3379 2068 \r\nQ 3634 1759 3634 1313 \r\nQ 3634 634 3220 271 \r\nQ 2806 -91 2034 -91 \r\nQ 1263 -91 848 271 \r\nQ 434 634 434 1313 \r\nQ 434 1759 690 2068 \r\nQ 947 2378 1403 2484 \r\nz\r\nM 1172 3481 \r\nQ 1172 3119 1398 2916 \r\nQ 1625 2713 2034 2713 \r\nQ 2441 2713 2670 2916 \r\nQ 2900 3119 2900 3481 \r\nQ 2900 3844 2670 4047 \r\nQ 2441 4250 2034 4250 \r\nQ 1625 4250 1398 4047 \r\nQ 1172 3844 1172 3481 \r\nz\r\n\" id=\"DejaVuSans-38\" transform=\"scale(0.015625)\"/>\r\n       </defs>\r\n       <use xlink:href=\"#DejaVuSans-38\"/>\r\n       <use x=\"63.623047\" xlink:href=\"#DejaVuSans-2e\"/>\r\n       <use x=\"95.410156\" xlink:href=\"#DejaVuSans-30\"/>\r\n      </g>\r\n     </g>\r\n    </g>\r\n   </g>\r\n   <g id=\"matplotlib.axis_2\">\r\n    <g id=\"ytick_1\">\r\n     <g id=\"line2d_9\">\r\n      <defs>\r\n       <path d=\"M 0 0 \r\nL -3.5 0 \r\n\" id=\"m3a43ef6f99\" style=\"stroke:#000000;stroke-width:0.8;\"/>\r\n      </defs>\r\n      <g>\r\n       <use style=\"stroke:#000000;stroke-width:0.8;\" x=\"20.5625\" xlink:href=\"#m3a43ef6f99\" y=\"214.756364\"/>\r\n      </g>\r\n     </g>\r\n     <g id=\"text_9\">\r\n      <!-- 1 -->\r\n      <g transform=\"translate(7.2 218.555582)scale(0.1 -0.1)\">\r\n       <defs>\r\n        <path d=\"M 794 531 \r\nL 1825 531 \r\nL 1825 4091 \r\nL 703 3866 \r\nL 703 4441 \r\nL 1819 4666 \r\nL 2450 4666 \r\nL 2450 531 \r\nL 3481 531 \r\nL 3481 0 \r\nL 794 0 \r\nL 794 531 \r\nz\r\n\" id=\"DejaVuSans-31\" transform=\"scale(0.015625)\"/>\r\n       </defs>\r\n       <use xlink:href=\"#DejaVuSans-31\"/>\r\n      </g>\r\n     </g>\r\n    </g>\r\n    <g id=\"ytick_2\">\r\n     <g id=\"line2d_10\">\r\n      <g>\r\n       <use style=\"stroke:#000000;stroke-width:0.8;\" x=\"20.5625\" xlink:href=\"#m3a43ef6f99\" y=\"181.252512\"/>\r\n      </g>\r\n     </g>\r\n     <g id=\"text_10\">\r\n      <!-- 2 -->\r\n      <g transform=\"translate(7.2 185.05173)scale(0.1 -0.1)\">\r\n       <defs>\r\n        <path d=\"M 1228 531 \r\nL 3431 531 \r\nL 3431 0 \r\nL 469 0 \r\nL 469 531 \r\nQ 828 903 1448 1529 \r\nQ 2069 2156 2228 2338 \r\nQ 2531 2678 2651 2914 \r\nQ 2772 3150 2772 3378 \r\nQ 2772 3750 2511 3984 \r\nQ 2250 4219 1831 4219 \r\nQ 1534 4219 1204 4116 \r\nQ 875 4013 500 3803 \r\nL 500 4441 \r\nQ 881 4594 1212 4672 \r\nQ 1544 4750 1819 4750 \r\nQ 2544 4750 2975 4387 \r\nQ 3406 4025 3406 3419 \r\nQ 3406 3131 3298 2873 \r\nQ 3191 2616 2906 2266 \r\nQ 2828 2175 2409 1742 \r\nQ 1991 1309 1228 531 \r\nz\r\n\" id=\"DejaVuSans-32\" transform=\"scale(0.015625)\"/>\r\n       </defs>\r\n       <use xlink:href=\"#DejaVuSans-32\"/>\r\n      </g>\r\n     </g>\r\n    </g>\r\n    <g id=\"ytick_3\">\r\n     <g id=\"line2d_11\">\r\n      <g>\r\n       <use style=\"stroke:#000000;stroke-width:0.8;\" x=\"20.5625\" xlink:href=\"#m3a43ef6f99\" y=\"147.748659\"/>\r\n      </g>\r\n     </g>\r\n     <g id=\"text_11\">\r\n      <!-- 3 -->\r\n      <g transform=\"translate(7.2 151.547878)scale(0.1 -0.1)\">\r\n       <defs>\r\n        <path d=\"M 2597 2516 \r\nQ 3050 2419 3304 2112 \r\nQ 3559 1806 3559 1356 \r\nQ 3559 666 3084 287 \r\nQ 2609 -91 1734 -91 \r\nQ 1441 -91 1130 -33 \r\nQ 819 25 488 141 \r\nL 488 750 \r\nQ 750 597 1062 519 \r\nQ 1375 441 1716 441 \r\nQ 2309 441 2620 675 \r\nQ 2931 909 2931 1356 \r\nQ 2931 1769 2642 2001 \r\nQ 2353 2234 1838 2234 \r\nL 1294 2234 \r\nL 1294 2753 \r\nL 1863 2753 \r\nQ 2328 2753 2575 2939 \r\nQ 2822 3125 2822 3475 \r\nQ 2822 3834 2567 4026 \r\nQ 2313 4219 1838 4219 \r\nQ 1578 4219 1281 4162 \r\nQ 984 4106 628 3988 \r\nL 628 4550 \r\nQ 988 4650 1302 4700 \r\nQ 1616 4750 1894 4750 \r\nQ 2613 4750 3031 4423 \r\nQ 3450 4097 3450 3541 \r\nQ 3450 3153 3228 2886 \r\nQ 3006 2619 2597 2516 \r\nz\r\n\" id=\"DejaVuSans-33\" transform=\"scale(0.015625)\"/>\r\n       </defs>\r\n       <use xlink:href=\"#DejaVuSans-33\"/>\r\n      </g>\r\n     </g>\r\n    </g>\r\n    <g id=\"ytick_4\">\r\n     <g id=\"line2d_12\">\r\n      <g>\r\n       <use style=\"stroke:#000000;stroke-width:0.8;\" x=\"20.5625\" xlink:href=\"#m3a43ef6f99\" y=\"114.244807\"/>\r\n      </g>\r\n     </g>\r\n     <g id=\"text_12\">\r\n      <!-- 4 -->\r\n      <g transform=\"translate(7.2 118.044026)scale(0.1 -0.1)\">\r\n       <use xlink:href=\"#DejaVuSans-34\"/>\r\n      </g>\r\n     </g>\r\n    </g>\r\n    <g id=\"ytick_5\">\r\n     <g id=\"line2d_13\">\r\n      <g>\r\n       <use style=\"stroke:#000000;stroke-width:0.8;\" x=\"20.5625\" xlink:href=\"#m3a43ef6f99\" y=\"80.740955\"/>\r\n      </g>\r\n     </g>\r\n     <g id=\"text_13\">\r\n      <!-- 5 -->\r\n      <g transform=\"translate(7.2 84.540174)scale(0.1 -0.1)\">\r\n       <use xlink:href=\"#DejaVuSans-35\"/>\r\n      </g>\r\n     </g>\r\n    </g>\r\n    <g id=\"ytick_6\">\r\n     <g id=\"line2d_14\">\r\n      <g>\r\n       <use style=\"stroke:#000000;stroke-width:0.8;\" x=\"20.5625\" xlink:href=\"#m3a43ef6f99\" y=\"47.237103\"/>\r\n      </g>\r\n     </g>\r\n     <g id=\"text_14\">\r\n      <!-- 6 -->\r\n      <g transform=\"translate(7.2 51.036322)scale(0.1 -0.1)\">\r\n       <use xlink:href=\"#DejaVuSans-36\"/>\r\n      </g>\r\n     </g>\r\n    </g>\r\n    <g id=\"ytick_7\">\r\n     <g id=\"line2d_15\">\r\n      <g>\r\n       <use style=\"stroke:#000000;stroke-width:0.8;\" x=\"20.5625\" xlink:href=\"#m3a43ef6f99\" y=\"13.733251\"/>\r\n      </g>\r\n     </g>\r\n     <g id=\"text_15\">\r\n      <!-- 7 -->\r\n      <g transform=\"translate(7.2 17.53247)scale(0.1 -0.1)\">\r\n       <use xlink:href=\"#DejaVuSans-37\"/>\r\n      </g>\r\n     </g>\r\n    </g>\r\n   </g>\r\n   <g id=\"patch_3\">\r\n    <path d=\"M 20.5625 224.64 \r\nL 20.5625 7.2 \r\n\" style=\"fill:none;stroke:#000000;stroke-linecap:square;stroke-linejoin:miter;stroke-width:0.8;\"/>\r\n   </g>\r\n   <g id=\"patch_4\">\r\n    <path d=\"M 355.3625 224.64 \r\nL 355.3625 7.2 \r\n\" style=\"fill:none;stroke:#000000;stroke-linecap:square;stroke-linejoin:miter;stroke-width:0.8;\"/>\r\n   </g>\r\n   <g id=\"patch_5\">\r\n    <path d=\"M 20.5625 224.64 \r\nL 355.3625 224.64 \r\n\" style=\"fill:none;stroke:#000000;stroke-linecap:square;stroke-linejoin:miter;stroke-width:0.8;\"/>\r\n   </g>\r\n   <g id=\"patch_6\">\r\n    <path d=\"M 20.5625 7.2 \r\nL 355.3625 7.2 \r\n\" style=\"fill:none;stroke:#000000;stroke-linecap:square;stroke-linejoin:miter;stroke-width:0.8;\"/>\r\n   </g>\r\n  </g>\r\n </g>\r\n <defs>\r\n  <clipPath id=\"p45bfbdd359\">\r\n   <rect height=\"217.44\" width=\"334.8\" x=\"20.5625\" y=\"7.2\"/>\r\n  </clipPath>\r\n </defs>\r\n</svg>\r\n",
      "image/png": "[encoded data removed]"
     },
     "metadata": {
      "needs_background": "light"
     }
    }
   ],
   "source": [
    "colors = ['red', 'blue', 'green']\n",
    "#for i in range(n):\n",
    "    #plt.scatter(data[i, 0], data[i,1], color = colors[int(category[i])], label = category[i])\n",
    "species = [0, 1, 2]\n",
    "for i in range(3):\n",
    "    x = df[df['Species'] == species[i]]\n",
    "    plt.scatter(x['SepalLengthCm'], x['PetalLengthCm'], c = colors[i], label = species[i])"
   ]
  },
  {
   "cell_type": "code",
   "execution_count": 52,
   "metadata": {},
   "outputs": [
    {
     "output_type": "display_data",
     "data": {
      "text/plain": "<Figure size 432x288 with 1 Axes>",
      "image/svg+xml": "<?xml version=\"1.0\" encoding=\"utf-8\" standalone=\"no\"?>\r\n<!DOCTYPE svg PUBLIC \"-//W3C//DTD SVG 1.1//EN\"\r\n  \"http://www.w3.org/Graphics/SVG/1.1/DTD/svg11.dtd\">\r\n<svg height=\"248.518125pt\" version=\"1.1\" viewBox=\"0 0 363.750426 248.518125\" width=\"363.750426pt\" xmlns=\"http://www.w3.org/2000/svg\" xmlns:xlink=\"http://www.w3.org/1999/xlink\">\r\n <metadata>\r\n  <rdf:RDF xmlns:cc=\"http://creativecommons.org/ns#\" xmlns:dc=\"http://purl.org/dc/elements/1.1/\" xmlns:rdf=\"http://www.w3.org/1999/02/22-rdf-syntax-ns#\">\r\n   <cc:Work>\r\n    <dc:type rdf:resource=\"http://purl.org/dc/dcmitype/StillImage\"/>\r\n    <dc:date>2021-06-17T11:05:02.492759</dc:date>\r\n    <dc:format>image/svg+xml</dc:format>\r\n    <dc:creator>\r\n     <cc:Agent>\r\n      <dc:title>Matplotlib v3.4.1, https://matplotlib.org/</dc:title>\r\n     </cc:Agent>\r\n    </dc:creator>\r\n   </cc:Work>\r\n  </rdf:RDF>\r\n </metadata>\r\n <defs>\r\n  <style type=\"text/css\">*{stroke-linecap:butt;stroke-linejoin:round;}</style>\r\n </defs>\r\n <g id=\"figure_1\">\r\n  <g id=\"patch_1\">\r\n   <path d=\"M 0 248.518125 \r\nL 363.750426 248.518125 \r\nL 363.750426 0 \r\nL 0 0 \r\nz\r\n\" style=\"fill:none;\"/>\r\n  </g>\r\n  <g id=\"axes_1\">\r\n   <g id=\"patch_2\">\r\n    <path d=\"M 20.5625 224.64 \r\nL 355.3625 224.64 \r\nL 355.3625 7.2 \r\nL 20.5625 7.2 \r\nz\r\n\" style=\"fill:#ffffff;\"/>\r\n   </g>\r\n   <g id=\"PathCollection_1\">\r\n    <defs>\r\n     <path d=\"M 0 3 \r\nC 0.795609 3 1.55874 2.683901 2.12132 2.12132 \r\nC 2.683901 1.55874 3 0.795609 3 0 \r\nC 3 -0.795609 2.683901 -1.55874 2.12132 -2.12132 \r\nC 1.55874 -2.683901 0.795609 -3 0 -3 \r\nC -0.795609 -3 -1.55874 -2.683901 -2.12132 -2.12132 \r\nC -2.683901 -1.55874 -3 -0.795609 -3 0 \r\nC -3 0.795609 -2.683901 1.55874 -2.12132 2.12132 \r\nC -1.55874 2.683901 -0.795609 3 0 3 \r\nz\r\n\" id=\"m004d283822\" style=\"stroke:#0000ff;\"/>\r\n    </defs>\r\n    <g clip-path=\"url(#p25b4feb0b7)\">\r\n     <use style=\"fill:#0000ff;stroke:#0000ff;\" x=\"103.417045\" xlink:href=\"#m004d283822\" y=\"201.354823\"/>\r\n    </g>\r\n   </g>\r\n   <g id=\"PathCollection_2\">\r\n    <g clip-path=\"url(#p25b4feb0b7)\">\r\n     <use style=\"fill:#0000ff;stroke:#0000ff;\" x=\"86.507955\" xlink:href=\"#m004d283822\" y=\"201.354823\"/>\r\n    </g>\r\n   </g>\r\n   <g id=\"PathCollection_3\">\r\n    <g clip-path=\"url(#p25b4feb0b7)\">\r\n     <use style=\"fill:#0000ff;stroke:#0000ff;\" x=\"69.598864\" xlink:href=\"#m004d283822\" y=\"204.705208\"/>\r\n    </g>\r\n   </g>\r\n   <g id=\"PathCollection_4\">\r\n    <g clip-path=\"url(#p25b4feb0b7)\">\r\n     <use style=\"fill:#0000ff;stroke:#0000ff;\" x=\"61.144318\" xlink:href=\"#m004d283822\" y=\"198.004438\"/>\r\n    </g>\r\n   </g>\r\n   <g id=\"PathCollection_5\">\r\n    <g clip-path=\"url(#p25b4feb0b7)\">\r\n     <use style=\"fill:#0000ff;stroke:#0000ff;\" x=\"94.9625\" xlink:href=\"#m004d283822\" y=\"201.354823\"/>\r\n    </g>\r\n   </g>\r\n   <g id=\"PathCollection_6\">\r\n    <g clip-path=\"url(#p25b4feb0b7)\">\r\n     <use style=\"fill:#0000ff;stroke:#0000ff;\" x=\"128.780682\" xlink:href=\"#m004d283822\" y=\"191.303667\"/>\r\n    </g>\r\n   </g>\r\n   <g id=\"PathCollection_7\">\r\n    <g clip-path=\"url(#p25b4feb0b7)\">\r\n     <use style=\"fill:#0000ff;stroke:#0000ff;\" x=\"61.144318\" xlink:href=\"#m004d283822\" y=\"201.354823\"/>\r\n    </g>\r\n   </g>\r\n   <g id=\"PathCollection_8\">\r\n    <g clip-path=\"url(#p25b4feb0b7)\">\r\n     <use style=\"fill:#0000ff;stroke:#0000ff;\" x=\"94.9625\" xlink:href=\"#m004d283822\" y=\"198.004438\"/>\r\n    </g>\r\n   </g>\r\n   <g id=\"PathCollection_9\">\r\n    <g clip-path=\"url(#p25b4feb0b7)\">\r\n     <use style=\"fill:#0000ff;stroke:#0000ff;\" x=\"44.235227\" xlink:href=\"#m004d283822\" y=\"201.354823\"/>\r\n    </g>\r\n   </g>\r\n   <g id=\"PathCollection_10\">\r\n    <g clip-path=\"url(#p25b4feb0b7)\">\r\n     <use style=\"fill:#0000ff;stroke:#0000ff;\" x=\"86.507955\" xlink:href=\"#m004d283822\" y=\"198.004438\"/>\r\n    </g>\r\n   </g>\r\n   <g id=\"PathCollection_11\">\r\n    <g clip-path=\"url(#p25b4feb0b7)\">\r\n     <use style=\"fill:#0000ff;stroke:#0000ff;\" x=\"128.780682\" xlink:href=\"#m004d283822\" y=\"198.004438\"/>\r\n    </g>\r\n   </g>\r\n   <g id=\"PathCollection_12\">\r\n    <g clip-path=\"url(#p25b4feb0b7)\">\r\n     <use style=\"fill:#0000ff;stroke:#0000ff;\" x=\"78.053409\" xlink:href=\"#m004d283822\" y=\"194.654052\"/>\r\n    </g>\r\n   </g>\r\n   <g id=\"PathCollection_13\">\r\n    <g clip-path=\"url(#p25b4feb0b7)\">\r\n     <use style=\"fill:#0000ff;stroke:#0000ff;\" x=\"78.053409\" xlink:href=\"#m004d283822\" y=\"201.354823\"/>\r\n    </g>\r\n   </g>\r\n   <g id=\"PathCollection_14\">\r\n    <g clip-path=\"url(#p25b4feb0b7)\">\r\n     <use style=\"fill:#0000ff;stroke:#0000ff;\" x=\"35.780682\" xlink:href=\"#m004d283822\" y=\"211.405978\"/>\r\n    </g>\r\n   </g>\r\n   <g id=\"PathCollection_15\">\r\n    <g clip-path=\"url(#p25b4feb0b7)\">\r\n     <use style=\"fill:#0000ff;stroke:#0000ff;\" x=\"162.598864\" xlink:href=\"#m004d283822\" y=\"208.055593\"/>\r\n    </g>\r\n   </g>\r\n   <g id=\"PathCollection_16\">\r\n    <g clip-path=\"url(#p25b4feb0b7)\">\r\n     <use style=\"fill:#0000ff;stroke:#0000ff;\" x=\"154.144318\" xlink:href=\"#m004d283822\" y=\"198.004438\"/>\r\n    </g>\r\n   </g>\r\n   <g id=\"PathCollection_17\">\r\n    <g clip-path=\"url(#p25b4feb0b7)\">\r\n     <use style=\"fill:#0000ff;stroke:#0000ff;\" x=\"128.780682\" xlink:href=\"#m004d283822\" y=\"204.705208\"/>\r\n    </g>\r\n   </g>\r\n   <g id=\"PathCollection_18\">\r\n    <g clip-path=\"url(#p25b4feb0b7)\">\r\n     <use style=\"fill:#0000ff;stroke:#0000ff;\" x=\"103.417045\" xlink:href=\"#m004d283822\" y=\"201.354823\"/>\r\n    </g>\r\n   </g>\r\n   <g id=\"PathCollection_19\">\r\n    <g clip-path=\"url(#p25b4feb0b7)\">\r\n     <use style=\"fill:#0000ff;stroke:#0000ff;\" x=\"154.144318\" xlink:href=\"#m004d283822\" y=\"191.303667\"/>\r\n    </g>\r\n   </g>\r\n   <g id=\"PathCollection_20\">\r\n    <g clip-path=\"url(#p25b4feb0b7)\">\r\n     <use style=\"fill:#0000ff;stroke:#0000ff;\" x=\"103.417045\" xlink:href=\"#m004d283822\" y=\"198.004438\"/>\r\n    </g>\r\n   </g>\r\n   <g id=\"PathCollection_21\">\r\n    <g clip-path=\"url(#p25b4feb0b7)\">\r\n     <use style=\"fill:#0000ff;stroke:#0000ff;\" x=\"128.780682\" xlink:href=\"#m004d283822\" y=\"191.303667\"/>\r\n    </g>\r\n   </g>\r\n   <g id=\"PathCollection_22\">\r\n    <g clip-path=\"url(#p25b4feb0b7)\">\r\n     <use style=\"fill:#0000ff;stroke:#0000ff;\" x=\"103.417045\" xlink:href=\"#m004d283822\" y=\"198.004438\"/>\r\n    </g>\r\n   </g>\r\n   <g id=\"PathCollection_23\">\r\n    <g clip-path=\"url(#p25b4feb0b7)\">\r\n     <use style=\"fill:#0000ff;stroke:#0000ff;\" x=\"61.144318\" xlink:href=\"#m004d283822\" y=\"214.756364\"/>\r\n    </g>\r\n   </g>\r\n   <g id=\"PathCollection_24\">\r\n    <g clip-path=\"url(#p25b4feb0b7)\">\r\n     <use style=\"fill:#0000ff;stroke:#0000ff;\" x=\"103.417045\" xlink:href=\"#m004d283822\" y=\"191.303667\"/>\r\n    </g>\r\n   </g>\r\n   <g id=\"PathCollection_25\">\r\n    <g clip-path=\"url(#p25b4feb0b7)\">\r\n     <use style=\"fill:#0000ff;stroke:#0000ff;\" x=\"78.053409\" xlink:href=\"#m004d283822\" y=\"184.602897\"/>\r\n    </g>\r\n   </g>\r\n   <g id=\"PathCollection_26\">\r\n    <g clip-path=\"url(#p25b4feb0b7)\">\r\n     <use style=\"fill:#0000ff;stroke:#0000ff;\" x=\"94.9625\" xlink:href=\"#m004d283822\" y=\"194.654052\"/>\r\n    </g>\r\n   </g>\r\n   <g id=\"PathCollection_27\">\r\n    <g clip-path=\"url(#p25b4feb0b7)\">\r\n     <use style=\"fill:#0000ff;stroke:#0000ff;\" x=\"94.9625\" xlink:href=\"#m004d283822\" y=\"194.654052\"/>\r\n    </g>\r\n   </g>\r\n   <g id=\"PathCollection_28\">\r\n    <g clip-path=\"url(#p25b4feb0b7)\">\r\n     <use style=\"fill:#0000ff;stroke:#0000ff;\" x=\"111.871591\" xlink:href=\"#m004d283822\" y=\"198.004438\"/>\r\n    </g>\r\n   </g>\r\n   <g id=\"PathCollection_29\">\r\n    <g clip-path=\"url(#p25b4feb0b7)\">\r\n     <use style=\"fill:#0000ff;stroke:#0000ff;\" x=\"111.871591\" xlink:href=\"#m004d283822\" y=\"201.354823\"/>\r\n    </g>\r\n   </g>\r\n   <g id=\"PathCollection_30\">\r\n    <g clip-path=\"url(#p25b4feb0b7)\">\r\n     <use style=\"fill:#0000ff;stroke:#0000ff;\" x=\"69.598864\" xlink:href=\"#m004d283822\" y=\"194.654052\"/>\r\n    </g>\r\n   </g>\r\n   <g id=\"PathCollection_31\">\r\n    <g clip-path=\"url(#p25b4feb0b7)\">\r\n     <use style=\"fill:#0000ff;stroke:#0000ff;\" x=\"78.053409\" xlink:href=\"#m004d283822\" y=\"194.654052\"/>\r\n    </g>\r\n   </g>\r\n   <g id=\"PathCollection_32\">\r\n    <g clip-path=\"url(#p25b4feb0b7)\">\r\n     <use style=\"fill:#0000ff;stroke:#0000ff;\" x=\"128.780682\" xlink:href=\"#m004d283822\" y=\"198.004438\"/>\r\n    </g>\r\n   </g>\r\n   <g id=\"PathCollection_33\">\r\n    <g clip-path=\"url(#p25b4feb0b7)\">\r\n     <use style=\"fill:#0000ff;stroke:#0000ff;\" x=\"111.871591\" xlink:href=\"#m004d283822\" y=\"198.004438\"/>\r\n    </g>\r\n   </g>\r\n   <g id=\"PathCollection_34\">\r\n    <g clip-path=\"url(#p25b4feb0b7)\">\r\n     <use style=\"fill:#0000ff;stroke:#0000ff;\" x=\"137.235227\" xlink:href=\"#m004d283822\" y=\"201.354823\"/>\r\n    </g>\r\n   </g>\r\n   <g id=\"PathCollection_35\">\r\n    <g clip-path=\"url(#p25b4feb0b7)\">\r\n     <use style=\"fill:#0000ff;stroke:#0000ff;\" x=\"86.507955\" xlink:href=\"#m004d283822\" y=\"198.004438\"/>\r\n    </g>\r\n   </g>\r\n   <g id=\"PathCollection_36\">\r\n    <g clip-path=\"url(#p25b4feb0b7)\">\r\n     <use style=\"fill:#0000ff;stroke:#0000ff;\" x=\"94.9625\" xlink:href=\"#m004d283822\" y=\"208.055593\"/>\r\n    </g>\r\n   </g>\r\n   <g id=\"PathCollection_37\">\r\n    <g clip-path=\"url(#p25b4feb0b7)\">\r\n     <use style=\"fill:#0000ff;stroke:#0000ff;\" x=\"137.235227\" xlink:href=\"#m004d283822\" y=\"204.705208\"/>\r\n    </g>\r\n   </g>\r\n   <g id=\"PathCollection_38\">\r\n    <g clip-path=\"url(#p25b4feb0b7)\">\r\n     <use style=\"fill:#0000ff;stroke:#0000ff;\" x=\"86.507955\" xlink:href=\"#m004d283822\" y=\"198.004438\"/>\r\n    </g>\r\n   </g>\r\n   <g id=\"PathCollection_39\">\r\n    <g clip-path=\"url(#p25b4feb0b7)\">\r\n     <use style=\"fill:#0000ff;stroke:#0000ff;\" x=\"44.235227\" xlink:href=\"#m004d283822\" y=\"204.705208\"/>\r\n    </g>\r\n   </g>\r\n   <g id=\"PathCollection_40\">\r\n    <g clip-path=\"url(#p25b4feb0b7)\">\r\n     <use style=\"fill:#0000ff;stroke:#0000ff;\" x=\"103.417045\" xlink:href=\"#m004d283822\" y=\"198.004438\"/>\r\n    </g>\r\n   </g>\r\n   <g id=\"PathCollection_41\">\r\n    <g clip-path=\"url(#p25b4feb0b7)\">\r\n     <use style=\"fill:#0000ff;stroke:#0000ff;\" x=\"94.9625\" xlink:href=\"#m004d283822\" y=\"204.705208\"/>\r\n    </g>\r\n   </g>\r\n   <g id=\"PathCollection_42\">\r\n    <g clip-path=\"url(#p25b4feb0b7)\">\r\n     <use style=\"fill:#0000ff;stroke:#0000ff;\" x=\"52.689773\" xlink:href=\"#m004d283822\" y=\"204.705208\"/>\r\n    </g>\r\n   </g>\r\n   <g id=\"PathCollection_43\">\r\n    <g clip-path=\"url(#p25b4feb0b7)\">\r\n     <use style=\"fill:#0000ff;stroke:#0000ff;\" x=\"44.235227\" xlink:href=\"#m004d283822\" y=\"204.705208\"/>\r\n    </g>\r\n   </g>\r\n   <g id=\"PathCollection_44\">\r\n    <g clip-path=\"url(#p25b4feb0b7)\">\r\n     <use style=\"fill:#0000ff;stroke:#0000ff;\" x=\"94.9625\" xlink:href=\"#m004d283822\" y=\"194.654052\"/>\r\n    </g>\r\n   </g>\r\n   <g id=\"PathCollection_45\">\r\n    <g clip-path=\"url(#p25b4feb0b7)\">\r\n     <use style=\"fill:#0000ff;stroke:#0000ff;\" x=\"103.417045\" xlink:href=\"#m004d283822\" y=\"184.602897\"/>\r\n    </g>\r\n   </g>\r\n   <g id=\"PathCollection_46\">\r\n    <g clip-path=\"url(#p25b4feb0b7)\">\r\n     <use style=\"fill:#0000ff;stroke:#0000ff;\" x=\"78.053409\" xlink:href=\"#m004d283822\" y=\"201.354823\"/>\r\n    </g>\r\n   </g>\r\n   <g id=\"PathCollection_47\">\r\n    <g clip-path=\"url(#p25b4feb0b7)\">\r\n     <use style=\"fill:#0000ff;stroke:#0000ff;\" x=\"103.417045\" xlink:href=\"#m004d283822\" y=\"194.654052\"/>\r\n    </g>\r\n   </g>\r\n   <g id=\"PathCollection_48\">\r\n    <g clip-path=\"url(#p25b4feb0b7)\">\r\n     <use style=\"fill:#0000ff;stroke:#0000ff;\" x=\"61.144318\" xlink:href=\"#m004d283822\" y=\"201.354823\"/>\r\n    </g>\r\n   </g>\r\n   <g id=\"PathCollection_49\">\r\n    <g clip-path=\"url(#p25b4feb0b7)\">\r\n     <use style=\"fill:#0000ff;stroke:#0000ff;\" x=\"120.326136\" xlink:href=\"#m004d283822\" y=\"198.004438\"/>\r\n    </g>\r\n   </g>\r\n   <g id=\"PathCollection_50\">\r\n    <g clip-path=\"url(#p25b4feb0b7)\">\r\n     <use style=\"fill:#0000ff;stroke:#0000ff;\" x=\"94.9625\" xlink:href=\"#m004d283822\" y=\"201.354823\"/>\r\n    </g>\r\n   </g>\r\n   <g id=\"PathCollection_51\">\r\n    <g clip-path=\"url(#p25b4feb0b7)\">\r\n     <use style=\"fill:#0000ff;stroke:#0000ff;\" x=\"264.053409\" xlink:href=\"#m004d283822\" y=\"90.792111\"/>\r\n    </g>\r\n   </g>\r\n   <g id=\"PathCollection_52\">\r\n    <g clip-path=\"url(#p25b4feb0b7)\">\r\n     <use style=\"fill:#0000ff;stroke:#0000ff;\" x=\"213.326136\" xlink:href=\"#m004d283822\" y=\"97.492881\"/>\r\n    </g>\r\n   </g>\r\n   <g id=\"PathCollection_53\">\r\n    <defs>\r\n     <path d=\"M 0 3 \r\nC 0.795609 3 1.55874 2.683901 2.12132 2.12132 \r\nC 2.683901 1.55874 3 0.795609 3 0 \r\nC 3 -0.795609 2.683901 -1.55874 2.12132 -2.12132 \r\nC 1.55874 -2.683901 0.795609 -3 0 -3 \r\nC -0.795609 -3 -1.55874 -2.683901 -2.12132 -2.12132 \r\nC -2.683901 -1.55874 -3 -0.795609 -3 0 \r\nC -3 0.795609 -2.683901 1.55874 -2.12132 2.12132 \r\nC -1.55874 2.683901 -0.795609 3 0 3 \r\nz\r\n\" id=\"mfb2ad05ff5\" style=\"stroke:#008000;\"/>\r\n    </defs>\r\n    <g clip-path=\"url(#p25b4feb0b7)\">\r\n     <use style=\"fill:#008000;stroke:#008000;\" x=\"255.598864\" xlink:href=\"#mfb2ad05ff5\" y=\"84.091341\"/>\r\n    </g>\r\n   </g>\r\n   <g id=\"PathCollection_54\">\r\n    <g clip-path=\"url(#p25b4feb0b7)\">\r\n     <use style=\"fill:#008000;stroke:#008000;\" x=\"137.235227\" xlink:href=\"#mfb2ad05ff5\" y=\"114.244807\"/>\r\n    </g>\r\n   </g>\r\n   <g id=\"PathCollection_55\">\r\n    <g clip-path=\"url(#p25b4feb0b7)\">\r\n     <use style=\"fill:#008000;stroke:#008000;\" x=\"221.780682\" xlink:href=\"#mfb2ad05ff5\" y=\"94.142496\"/>\r\n    </g>\r\n   </g>\r\n   <g id=\"PathCollection_56\">\r\n    <g clip-path=\"url(#p25b4feb0b7)\">\r\n     <use style=\"fill:#008000;stroke:#008000;\" x=\"154.144318\" xlink:href=\"#mfb2ad05ff5\" y=\"97.492881\"/>\r\n    </g>\r\n   </g>\r\n   <g id=\"PathCollection_57\">\r\n    <g clip-path=\"url(#p25b4feb0b7)\">\r\n     <use style=\"fill:#008000;stroke:#008000;\" x=\"204.871591\" xlink:href=\"#mfb2ad05ff5\" y=\"90.792111\"/>\r\n    </g>\r\n   </g>\r\n   <g id=\"PathCollection_58\">\r\n    <g clip-path=\"url(#p25b4feb0b7)\">\r\n     <use style=\"fill:#008000;stroke:#008000;\" x=\"86.507955\" xlink:href=\"#mfb2ad05ff5\" y=\"137.697504\"/>\r\n    </g>\r\n   </g>\r\n   <g id=\"PathCollection_59\">\r\n    <g clip-path=\"url(#p25b4feb0b7)\">\r\n     <use style=\"fill:#008000;stroke:#008000;\" x=\"230.235227\" xlink:href=\"#mfb2ad05ff5\" y=\"94.142496\"/>\r\n    </g>\r\n   </g>\r\n   <g id=\"PathCollection_60\">\r\n    <g clip-path=\"url(#p25b4feb0b7)\">\r\n     <use style=\"fill:#008000;stroke:#008000;\" x=\"111.871591\" xlink:href=\"#mfb2ad05ff5\" y=\"117.595193\"/>\r\n    </g>\r\n   </g>\r\n   <g id=\"PathCollection_61\">\r\n    <g clip-path=\"url(#p25b4feb0b7)\">\r\n     <use style=\"fill:#008000;stroke:#008000;\" x=\"94.9625\" xlink:href=\"#mfb2ad05ff5\" y=\"130.996733\"/>\r\n    </g>\r\n   </g>\r\n   <g id=\"PathCollection_62\">\r\n    <g clip-path=\"url(#p25b4feb0b7)\">\r\n     <use style=\"fill:#008000;stroke:#008000;\" x=\"171.053409\" xlink:href=\"#mfb2ad05ff5\" y=\"107.544037\"/>\r\n    </g>\r\n   </g>\r\n   <g id=\"PathCollection_63\">\r\n    <g clip-path=\"url(#p25b4feb0b7)\">\r\n     <use style=\"fill:#008000;stroke:#008000;\" x=\"179.507955\" xlink:href=\"#mfb2ad05ff5\" y=\"114.244807\"/>\r\n    </g>\r\n   </g>\r\n   <g id=\"PathCollection_64\">\r\n    <g clip-path=\"url(#p25b4feb0b7)\">\r\n     <use style=\"fill:#008000;stroke:#008000;\" x=\"187.9625\" xlink:href=\"#mfb2ad05ff5\" y=\"90.792111\"/>\r\n    </g>\r\n   </g>\r\n   <g id=\"PathCollection_65\">\r\n    <g clip-path=\"url(#p25b4feb0b7)\">\r\n     <use style=\"fill:#008000;stroke:#008000;\" x=\"145.689773\" xlink:href=\"#mfb2ad05ff5\" y=\"127.646348\"/>\r\n    </g>\r\n   </g>\r\n   <g id=\"PathCollection_66\">\r\n    <g clip-path=\"url(#p25b4feb0b7)\">\r\n     <use style=\"fill:#008000;stroke:#008000;\" x=\"238.689773\" xlink:href=\"#mfb2ad05ff5\" y=\"100.843267\"/>\r\n    </g>\r\n   </g>\r\n   <g id=\"PathCollection_67\">\r\n    <g clip-path=\"url(#p25b4feb0b7)\">\r\n     <use style=\"fill:#008000;stroke:#008000;\" x=\"145.689773\" xlink:href=\"#mfb2ad05ff5\" y=\"97.492881\"/>\r\n    </g>\r\n   </g>\r\n   <g id=\"PathCollection_68\">\r\n    <g clip-path=\"url(#p25b4feb0b7)\">\r\n     <use style=\"fill:#008000;stroke:#008000;\" x=\"162.598864\" xlink:href=\"#mfb2ad05ff5\" y=\"110.894422\"/>\r\n    </g>\r\n   </g>\r\n   <g id=\"PathCollection_69\">\r\n    <g clip-path=\"url(#p25b4feb0b7)\">\r\n     <use style=\"fill:#008000;stroke:#008000;\" x=\"196.417045\" xlink:href=\"#mfb2ad05ff5\" y=\"97.492881\"/>\r\n    </g>\r\n   </g>\r\n   <g id=\"PathCollection_70\">\r\n    <g clip-path=\"url(#p25b4feb0b7)\">\r\n     <use style=\"fill:#008000;stroke:#008000;\" x=\"145.689773\" xlink:href=\"#mfb2ad05ff5\" y=\"117.595193\"/>\r\n    </g>\r\n   </g>\r\n   <g id=\"PathCollection_71\">\r\n    <g clip-path=\"url(#p25b4feb0b7)\">\r\n     <use style=\"fill:#008000;stroke:#008000;\" x=\"171.053409\" xlink:href=\"#mfb2ad05ff5\" y=\"87.441726\"/>\r\n    </g>\r\n   </g>\r\n   <g id=\"PathCollection_72\">\r\n    <g clip-path=\"url(#p25b4feb0b7)\">\r\n     <use style=\"fill:#008000;stroke:#008000;\" x=\"187.9625\" xlink:href=\"#mfb2ad05ff5\" y=\"114.244807\"/>\r\n    </g>\r\n   </g>\r\n   <g id=\"PathCollection_73\">\r\n    <g clip-path=\"url(#p25b4feb0b7)\">\r\n     <use style=\"fill:#008000;stroke:#008000;\" x=\"204.871591\" xlink:href=\"#mfb2ad05ff5\" y=\"84.091341\"/>\r\n    </g>\r\n   </g>\r\n   <g id=\"PathCollection_74\">\r\n    <g clip-path=\"url(#p25b4feb0b7)\">\r\n     <use style=\"fill:#008000;stroke:#008000;\" x=\"187.9625\" xlink:href=\"#mfb2ad05ff5\" y=\"90.792111\"/>\r\n    </g>\r\n   </g>\r\n   <g id=\"PathCollection_75\">\r\n    <g clip-path=\"url(#p25b4feb0b7)\">\r\n     <use style=\"fill:#008000;stroke:#008000;\" x=\"213.326136\" xlink:href=\"#mfb2ad05ff5\" y=\"104.193652\"/>\r\n    </g>\r\n   </g>\r\n   <g id=\"PathCollection_76\">\r\n    <g clip-path=\"url(#p25b4feb0b7)\">\r\n     <use style=\"fill:#008000;stroke:#008000;\" x=\"230.235227\" xlink:href=\"#mfb2ad05ff5\" y=\"100.843267\"/>\r\n    </g>\r\n   </g>\r\n   <g id=\"PathCollection_77\">\r\n    <g clip-path=\"url(#p25b4feb0b7)\">\r\n     <use style=\"fill:#008000;stroke:#008000;\" x=\"247.144318\" xlink:href=\"#mfb2ad05ff5\" y=\"87.441726\"/>\r\n    </g>\r\n   </g>\r\n   <g id=\"PathCollection_78\">\r\n    <g clip-path=\"url(#p25b4feb0b7)\">\r\n     <use style=\"fill:#008000;stroke:#008000;\" x=\"238.689773\" xlink:href=\"#mfb2ad05ff5\" y=\"80.740955\"/>\r\n    </g>\r\n   </g>\r\n   <g id=\"PathCollection_79\">\r\n    <g clip-path=\"url(#p25b4feb0b7)\">\r\n     <use style=\"fill:#008000;stroke:#008000;\" x=\"179.507955\" xlink:href=\"#mfb2ad05ff5\" y=\"97.492881\"/>\r\n    </g>\r\n   </g>\r\n   <g id=\"PathCollection_80\">\r\n    <g clip-path=\"url(#p25b4feb0b7)\">\r\n     <use style=\"fill:#008000;stroke:#008000;\" x=\"154.144318\" xlink:href=\"#mfb2ad05ff5\" y=\"130.996733\"/>\r\n    </g>\r\n   </g>\r\n   <g id=\"PathCollection_81\">\r\n    <g clip-path=\"url(#p25b4feb0b7)\">\r\n     <use style=\"fill:#008000;stroke:#008000;\" x=\"137.235227\" xlink:href=\"#mfb2ad05ff5\" y=\"120.945578\"/>\r\n    </g>\r\n   </g>\r\n   <g id=\"PathCollection_82\">\r\n    <g clip-path=\"url(#p25b4feb0b7)\">\r\n     <use style=\"fill:#008000;stroke:#008000;\" x=\"137.235227\" xlink:href=\"#mfb2ad05ff5\" y=\"124.295963\"/>\r\n    </g>\r\n   </g>\r\n   <g id=\"PathCollection_83\">\r\n    <g clip-path=\"url(#p25b4feb0b7)\">\r\n     <use style=\"fill:#008000;stroke:#008000;\" x=\"162.598864\" xlink:href=\"#mfb2ad05ff5\" y=\"117.595193\"/>\r\n    </g>\r\n   </g>\r\n   <g id=\"PathCollection_84\">\r\n    <g clip-path=\"url(#p25b4feb0b7)\">\r\n     <use style=\"fill:#008000;stroke:#008000;\" x=\"179.507955\" xlink:href=\"#mfb2ad05ff5\" y=\"77.39057\"/>\r\n    </g>\r\n   </g>\r\n   <g id=\"PathCollection_85\">\r\n    <g clip-path=\"url(#p25b4feb0b7)\">\r\n     <use style=\"fill:#008000;stroke:#008000;\" x=\"128.780682\" xlink:href=\"#mfb2ad05ff5\" y=\"97.492881\"/>\r\n    </g>\r\n   </g>\r\n   <g id=\"PathCollection_86\">\r\n    <g clip-path=\"url(#p25b4feb0b7)\">\r\n     <use style=\"fill:#008000;stroke:#008000;\" x=\"179.507955\" xlink:href=\"#mfb2ad05ff5\" y=\"97.492881\"/>\r\n    </g>\r\n   </g>\r\n   <g id=\"PathCollection_87\">\r\n    <g clip-path=\"url(#p25b4feb0b7)\">\r\n     <use style=\"fill:#008000;stroke:#008000;\" x=\"238.689773\" xlink:href=\"#mfb2ad05ff5\" y=\"90.792111\"/>\r\n    </g>\r\n   </g>\r\n   <g id=\"PathCollection_88\">\r\n    <g clip-path=\"url(#p25b4feb0b7)\">\r\n     <use style=\"fill:#008000;stroke:#008000;\" x=\"204.871591\" xlink:href=\"#mfb2ad05ff5\" y=\"100.843267\"/>\r\n    </g>\r\n   </g>\r\n   <g id=\"PathCollection_89\">\r\n    <g clip-path=\"url(#p25b4feb0b7)\">\r\n     <use style=\"fill:#008000;stroke:#008000;\" x=\"145.689773\" xlink:href=\"#mfb2ad05ff5\" y=\"110.894422\"/>\r\n    </g>\r\n   </g>\r\n   <g id=\"PathCollection_90\">\r\n    <g clip-path=\"url(#p25b4feb0b7)\">\r\n     <use style=\"fill:#008000;stroke:#008000;\" x=\"137.235227\" xlink:href=\"#mfb2ad05ff5\" y=\"114.244807\"/>\r\n    </g>\r\n   </g>\r\n   <g id=\"PathCollection_91\">\r\n    <g clip-path=\"url(#p25b4feb0b7)\">\r\n     <use style=\"fill:#008000;stroke:#008000;\" x=\"137.235227\" xlink:href=\"#mfb2ad05ff5\" y=\"100.843267\"/>\r\n    </g>\r\n   </g>\r\n   <g id=\"PathCollection_92\">\r\n    <g clip-path=\"url(#p25b4feb0b7)\">\r\n     <use style=\"fill:#008000;stroke:#008000;\" x=\"187.9625\" xlink:href=\"#mfb2ad05ff5\" y=\"94.142496\"/>\r\n    </g>\r\n   </g>\r\n   <g id=\"PathCollection_93\">\r\n    <g clip-path=\"url(#p25b4feb0b7)\">\r\n     <use style=\"fill:#008000;stroke:#008000;\" x=\"162.598864\" xlink:href=\"#mfb2ad05ff5\" y=\"114.244807\"/>\r\n    </g>\r\n   </g>\r\n   <g id=\"PathCollection_94\">\r\n    <g clip-path=\"url(#p25b4feb0b7)\">\r\n     <use style=\"fill:#008000;stroke:#008000;\" x=\"94.9625\" xlink:href=\"#mfb2ad05ff5\" y=\"137.697504\"/>\r\n    </g>\r\n   </g>\r\n   <g id=\"PathCollection_95\">\r\n    <g clip-path=\"url(#p25b4feb0b7)\">\r\n     <use style=\"fill:#008000;stroke:#008000;\" x=\"145.689773\" xlink:href=\"#mfb2ad05ff5\" y=\"107.544037\"/>\r\n    </g>\r\n   </g>\r\n   <g id=\"PathCollection_96\">\r\n    <g clip-path=\"url(#p25b4feb0b7)\">\r\n     <use style=\"fill:#008000;stroke:#008000;\" x=\"154.144318\" xlink:href=\"#mfb2ad05ff5\" y=\"107.544037\"/>\r\n    </g>\r\n   </g>\r\n   <g id=\"PathCollection_97\">\r\n    <g clip-path=\"url(#p25b4feb0b7)\">\r\n     <use style=\"fill:#008000;stroke:#008000;\" x=\"154.144318\" xlink:href=\"#mfb2ad05ff5\" y=\"107.544037\"/>\r\n    </g>\r\n   </g>\r\n   <g id=\"PathCollection_98\">\r\n    <g clip-path=\"url(#p25b4feb0b7)\">\r\n     <use style=\"fill:#008000;stroke:#008000;\" x=\"196.417045\" xlink:href=\"#mfb2ad05ff5\" y=\"104.193652\"/>\r\n    </g>\r\n   </g>\r\n   <g id=\"PathCollection_99\">\r\n    <defs>\r\n     <path d=\"M 0 3 \r\nC 0.795609 3 1.55874 2.683901 2.12132 2.12132 \r\nC 2.683901 1.55874 3 0.795609 3 0 \r\nC 3 -0.795609 2.683901 -1.55874 2.12132 -2.12132 \r\nC 1.55874 -2.683901 0.795609 -3 0 -3 \r\nC -0.795609 -3 -1.55874 -2.683901 -2.12132 -2.12132 \r\nC -2.683901 -1.55874 -3 -0.795609 -3 0 \r\nC -3 0.795609 -2.683901 1.55874 -2.12132 2.12132 \r\nC -1.55874 2.683901 -0.795609 3 0 3 \r\nz\r\n\" id=\"mb81b7371db\" style=\"stroke:#ff0000;\"/>\r\n    </defs>\r\n    <g clip-path=\"url(#p25b4feb0b7)\">\r\n     <use style=\"fill:#ff0000;stroke:#ff0000;\" x=\"103.417045\" xlink:href=\"#mb81b7371db\" y=\"147.748659\"/>\r\n    </g>\r\n   </g>\r\n   <g id=\"PathCollection_100\">\r\n    <g clip-path=\"url(#p25b4feb0b7)\">\r\n     <use style=\"fill:#ff0000;stroke:#ff0000;\" x=\"154.144318\" xlink:href=\"#mb81b7371db\" y=\"110.894422\"/>\r\n    </g>\r\n   </g>\r\n   <g id=\"PathCollection_101\">\r\n    <g clip-path=\"url(#p25b4feb0b7)\">\r\n     <use style=\"fill:#ff0000;stroke:#ff0000;\" x=\"204.871591\" xlink:href=\"#mb81b7371db\" y=\"47.237103\"/>\r\n    </g>\r\n   </g>\r\n   <g id=\"PathCollection_102\">\r\n    <g clip-path=\"url(#p25b4feb0b7)\">\r\n     <use style=\"fill:#ff0000;stroke:#ff0000;\" x=\"162.598864\" xlink:href=\"#mb81b7371db\" y=\"77.39057\"/>\r\n    </g>\r\n   </g>\r\n   <g id=\"PathCollection_103\">\r\n    <g clip-path=\"url(#p25b4feb0b7)\">\r\n     <use style=\"fill:#ff0000;stroke:#ff0000;\" x=\"272.507955\" xlink:href=\"#mb81b7371db\" y=\"50.587488\"/>\r\n    </g>\r\n   </g>\r\n   <g id=\"PathCollection_104\">\r\n    <g clip-path=\"url(#p25b4feb0b7)\">\r\n     <use style=\"fill:#ff0000;stroke:#ff0000;\" x=\"204.871591\" xlink:href=\"#mb81b7371db\" y=\"60.638644\"/>\r\n    </g>\r\n   </g>\r\n   <g id=\"PathCollection_105\">\r\n    <g clip-path=\"url(#p25b4feb0b7)\">\r\n     <use style=\"fill:#ff0000;stroke:#ff0000;\" x=\"221.780682\" xlink:href=\"#mb81b7371db\" y=\"53.937874\"/>\r\n    </g>\r\n   </g>\r\n   <g id=\"PathCollection_106\">\r\n    <g clip-path=\"url(#p25b4feb0b7)\">\r\n     <use style=\"fill:#ff0000;stroke:#ff0000;\" x=\"314.780682\" xlink:href=\"#mb81b7371db\" y=\"27.134792\"/>\r\n    </g>\r\n   </g>\r\n   <g id=\"PathCollection_107\">\r\n    <g clip-path=\"url(#p25b4feb0b7)\">\r\n     <use style=\"fill:#ff0000;stroke:#ff0000;\" x=\"86.507955\" xlink:href=\"#mb81b7371db\" y=\"97.492881\"/>\r\n    </g>\r\n   </g>\r\n   <g id=\"PathCollection_108\">\r\n    <g clip-path=\"url(#p25b4feb0b7)\">\r\n     <use style=\"fill:#ff0000;stroke:#ff0000;\" x=\"289.417045\" xlink:href=\"#mb81b7371db\" y=\"37.185948\"/>\r\n    </g>\r\n   </g>\r\n   <g id=\"PathCollection_109\">\r\n    <g clip-path=\"url(#p25b4feb0b7)\">\r\n     <use style=\"fill:#ff0000;stroke:#ff0000;\" x=\"238.689773\" xlink:href=\"#mb81b7371db\" y=\"53.937874\"/>\r\n    </g>\r\n   </g>\r\n   <g id=\"PathCollection_110\">\r\n    <g clip-path=\"url(#p25b4feb0b7)\">\r\n     <use style=\"fill:#ff0000;stroke:#ff0000;\" x=\"280.9625\" xlink:href=\"#mb81b7371db\" y=\"43.886718\"/>\r\n    </g>\r\n   </g>\r\n   <g id=\"PathCollection_111\">\r\n    <g clip-path=\"url(#p25b4feb0b7)\">\r\n     <use style=\"fill:#ff0000;stroke:#ff0000;\" x=\"221.780682\" xlink:href=\"#mb81b7371db\" y=\"77.39057\"/>\r\n    </g>\r\n   </g>\r\n   <g id=\"PathCollection_112\">\r\n    <g clip-path=\"url(#p25b4feb0b7)\">\r\n     <use style=\"fill:#ff0000;stroke:#ff0000;\" x=\"213.326136\" xlink:href=\"#mb81b7371db\" y=\"70.6898\"/>\r\n    </g>\r\n   </g>\r\n   <g id=\"PathCollection_113\">\r\n    <g clip-path=\"url(#p25b4feb0b7)\">\r\n     <use style=\"fill:#ff0000;stroke:#ff0000;\" x=\"247.144318\" xlink:href=\"#mb81b7371db\" y=\"63.989029\"/>\r\n    </g>\r\n   </g>\r\n   <g id=\"PathCollection_114\">\r\n    <g clip-path=\"url(#p25b4feb0b7)\">\r\n     <use style=\"fill:#ff0000;stroke:#ff0000;\" x=\"154.144318\" xlink:href=\"#mb81b7371db\" y=\"80.740955\"/>\r\n    </g>\r\n   </g>\r\n   <g id=\"PathCollection_115\">\r\n    <g clip-path=\"url(#p25b4feb0b7)\">\r\n     <use style=\"fill:#ff0000;stroke:#ff0000;\" x=\"162.598864\" xlink:href=\"#mb81b7371db\" y=\"77.39057\"/>\r\n    </g>\r\n   </g>\r\n   <g id=\"PathCollection_116\">\r\n    <g clip-path=\"url(#p25b4feb0b7)\">\r\n     <use style=\"fill:#ff0000;stroke:#ff0000;\" x=\"213.326136\" xlink:href=\"#mb81b7371db\" y=\"70.6898\"/>\r\n    </g>\r\n   </g>\r\n   <g id=\"PathCollection_117\">\r\n    <g clip-path=\"url(#p25b4feb0b7)\">\r\n     <use style=\"fill:#ff0000;stroke:#ff0000;\" x=\"221.780682\" xlink:href=\"#mb81b7371db\" y=\"63.989029\"/>\r\n    </g>\r\n   </g>\r\n   <g id=\"PathCollection_118\">\r\n    <g clip-path=\"url(#p25b4feb0b7)\">\r\n     <use style=\"fill:#ff0000;stroke:#ff0000;\" x=\"323.235227\" xlink:href=\"#mb81b7371db\" y=\"23.784407\"/>\r\n    </g>\r\n   </g>\r\n   <g id=\"PathCollection_119\">\r\n    <g clip-path=\"url(#p25b4feb0b7)\">\r\n     <use style=\"fill:#ff0000;stroke:#ff0000;\" x=\"323.235227\" xlink:href=\"#mb81b7371db\" y=\"17.083636\"/>\r\n    </g>\r\n   </g>\r\n   <g id=\"PathCollection_120\">\r\n    <g clip-path=\"url(#p25b4feb0b7)\">\r\n     <use style=\"fill:#ff0000;stroke:#ff0000;\" x=\"179.507955\" xlink:href=\"#mb81b7371db\" y=\"80.740955\"/>\r\n    </g>\r\n   </g>\r\n   <g id=\"PathCollection_121\">\r\n    <g clip-path=\"url(#p25b4feb0b7)\">\r\n     <use style=\"fill:#ff0000;stroke:#ff0000;\" x=\"255.598864\" xlink:href=\"#mb81b7371db\" y=\"57.288259\"/>\r\n    </g>\r\n   </g>\r\n   <g id=\"PathCollection_122\">\r\n    <g clip-path=\"url(#p25b4feb0b7)\">\r\n     <use style=\"fill:#ff0000;stroke:#ff0000;\" x=\"145.689773\" xlink:href=\"#mb81b7371db\" y=\"84.091341\"/>\r\n    </g>\r\n   </g>\r\n   <g id=\"PathCollection_123\">\r\n    <g clip-path=\"url(#p25b4feb0b7)\">\r\n     <use style=\"fill:#ff0000;stroke:#ff0000;\" x=\"323.235227\" xlink:href=\"#mb81b7371db\" y=\"23.784407\"/>\r\n    </g>\r\n   </g>\r\n   <g id=\"PathCollection_124\">\r\n    <g clip-path=\"url(#p25b4feb0b7)\">\r\n     <use style=\"fill:#ff0000;stroke:#ff0000;\" x=\"204.871591\" xlink:href=\"#mb81b7371db\" y=\"84.091341\"/>\r\n    </g>\r\n   </g>\r\n   <g id=\"PathCollection_125\">\r\n    <g clip-path=\"url(#p25b4feb0b7)\">\r\n     <use style=\"fill:#ff0000;stroke:#ff0000;\" x=\"238.689773\" xlink:href=\"#mb81b7371db\" y=\"57.288259\"/>\r\n    </g>\r\n   </g>\r\n   <g id=\"PathCollection_126\">\r\n    <g clip-path=\"url(#p25b4feb0b7)\">\r\n     <use style=\"fill:#ff0000;stroke:#ff0000;\" x=\"280.9625\" xlink:href=\"#mb81b7371db\" y=\"47.237103\"/>\r\n    </g>\r\n   </g>\r\n   <g id=\"PathCollection_127\">\r\n    <g clip-path=\"url(#p25b4feb0b7)\">\r\n     <use style=\"fill:#ff0000;stroke:#ff0000;\" x=\"196.417045\" xlink:href=\"#mb81b7371db\" y=\"87.441726\"/>\r\n    </g>\r\n   </g>\r\n   <g id=\"PathCollection_128\">\r\n    <g clip-path=\"url(#p25b4feb0b7)\">\r\n     <use style=\"fill:#ff0000;stroke:#ff0000;\" x=\"187.9625\" xlink:href=\"#mb81b7371db\" y=\"84.091341\"/>\r\n    </g>\r\n   </g>\r\n   <g id=\"PathCollection_129\">\r\n    <g clip-path=\"url(#p25b4feb0b7)\">\r\n     <use style=\"fill:#ff0000;stroke:#ff0000;\" x=\"213.326136\" xlink:href=\"#mb81b7371db\" y=\"60.638644\"/>\r\n    </g>\r\n   </g>\r\n   <g id=\"PathCollection_130\">\r\n    <g clip-path=\"url(#p25b4feb0b7)\">\r\n     <use style=\"fill:#ff0000;stroke:#ff0000;\" x=\"280.9625\" xlink:href=\"#mb81b7371db\" y=\"53.937874\"/>\r\n    </g>\r\n   </g>\r\n   <g id=\"PathCollection_131\">\r\n    <g clip-path=\"url(#p25b4feb0b7)\">\r\n     <use style=\"fill:#ff0000;stroke:#ff0000;\" x=\"297.871591\" xlink:href=\"#mb81b7371db\" y=\"43.886718\"/>\r\n    </g>\r\n   </g>\r\n   <g id=\"PathCollection_132\">\r\n    <g clip-path=\"url(#p25b4feb0b7)\">\r\n     <use style=\"fill:#ff0000;stroke:#ff0000;\" x=\"340.144318\" xlink:href=\"#mb81b7371db\" y=\"33.835562\"/>\r\n    </g>\r\n   </g>\r\n   <g id=\"PathCollection_133\">\r\n    <g clip-path=\"url(#p25b4feb0b7)\">\r\n     <use style=\"fill:#ff0000;stroke:#ff0000;\" x=\"213.326136\" xlink:href=\"#mb81b7371db\" y=\"60.638644\"/>\r\n    </g>\r\n   </g>\r\n   <g id=\"PathCollection_134\">\r\n    <g clip-path=\"url(#p25b4feb0b7)\">\r\n     <use style=\"fill:#ff0000;stroke:#ff0000;\" x=\"204.871591\" xlink:href=\"#mb81b7371db\" y=\"77.39057\"/>\r\n    </g>\r\n   </g>\r\n   <g id=\"PathCollection_135\">\r\n    <g clip-path=\"url(#p25b4feb0b7)\">\r\n     <use style=\"fill:#ff0000;stroke:#ff0000;\" x=\"187.9625\" xlink:href=\"#mb81b7371db\" y=\"60.638644\"/>\r\n    </g>\r\n   </g>\r\n   <g id=\"PathCollection_136\">\r\n    <g clip-path=\"url(#p25b4feb0b7)\">\r\n     <use style=\"fill:#ff0000;stroke:#ff0000;\" x=\"323.235227\" xlink:href=\"#mb81b7371db\" y=\"43.886718\"/>\r\n    </g>\r\n   </g>\r\n   <g id=\"PathCollection_137\">\r\n    <g clip-path=\"url(#p25b4feb0b7)\">\r\n     <use style=\"fill:#ff0000;stroke:#ff0000;\" x=\"204.871591\" xlink:href=\"#mb81b7371db\" y=\"60.638644\"/>\r\n    </g>\r\n   </g>\r\n   <g id=\"PathCollection_138\">\r\n    <g clip-path=\"url(#p25b4feb0b7)\">\r\n     <use style=\"fill:#ff0000;stroke:#ff0000;\" x=\"213.326136\" xlink:href=\"#mb81b7371db\" y=\"63.989029\"/>\r\n    </g>\r\n   </g>\r\n   <g id=\"PathCollection_139\">\r\n    <g clip-path=\"url(#p25b4feb0b7)\">\r\n     <use style=\"fill:#ff0000;stroke:#ff0000;\" x=\"179.507955\" xlink:href=\"#mb81b7371db\" y=\"87.441726\"/>\r\n    </g>\r\n   </g>\r\n   <g id=\"PathCollection_140\">\r\n    <g clip-path=\"url(#p25b4feb0b7)\">\r\n     <use style=\"fill:#ff0000;stroke:#ff0000;\" x=\"255.598864\" xlink:href=\"#mb81b7371db\" y=\"67.339414\"/>\r\n    </g>\r\n   </g>\r\n   <g id=\"PathCollection_141\">\r\n    <g clip-path=\"url(#p25b4feb0b7)\">\r\n     <use style=\"fill:#ff0000;stroke:#ff0000;\" x=\"238.689773\" xlink:href=\"#mb81b7371db\" y=\"60.638644\"/>\r\n    </g>\r\n   </g>\r\n   <g id=\"PathCollection_142\">\r\n    <g clip-path=\"url(#p25b4feb0b7)\">\r\n     <use style=\"fill:#ff0000;stroke:#ff0000;\" x=\"255.598864\" xlink:href=\"#mb81b7371db\" y=\"77.39057\"/>\r\n    </g>\r\n   </g>\r\n   <g id=\"PathCollection_143\">\r\n    <g clip-path=\"url(#p25b4feb0b7)\">\r\n     <use style=\"fill:#ff0000;stroke:#ff0000;\" x=\"162.598864\" xlink:href=\"#mb81b7371db\" y=\"77.39057\"/>\r\n    </g>\r\n   </g>\r\n   <g id=\"PathCollection_144\">\r\n    <g clip-path=\"url(#p25b4feb0b7)\">\r\n     <use style=\"fill:#ff0000;stroke:#ff0000;\" x=\"247.144318\" xlink:href=\"#mb81b7371db\" y=\"50.587488\"/>\r\n    </g>\r\n   </g>\r\n   <g id=\"PathCollection_145\">\r\n    <g clip-path=\"url(#p25b4feb0b7)\">\r\n     <use style=\"fill:#ff0000;stroke:#ff0000;\" x=\"238.689773\" xlink:href=\"#mb81b7371db\" y=\"57.288259\"/>\r\n    </g>\r\n   </g>\r\n   <g id=\"PathCollection_146\">\r\n    <g clip-path=\"url(#p25b4feb0b7)\">\r\n     <use style=\"fill:#ff0000;stroke:#ff0000;\" x=\"238.689773\" xlink:href=\"#mb81b7371db\" y=\"74.040185\"/>\r\n    </g>\r\n   </g>\r\n   <g id=\"PathCollection_147\">\r\n    <g clip-path=\"url(#p25b4feb0b7)\">\r\n     <use style=\"fill:#ff0000;stroke:#ff0000;\" x=\"204.871591\" xlink:href=\"#mb81b7371db\" y=\"80.740955\"/>\r\n    </g>\r\n   </g>\r\n   <g id=\"PathCollection_148\">\r\n    <g clip-path=\"url(#p25b4feb0b7)\">\r\n     <use style=\"fill:#ff0000;stroke:#ff0000;\" x=\"221.780682\" xlink:href=\"#mb81b7371db\" y=\"74.040185\"/>\r\n    </g>\r\n   </g>\r\n   <g id=\"PathCollection_149\">\r\n    <g clip-path=\"url(#p25b4feb0b7)\">\r\n     <use style=\"fill:#ff0000;stroke:#ff0000;\" x=\"196.417045\" xlink:href=\"#mb81b7371db\" y=\"67.339414\"/>\r\n    </g>\r\n   </g>\r\n   <g id=\"PathCollection_150\">\r\n    <g clip-path=\"url(#p25b4feb0b7)\">\r\n     <use style=\"fill:#ff0000;stroke:#ff0000;\" x=\"171.053409\" xlink:href=\"#mb81b7371db\" y=\"77.39057\"/>\r\n    </g>\r\n   </g>\r\n   <g id=\"matplotlib.axis_1\">\r\n    <g id=\"xtick_1\">\r\n     <g id=\"line2d_1\">\r\n      <defs>\r\n       <path d=\"M 0 0 \r\nL 0 3.5 \r\n\" id=\"mfab3fe9a2a\" style=\"stroke:#000000;stroke-width:0.8;\"/>\r\n      </defs>\r\n      <g>\r\n       <use style=\"stroke:#000000;stroke-width:0.8;\" x=\"52.689773\" xlink:href=\"#mfab3fe9a2a\" y=\"224.64\"/>\r\n      </g>\r\n     </g>\r\n     <g id=\"text_1\">\r\n      <!-- 4.5 -->\r\n      <g transform=\"translate(44.73821 239.238437)scale(0.1 -0.1)\">\r\n       <defs>\r\n        <path d=\"M 2419 4116 \r\nL 825 1625 \r\nL 2419 1625 \r\nL 2419 4116 \r\nz\r\nM 2253 4666 \r\nL 3047 4666 \r\nL 3047 1625 \r\nL 3713 1625 \r\nL 3713 1100 \r\nL 3047 1100 \r\nL 3047 0 \r\nL 2419 0 \r\nL 2419 1100 \r\nL 313 1100 \r\nL 313 1709 \r\nL 2253 4666 \r\nz\r\n\" id=\"DejaVuSans-34\" transform=\"scale(0.015625)\"/>\r\n        <path d=\"M 684 794 \r\nL 1344 794 \r\nL 1344 0 \r\nL 684 0 \r\nL 684 794 \r\nz\r\n\" id=\"DejaVuSans-2e\" transform=\"scale(0.015625)\"/>\r\n        <path d=\"M 691 4666 \r\nL 3169 4666 \r\nL 3169 4134 \r\nL 1269 4134 \r\nL 1269 2991 \r\nQ 1406 3038 1543 3061 \r\nQ 1681 3084 1819 3084 \r\nQ 2600 3084 3056 2656 \r\nQ 3513 2228 3513 1497 \r\nQ 3513 744 3044 326 \r\nQ 2575 -91 1722 -91 \r\nQ 1428 -91 1123 -41 \r\nQ 819 9 494 109 \r\nL 494 744 \r\nQ 775 591 1075 516 \r\nQ 1375 441 1709 441 \r\nQ 2250 441 2565 725 \r\nQ 2881 1009 2881 1497 \r\nQ 2881 1984 2565 2268 \r\nQ 2250 2553 1709 2553 \r\nQ 1456 2553 1204 2497 \r\nQ 953 2441 691 2322 \r\nL 691 4666 \r\nz\r\n\" id=\"DejaVuSans-35\" transform=\"scale(0.015625)\"/>\r\n       </defs>\r\n       <use xlink:href=\"#DejaVuSans-34\"/>\r\n       <use x=\"63.623047\" xlink:href=\"#DejaVuSans-2e\"/>\r\n       <use x=\"95.410156\" xlink:href=\"#DejaVuSans-35\"/>\r\n      </g>\r\n     </g>\r\n    </g>\r\n    <g id=\"xtick_2\">\r\n     <g id=\"line2d_2\">\r\n      <g>\r\n       <use style=\"stroke:#000000;stroke-width:0.8;\" x=\"94.9625\" xlink:href=\"#mfab3fe9a2a\" y=\"224.64\"/>\r\n      </g>\r\n     </g>\r\n     <g id=\"text_2\">\r\n      <!-- 5.0 -->\r\n      <g transform=\"translate(87.010937 239.238437)scale(0.1 -0.1)\">\r\n       <defs>\r\n        <path d=\"M 2034 4250 \r\nQ 1547 4250 1301 3770 \r\nQ 1056 3291 1056 2328 \r\nQ 1056 1369 1301 889 \r\nQ 1547 409 2034 409 \r\nQ 2525 409 2770 889 \r\nQ 3016 1369 3016 2328 \r\nQ 3016 3291 2770 3770 \r\nQ 2525 4250 2034 4250 \r\nz\r\nM 2034 4750 \r\nQ 2819 4750 3233 4129 \r\nQ 3647 3509 3647 2328 \r\nQ 3647 1150 3233 529 \r\nQ 2819 -91 2034 -91 \r\nQ 1250 -91 836 529 \r\nQ 422 1150 422 2328 \r\nQ 422 3509 836 4129 \r\nQ 1250 4750 2034 4750 \r\nz\r\n\" id=\"DejaVuSans-30\" transform=\"scale(0.015625)\"/>\r\n       </defs>\r\n       <use xlink:href=\"#DejaVuSans-35\"/>\r\n       <use x=\"63.623047\" xlink:href=\"#DejaVuSans-2e\"/>\r\n       <use x=\"95.410156\" xlink:href=\"#DejaVuSans-30\"/>\r\n      </g>\r\n     </g>\r\n    </g>\r\n    <g id=\"xtick_3\">\r\n     <g id=\"line2d_3\">\r\n      <g>\r\n       <use style=\"stroke:#000000;stroke-width:0.8;\" x=\"137.235227\" xlink:href=\"#mfab3fe9a2a\" y=\"224.64\"/>\r\n      </g>\r\n     </g>\r\n     <g id=\"text_3\">\r\n      <!-- 5.5 -->\r\n      <g transform=\"translate(129.283665 239.238437)scale(0.1 -0.1)\">\r\n       <use xlink:href=\"#DejaVuSans-35\"/>\r\n       <use x=\"63.623047\" xlink:href=\"#DejaVuSans-2e\"/>\r\n       <use x=\"95.410156\" xlink:href=\"#DejaVuSans-35\"/>\r\n      </g>\r\n     </g>\r\n    </g>\r\n    <g id=\"xtick_4\">\r\n     <g id=\"line2d_4\">\r\n      <g>\r\n       <use style=\"stroke:#000000;stroke-width:0.8;\" x=\"179.507955\" xlink:href=\"#mfab3fe9a2a\" y=\"224.64\"/>\r\n      </g>\r\n     </g>\r\n     <g id=\"text_4\">\r\n      <!-- 6.0 -->\r\n      <g transform=\"translate(171.556392 239.238437)scale(0.1 -0.1)\">\r\n       <defs>\r\n        <path d=\"M 2113 2584 \r\nQ 1688 2584 1439 2293 \r\nQ 1191 2003 1191 1497 \r\nQ 1191 994 1439 701 \r\nQ 1688 409 2113 409 \r\nQ 2538 409 2786 701 \r\nQ 3034 994 3034 1497 \r\nQ 3034 2003 2786 2293 \r\nQ 2538 2584 2113 2584 \r\nz\r\nM 3366 4563 \r\nL 3366 3988 \r\nQ 3128 4100 2886 4159 \r\nQ 2644 4219 2406 4219 \r\nQ 1781 4219 1451 3797 \r\nQ 1122 3375 1075 2522 \r\nQ 1259 2794 1537 2939 \r\nQ 1816 3084 2150 3084 \r\nQ 2853 3084 3261 2657 \r\nQ 3669 2231 3669 1497 \r\nQ 3669 778 3244 343 \r\nQ 2819 -91 2113 -91 \r\nQ 1303 -91 875 529 \r\nQ 447 1150 447 2328 \r\nQ 447 3434 972 4092 \r\nQ 1497 4750 2381 4750 \r\nQ 2619 4750 2861 4703 \r\nQ 3103 4656 3366 4563 \r\nz\r\n\" id=\"DejaVuSans-36\" transform=\"scale(0.015625)\"/>\r\n       </defs>\r\n       <use xlink:href=\"#DejaVuSans-36\"/>\r\n       <use x=\"63.623047\" xlink:href=\"#DejaVuSans-2e\"/>\r\n       <use x=\"95.410156\" xlink:href=\"#DejaVuSans-30\"/>\r\n      </g>\r\n     </g>\r\n    </g>\r\n    <g id=\"xtick_5\">\r\n     <g id=\"line2d_5\">\r\n      <g>\r\n       <use style=\"stroke:#000000;stroke-width:0.8;\" x=\"221.780682\" xlink:href=\"#mfab3fe9a2a\" y=\"224.64\"/>\r\n      </g>\r\n     </g>\r\n     <g id=\"text_5\">\r\n      <!-- 6.5 -->\r\n      <g transform=\"translate(213.829119 239.238437)scale(0.1 -0.1)\">\r\n       <use xlink:href=\"#DejaVuSans-36\"/>\r\n       <use x=\"63.623047\" xlink:href=\"#DejaVuSans-2e\"/>\r\n       <use x=\"95.410156\" xlink:href=\"#DejaVuSans-35\"/>\r\n      </g>\r\n     </g>\r\n    </g>\r\n    <g id=\"xtick_6\">\r\n     <g id=\"line2d_6\">\r\n      <g>\r\n       <use style=\"stroke:#000000;stroke-width:0.8;\" x=\"264.053409\" xlink:href=\"#mfab3fe9a2a\" y=\"224.64\"/>\r\n      </g>\r\n     </g>\r\n     <g id=\"text_6\">\r\n      <!-- 7.0 -->\r\n      <g transform=\"translate(256.101847 239.238437)scale(0.1 -0.1)\">\r\n       <defs>\r\n        <path d=\"M 525 4666 \r\nL 3525 4666 \r\nL 3525 4397 \r\nL 1831 0 \r\nL 1172 0 \r\nL 2766 4134 \r\nL 525 4134 \r\nL 525 4666 \r\nz\r\n\" id=\"DejaVuSans-37\" transform=\"scale(0.015625)\"/>\r\n       </defs>\r\n       <use xlink:href=\"#DejaVuSans-37\"/>\r\n       <use x=\"63.623047\" xlink:href=\"#DejaVuSans-2e\"/>\r\n       <use x=\"95.410156\" xlink:href=\"#DejaVuSans-30\"/>\r\n      </g>\r\n     </g>\r\n    </g>\r\n    <g id=\"xtick_7\">\r\n     <g id=\"line2d_7\">\r\n      <g>\r\n       <use style=\"stroke:#000000;stroke-width:0.8;\" x=\"306.326136\" xlink:href=\"#mfab3fe9a2a\" y=\"224.64\"/>\r\n      </g>\r\n     </g>\r\n     <g id=\"text_7\">\r\n      <!-- 7.5 -->\r\n      <g transform=\"translate(298.374574 239.238437)scale(0.1 -0.1)\">\r\n       <use xlink:href=\"#DejaVuSans-37\"/>\r\n       <use x=\"63.623047\" xlink:href=\"#DejaVuSans-2e\"/>\r\n       <use x=\"95.410156\" xlink:href=\"#DejaVuSans-35\"/>\r\n      </g>\r\n     </g>\r\n    </g>\r\n    <g id=\"xtick_8\">\r\n     <g id=\"line2d_8\">\r\n      <g>\r\n       <use style=\"stroke:#000000;stroke-width:0.8;\" x=\"348.598864\" xlink:href=\"#mfab3fe9a2a\" y=\"224.64\"/>\r\n      </g>\r\n     </g>\r\n     <g id=\"text_8\">\r\n      <!-- 8.0 -->\r\n      <g transform=\"translate(340.647301 239.238437)scale(0.1 -0.1)\">\r\n       <defs>\r\n        <path d=\"M 2034 2216 \r\nQ 1584 2216 1326 1975 \r\nQ 1069 1734 1069 1313 \r\nQ 1069 891 1326 650 \r\nQ 1584 409 2034 409 \r\nQ 2484 409 2743 651 \r\nQ 3003 894 3003 1313 \r\nQ 3003 1734 2745 1975 \r\nQ 2488 2216 2034 2216 \r\nz\r\nM 1403 2484 \r\nQ 997 2584 770 2862 \r\nQ 544 3141 544 3541 \r\nQ 544 4100 942 4425 \r\nQ 1341 4750 2034 4750 \r\nQ 2731 4750 3128 4425 \r\nQ 3525 4100 3525 3541 \r\nQ 3525 3141 3298 2862 \r\nQ 3072 2584 2669 2484 \r\nQ 3125 2378 3379 2068 \r\nQ 3634 1759 3634 1313 \r\nQ 3634 634 3220 271 \r\nQ 2806 -91 2034 -91 \r\nQ 1263 -91 848 271 \r\nQ 434 634 434 1313 \r\nQ 434 1759 690 2068 \r\nQ 947 2378 1403 2484 \r\nz\r\nM 1172 3481 \r\nQ 1172 3119 1398 2916 \r\nQ 1625 2713 2034 2713 \r\nQ 2441 2713 2670 2916 \r\nQ 2900 3119 2900 3481 \r\nQ 2900 3844 2670 4047 \r\nQ 2441 4250 2034 4250 \r\nQ 1625 4250 1398 4047 \r\nQ 1172 3844 1172 3481 \r\nz\r\n\" id=\"DejaVuSans-38\" transform=\"scale(0.015625)\"/>\r\n       </defs>\r\n       <use xlink:href=\"#DejaVuSans-38\"/>\r\n       <use x=\"63.623047\" xlink:href=\"#DejaVuSans-2e\"/>\r\n       <use x=\"95.410156\" xlink:href=\"#DejaVuSans-30\"/>\r\n      </g>\r\n     </g>\r\n    </g>\r\n   </g>\r\n   <g id=\"matplotlib.axis_2\">\r\n    <g id=\"ytick_1\">\r\n     <g id=\"line2d_9\">\r\n      <defs>\r\n       <path d=\"M 0 0 \r\nL -3.5 0 \r\n\" id=\"m45e660489c\" style=\"stroke:#000000;stroke-width:0.8;\"/>\r\n      </defs>\r\n      <g>\r\n       <use style=\"stroke:#000000;stroke-width:0.8;\" x=\"20.5625\" xlink:href=\"#m45e660489c\" y=\"214.756364\"/>\r\n      </g>\r\n     </g>\r\n     <g id=\"text_9\">\r\n      <!-- 1 -->\r\n      <g transform=\"translate(7.2 218.555582)scale(0.1 -0.1)\">\r\n       <defs>\r\n        <path d=\"M 794 531 \r\nL 1825 531 \r\nL 1825 4091 \r\nL 703 3866 \r\nL 703 4441 \r\nL 1819 4666 \r\nL 2450 4666 \r\nL 2450 531 \r\nL 3481 531 \r\nL 3481 0 \r\nL 794 0 \r\nL 794 531 \r\nz\r\n\" id=\"DejaVuSans-31\" transform=\"scale(0.015625)\"/>\r\n       </defs>\r\n       <use xlink:href=\"#DejaVuSans-31\"/>\r\n      </g>\r\n     </g>\r\n    </g>\r\n    <g id=\"ytick_2\">\r\n     <g id=\"line2d_10\">\r\n      <g>\r\n       <use style=\"stroke:#000000;stroke-width:0.8;\" x=\"20.5625\" xlink:href=\"#m45e660489c\" y=\"181.252512\"/>\r\n      </g>\r\n     </g>\r\n     <g id=\"text_10\">\r\n      <!-- 2 -->\r\n      <g transform=\"translate(7.2 185.05173)scale(0.1 -0.1)\">\r\n       <defs>\r\n        <path d=\"M 1228 531 \r\nL 3431 531 \r\nL 3431 0 \r\nL 469 0 \r\nL 469 531 \r\nQ 828 903 1448 1529 \r\nQ 2069 2156 2228 2338 \r\nQ 2531 2678 2651 2914 \r\nQ 2772 3150 2772 3378 \r\nQ 2772 3750 2511 3984 \r\nQ 2250 4219 1831 4219 \r\nQ 1534 4219 1204 4116 \r\nQ 875 4013 500 3803 \r\nL 500 4441 \r\nQ 881 4594 1212 4672 \r\nQ 1544 4750 1819 4750 \r\nQ 2544 4750 2975 4387 \r\nQ 3406 4025 3406 3419 \r\nQ 3406 3131 3298 2873 \r\nQ 3191 2616 2906 2266 \r\nQ 2828 2175 2409 1742 \r\nQ 1991 1309 1228 531 \r\nz\r\n\" id=\"DejaVuSans-32\" transform=\"scale(0.015625)\"/>\r\n       </defs>\r\n       <use xlink:href=\"#DejaVuSans-32\"/>\r\n      </g>\r\n     </g>\r\n    </g>\r\n    <g id=\"ytick_3\">\r\n     <g id=\"line2d_11\">\r\n      <g>\r\n       <use style=\"stroke:#000000;stroke-width:0.8;\" x=\"20.5625\" xlink:href=\"#m45e660489c\" y=\"147.748659\"/>\r\n      </g>\r\n     </g>\r\n     <g id=\"text_11\">\r\n      <!-- 3 -->\r\n      <g transform=\"translate(7.2 151.547878)scale(0.1 -0.1)\">\r\n       <defs>\r\n        <path d=\"M 2597 2516 \r\nQ 3050 2419 3304 2112 \r\nQ 3559 1806 3559 1356 \r\nQ 3559 666 3084 287 \r\nQ 2609 -91 1734 -91 \r\nQ 1441 -91 1130 -33 \r\nQ 819 25 488 141 \r\nL 488 750 \r\nQ 750 597 1062 519 \r\nQ 1375 441 1716 441 \r\nQ 2309 441 2620 675 \r\nQ 2931 909 2931 1356 \r\nQ 2931 1769 2642 2001 \r\nQ 2353 2234 1838 2234 \r\nL 1294 2234 \r\nL 1294 2753 \r\nL 1863 2753 \r\nQ 2328 2753 2575 2939 \r\nQ 2822 3125 2822 3475 \r\nQ 2822 3834 2567 4026 \r\nQ 2313 4219 1838 4219 \r\nQ 1578 4219 1281 4162 \r\nQ 984 4106 628 3988 \r\nL 628 4550 \r\nQ 988 4650 1302 4700 \r\nQ 1616 4750 1894 4750 \r\nQ 2613 4750 3031 4423 \r\nQ 3450 4097 3450 3541 \r\nQ 3450 3153 3228 2886 \r\nQ 3006 2619 2597 2516 \r\nz\r\n\" id=\"DejaVuSans-33\" transform=\"scale(0.015625)\"/>\r\n       </defs>\r\n       <use xlink:href=\"#DejaVuSans-33\"/>\r\n      </g>\r\n     </g>\r\n    </g>\r\n    <g id=\"ytick_4\">\r\n     <g id=\"line2d_12\">\r\n      <g>\r\n       <use style=\"stroke:#000000;stroke-width:0.8;\" x=\"20.5625\" xlink:href=\"#m45e660489c\" y=\"114.244807\"/>\r\n      </g>\r\n     </g>\r\n     <g id=\"text_12\">\r\n      <!-- 4 -->\r\n      <g transform=\"translate(7.2 118.044026)scale(0.1 -0.1)\">\r\n       <use xlink:href=\"#DejaVuSans-34\"/>\r\n      </g>\r\n     </g>\r\n    </g>\r\n    <g id=\"ytick_5\">\r\n     <g id=\"line2d_13\">\r\n      <g>\r\n       <use style=\"stroke:#000000;stroke-width:0.8;\" x=\"20.5625\" xlink:href=\"#m45e660489c\" y=\"80.740955\"/>\r\n      </g>\r\n     </g>\r\n     <g id=\"text_13\">\r\n      <!-- 5 -->\r\n      <g transform=\"translate(7.2 84.540174)scale(0.1 -0.1)\">\r\n       <use xlink:href=\"#DejaVuSans-35\"/>\r\n      </g>\r\n     </g>\r\n    </g>\r\n    <g id=\"ytick_6\">\r\n     <g id=\"line2d_14\">\r\n      <g>\r\n       <use style=\"stroke:#000000;stroke-width:0.8;\" x=\"20.5625\" xlink:href=\"#m45e660489c\" y=\"47.237103\"/>\r\n      </g>\r\n     </g>\r\n     <g id=\"text_14\">\r\n      <!-- 6 -->\r\n      <g transform=\"translate(7.2 51.036322)scale(0.1 -0.1)\">\r\n       <use xlink:href=\"#DejaVuSans-36\"/>\r\n      </g>\r\n     </g>\r\n    </g>\r\n    <g id=\"ytick_7\">\r\n     <g id=\"line2d_15\">\r\n      <g>\r\n       <use style=\"stroke:#000000;stroke-width:0.8;\" x=\"20.5625\" xlink:href=\"#m45e660489c\" y=\"13.733251\"/>\r\n      </g>\r\n     </g>\r\n     <g id=\"text_15\">\r\n      <!-- 7 -->\r\n      <g transform=\"translate(7.2 17.53247)scale(0.1 -0.1)\">\r\n       <use xlink:href=\"#DejaVuSans-37\"/>\r\n      </g>\r\n     </g>\r\n    </g>\r\n   </g>\r\n   <g id=\"patch_3\">\r\n    <path d=\"M 20.5625 224.64 \r\nL 20.5625 7.2 \r\n\" style=\"fill:none;stroke:#000000;stroke-linecap:square;stroke-linejoin:miter;stroke-width:0.8;\"/>\r\n   </g>\r\n   <g id=\"patch_4\">\r\n    <path d=\"M 355.3625 224.64 \r\nL 355.3625 7.2 \r\n\" style=\"fill:none;stroke:#000000;stroke-linecap:square;stroke-linejoin:miter;stroke-width:0.8;\"/>\r\n   </g>\r\n   <g id=\"patch_5\">\r\n    <path d=\"M 20.5625 224.64 \r\nL 355.3625 224.64 \r\n\" style=\"fill:none;stroke:#000000;stroke-linecap:square;stroke-linejoin:miter;stroke-width:0.8;\"/>\r\n   </g>\r\n   <g id=\"patch_6\">\r\n    <path d=\"M 20.5625 7.2 \r\nL 355.3625 7.2 \r\n\" style=\"fill:none;stroke:#000000;stroke-linecap:square;stroke-linejoin:miter;stroke-width:0.8;\"/>\r\n   </g>\r\n  </g>\r\n </g>\r\n <defs>\r\n  <clipPath id=\"p25b4feb0b7\">\r\n   <rect height=\"217.44\" width=\"334.8\" x=\"20.5625\" y=\"7.2\"/>\r\n  </clipPath>\r\n </defs>\r\n</svg>\r\n",
      "image/png": "[encoded data removed]"
     },
     "metadata": {
      "needs_background": "light"
     }
    }
   ],
   "source": [
    "\n",
    "for i in range(n):\n",
    "    plt.scatter(data[i, 1], data[i,3], color = colors[int(category[i])], label = category[i])"
   ]
  },
  {
   "cell_type": "code",
   "execution_count": 43,
   "metadata": {},
   "outputs": [
    {
     "output_type": "stream",
     "name": "stdout",
     "text": [
      "52 52 46\n"
     ]
    }
   ],
   "source": [
    "sp =0\n",
    "sp2 = 0\n",
    "sp3= 0\n",
    "for i in range(n):\n",
    "    if category[i] == 0:\n",
    "        sp += 1\n",
    "    elif category[i] == 1:\n",
    "        sp2 += 1\n",
    "    elif category[i] == 2:\n",
    "        sp3 += 1\n",
    "print(sp, sp2, sp3)    "
   ]
  },
  {
   "cell_type": "code",
   "execution_count": null,
   "metadata": {},
   "outputs": [],
   "source": []
  }
 ],
 "metadata": {
  "interpreter": {
   "hash": "db1a8c55cd8c57749aba357ad6d7f02ea33a41f5335b95db64c81822b40200a7"
  },
  "kernelspec": {
   "name": "python3",
   "display_name": "Python 3.9.4 64-bit"
  },
  "language_info": {
   "codemirror_mode": {
    "name": "ipython",
    "version": 3
   },
   "file_extension": ".py",
   "mimetype": "text/x-python",
   "name": "python",
   "nbconvert_exporter": "python",
   "pygments_lexer": "ipython3",
   "version": "3.9.4"
  },
  "orig_nbformat": 4
 },
 "nbformat": 4,
 "nbformat_minor": 2
}