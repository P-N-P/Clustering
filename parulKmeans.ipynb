{
 "cells": [
  {
   "cell_type": "code",
   "execution_count": 1,
   "id": "7bcc6bc2-2dbe-42d5-9110-4fbc53d2d97e",
   "metadata": {},
   "outputs": [
    {
     "name": "stdout",
     "output_type": "stream",
     "text": [
      "{0: {0: 4.9904761904761905, 1: 2.91904761904762}, 1: {0: 6.446987951807225, 1: 2.9289156626506028}, 2: {0: 5.272, 1: 3.6959999999999997}}\n"
     ]
    },
    {
     "data": {
      "image/png": "[encoded data removed]",
      "text/plain": [
       "<Figure size 432x288 with 1 Axes>"
      ]
     },
     "metadata": {
      "needs_background": "light"
     },
     "output_type": "display_data"
    }
   ],
   "source": [
    "import numpy as np\n",
    "from numpy.lib.shape_base import _kron_dispatcher\n",
    "import pandas as pd\n",
    "import seaborn as sns\n",
    "import math\n",
    "import random\n",
    "import matplotlib.pyplot as plt\n",
    "import os\n",
    "from sklearn.preprocessing import LabelEncoder\n",
    "le = LabelEncoder()\n",
    "\n",
    "df = pd.read_csv('iris.csv')\n",
    "df.head()\n",
    "\n",
    "k = 3          #no of clusters\n",
    "colors = ['red', 'blue', 'green']\n",
    "species = ['setosa', 'versicolor', 'virginica']\n",
    "for i in range(3):\n",
    "  x = df[df['species'] == species[i]]\n",
    "  plt.scatter(x['sepal_length'], x['sepal_width'], c = colors[i], label = species[i])\n",
    "\n",
    "df['species'] = le.fit_transform(df['species'])\n",
    "\n",
    "sl = df['sepal_length']\n",
    "sw = df['sepal_width']\n",
    "pl = df['petal_length']\n",
    "pw = df['petal_width']\n",
    "\n",
    "measure = {0: sl, 1: sw}\n",
    "r2 = random.randint(0,len(sl))\n",
    "r3 = random.randint(0,len(sl))\n",
    "cluster = {0: {0: random.choice(df.loc[df['species'] == 0]['sepal_length']), 1: random.choice(df.loc[df['species'] == 0]['sepal_width'])}, 1: {0: sl[50], 1: sw[50]}, 2: {0: sl[100], 1: sw[100]}}\n",
    "plotgr = {}\n",
    "\n",
    "\n",
    "for i in range(0, 15):\n",
    "  xs =[]\n",
    "  ys = []\n",
    "  xver = []\n",
    "  yver = []\n",
    "  xvi = []\n",
    "  yvi = []\n",
    "\n",
    "\n",
    "  for i in range(0, len(sl)):\n",
    "    d1 = 0\n",
    "    d2 = 0\n",
    "    d3 = 0\n",
    "    for j in range(0, 2):\n",
    "      d1 += (cluster[0][j] - measure[j][i])*(cluster[0][j] - measure[j][i])\n",
    "      d2 += (cluster[1][j] - measure[j][i])*(cluster[1][j] - measure[j][i])\n",
    "      d3 += (cluster[2][j] - measure[j][i])*(cluster[2][j] - measure[j][i])\n",
    "    \n",
    "\n",
    "    minimum = min(math.sqrt(d1), math.sqrt(d2), math.sqrt(d3))\n",
    "\n",
    "    if minimum == math.sqrt(d1):\n",
    "      xs.append(measure[0][i])\n",
    "      ys.append(measure[1][i])\n",
    "      cluster[0][0] = sum(xs)/len(xs)\n",
    "      cluster[0][1] = sum(ys)/len(ys)\n",
    "\n",
    "    elif minimum == math.sqrt(d2):\n",
    "      xver.append(measure[0][i])\n",
    "      yver.append(measure[1][i])\n",
    "      cluster[1][0] = sum(xver)/len(xver)\n",
    "      cluster[1][1] = sum(yver)/len(yver)\n",
    "\n",
    "    elif minimum == math.sqrt(d3):\n",
    "      xvi.append(measure[0][i])\n",
    "      yvi.append(measure[1][i])\n",
    "      cluster[2][0] = sum(xvi)/len(xvi)\n",
    "      cluster[2][1] = sum(yvi)/len(yvi)  \n",
    "\n",
    "    plotgr = {0: {0: xs, 1: ys}, 1: {0:xver, 1: yver}, 2: {0:xvi, 1: yvi}}\n",
    "    \n",
    "#print(cluster, len(xs), len(xvi), len(xver))\n",
    "for i in range(0, 3):\n",
    " plt.scatter(plotgr[j][0], plotgr[j][1], c = colors[i])\n",
    "print(cluster)"
   ]
  },
  {
   "cell_type": "code",
   "execution_count": 13,
   "id": "33f64222-b883-4cdc-8d80-4ea8d0e9ee29",
   "metadata": {},
   "outputs": [
    {
     "data": {
      "image/png": "[encoded data removed]",
      "text/plain": [
       "<Figure size 432x288 with 1 Axes>"
      ]
     },
     "metadata": {
      "needs_background": "light"
     },
     "output_type": "display_data"
    }
   ],
   "source": [
    "species = [0, 1, 2]\n",
    "\n",
    "for i in range(3):\n",
    "        x = df[df['species'] == species[i]]\n",
    "        plt.scatter(x['sepal_length'], x['sepal_width'], c = colors[i])\n",
    "        "
   ]
  },
  {
   "cell_type": "code",
   "execution_count": null,
   "id": "458d7481-7194-4eee-8c8d-69569ca83d03",
   "metadata": {},
   "outputs": [],
   "source": []
  }
 ],
 "metadata": {
  "kernelspec": {
   "display_name": "Python 3",
   "language": "python",
   "name": "python3"
  },
  "language_info": {
   "codemirror_mode": {
    "name": "ipython",
    "version": 3
   },
   "file_extension": ".py",
   "mimetype": "text/x-python",
   "name": "python",
   "nbconvert_exporter": "python",
   "pygments_lexer": "ipython3",
   "version": "3.8.2"
  }
 },
 "nbformat": 4,
 "nbformat_minor": 5
}
